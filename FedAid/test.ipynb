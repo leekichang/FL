{
 "cells": [
  {
   "cell_type": "code",
   "execution_count": 122,
   "metadata": {},
   "outputs": [],
   "source": [
    "import warnings\n",
    "\n",
    "import os\n",
    "import copy\n",
    "import torch\n",
    "import config as cfg\n",
    "import torch.nn as nn\n",
    "from torch.optim import SGD\n",
    "from models.simpleNet import Net\n",
    "import sklearn.metrics as metrics\n",
    "from torch.utils.data import DataLoader\n",
    "\n",
    "warnings.filterwarnings(action='ignore')\n",
    "import torch.utils.tensorboard as tb\n",
    "from datamanager import *\n",
    "\n",
    "def fgsm(signal, epsilon, gradient, aid):\n",
    "        if epsilon == 0:\n",
    "            return signal\n",
    "        if aid == True:\n",
    "            aid = -1\n",
    "        else:\n",
    "            aid = 1\n",
    "        perturbation = torch.mul(gradient.sign(), aid*epsilon)\n",
    "        perturbed_signal = signal + perturbation\n",
    "        return perturbed_signal\n",
    "    \n",
    "class Client():\n",
    "    def __init__(self, client_id:str, model:nn.Module, data_info:dict=None, device:str=cfg.DEVICE):\n",
    "        self.id                         = client_id\n",
    "        #self.cfg = cfg\n",
    "        \n",
    "        self.__model                    = None\n",
    "        self.T                          = 1\n",
    "        self.device                     = device\n",
    "        \n",
    "        self.train_info, self.test_info = data_info['train'], data_info['test'] # 함수화하기\n",
    "        self.trainset, self.testset     = FEMNIST(self.train_info), FEMNIST(self.test_info)\n",
    "        self.selected_rounds            = []\n",
    "        \n",
    "        self.aid                        = torch.zeros((1, 784))\n",
    "        self.epsilon                    = 0.1\n",
    "        \n",
    "    @property\n",
    "    def model(self):             \n",
    "        return self.__model\n",
    "\n",
    "    @model.setter\n",
    "    def model(self, model):\n",
    "        self.__model = model\n",
    "    \n",
    "    def __len__(self):\n",
    "        return len(self.trainset)\n",
    "    \n",
    "    def setup(self):\n",
    "        self.train_loader = DataLoader(self.trainset, batch_size=16, shuffle=True)\n",
    "        self.test_loader  = DataLoader(self.testset, batch_size=16, shuffle=False)\n",
    "        self.optimizer    = SGD(self.model.parameters(), lr=0.001)     # TODO: utils.get_optimizer(cfg['optim']:str)\n",
    "        self.criterion    = nn.CrossEntropyLoss()                     # TODO: utils.get_loss(cfg['loss']:str)\n",
    "        self.epochs       = 10\n",
    "    \n",
    "    def local_train(self)->None:\n",
    "        self.model.train()\n",
    "        self.model.to(self.device)\n",
    "        # TRAINING\n",
    "        for epoch in range(self.epochs):\n",
    "            for idx, batch in enumerate(self.train_loader):\n",
    "                self.optimizer.zero_grad()\n",
    "                X, Y = batch\n",
    "                X    = X + self.aid\n",
    "                X, Y = X.to(self.device), Y.to(self.device)\n",
    "                pred = self.model(X)/self.T\n",
    "                loss = self.criterion(pred, Y)\n",
    "                loss.backward()\n",
    "                self.optimizer.step()\n",
    "                if \"cuda\" in self.device : torch.cuda.empty_cache()\n",
    "        # TESTING\n",
    "        self.get_aid()\n",
    "        self.model.eval()\n",
    "        self.model.to(self.device)\n",
    "        with torch.no_grad():\n",
    "            loss_trace, result_pred, result_anno = [], [], []\n",
    "            for idx, batch in enumerate(self.train_loader):\n",
    "                X, Y = batch\n",
    "                X    = X + self.aid\n",
    "                X, Y = X.to(self.device), Y.to(self.device)\n",
    "                pred = self.model(X) / self.T\n",
    "                loss = self.criterion(pred, Y)\n",
    "                loss_trace.append(loss.to('cpu').detach().numpy())\n",
    "                pred_np  = pred.to('cpu').detach().numpy()\n",
    "                pred_np  = np.argmax(pred_np, axis=1).squeeze()\n",
    "                Y_np     = Y.to('cpu').detach().numpy().reshape(-1, 1).squeeze()\n",
    "                result_pred = np.hstack((result_pred, pred_np))\n",
    "                result_anno = np.hstack((result_anno, Y_np))\n",
    "                if \"cuda\" in self.device : torch.cuda.empty_cache()\n",
    "            train_acc = metrics.accuracy_score(y_true=result_anno, y_pred=result_pred)\n",
    "            train_loss = np.average(loss_trace)\n",
    "            self.model.to('cpu')\n",
    "        \n",
    "        print(f'=== Client {self.id} Finished Training {len(self)} samples with T = {self.T} ===')\n",
    "        print(f'client:{self.id} | Train Acc:{train_acc*100:.2f} | Train Loss:{train_loss:.4f}')\n",
    "    \n",
    "    def get_aid(self):\n",
    "        self.model.to(self.device)\n",
    "        tmp = torch.zeros(self.aid.shape)\n",
    "        for idx, batch in enumerate(self.train_loader):\n",
    "            self.optimizer.zero_grad()\n",
    "            X, Y = batch\n",
    "            X    = X + self.aid\n",
    "            X, Y = X.to(self.device), Y.to(self.device)\n",
    "            X.requires_grad_(True)\n",
    "            \n",
    "            pred = self.model(X) / self.T\n",
    "            loss = self.criterion(pred, Y)\n",
    "            loss.backward()\n",
    "            \n",
    "            gradient = (-1 * X.grad.data.sign() * self.epsilon).to('cpu')\n",
    "            tmp = torch.cat([tmp, gradient], dim=0)\n",
    "            if \"cuda\" in self.device : torch.cuda.empty_cache()\n",
    "        self.aid = torch.mean(tmp, dim=0).reshape(1,-1)\n",
    "        \n",
    "    \n",
    "    def local_test(self):\n",
    "        self.model.eval()\n",
    "        self.model.to(self.device)\n",
    "        with torch.no_grad():\n",
    "            loss_trace, result_pred, result_anno = [], [], []\n",
    "            for idx, batch in enumerate(self.test_loader):\n",
    "                X, Y = batch\n",
    "                X    = X + self.aid\n",
    "                X, Y = X.to(self.device), Y.to(self.device)\n",
    "                pred = self.model(X) / self.T\n",
    "                loss = self.criterion(pred, Y)\n",
    "                loss_trace.append(loss.to('cpu').detach().numpy())\n",
    "                pred_np  = pred.to('cpu').detach().numpy()\n",
    "                pred_np  = np.argmax(pred_np, axis=1).squeeze()\n",
    "                Y_np     = Y.to('cpu').detach().numpy().reshape(-1, 1).squeeze()\n",
    "                result_pred = np.hstack((result_pred, pred_np))\n",
    "                result_anno = np.hstack((result_anno, Y_np))\n",
    "                if \"cuda\" in self.device : torch.cuda.empty_cache()\n",
    "            test_acc = metrics.accuracy_score(y_true=result_anno, y_pred=result_pred)\n",
    "            test_loss = np.average(loss_trace)\n",
    "            print(f'client:{self.id} | Test Acc:{test_acc*100:.2f} | Test Loss:{test_loss:.4f}')\n",
    "            self.model.to('cpu')"
   ]
  },
  {
   "cell_type": "code",
   "execution_count": 123,
   "metadata": {},
   "outputs": [],
   "source": [
    "import os\n",
    "import copy\n",
    "import utils\n",
    "import torch\n",
    "import numpy as np\n",
    "from models import *\n",
    "from server import *\n",
    "import config as cfg\n",
    "import torch.nn as nn\n",
    "from tqdm import tqdm\n",
    "from datamanager import *\n",
    "from datetime import datetime\n",
    "from models.simpleNet import Net\n",
    "import sklearn.metrics as metrics\n",
    "from collections import OrderedDict\n",
    "from multiprocessing import Process\n",
    "from torch.utils.data import DataLoader\n",
    "\n",
    "class Server():\n",
    "    def __init__(self, DM_dict:dict, args_dict:dict, algorithm:str=None):\n",
    "        self.train_DM       = DM_dict['train']\n",
    "        self.test_DM        = DM_dict['test']\n",
    "        self.clients        = None\n",
    "        self.args_dict      = args_dict\n",
    "        self.device         = cfg.DEVICE\n",
    "        self.global_model   = utils.get_model(args_dict['model'])\n",
    "        self.criterion      = nn.CrossEntropyLoss()              # TODO: utils.get_loss(cfg['loss']:str)\n",
    "        self.mp_flag        = False\n",
    "        self.round          = 0\n",
    "        self.rounds         = 10\n",
    "        self.T_type         = args_dict['T_type']\n",
    "        self.T              = []\n",
    "        self.TB_WRITER      = tb.SummaryWriter(f'./tensorboard/{str(datetime.now().strftime(\"%Y-%m-%d_%H:%M:%S\"))}_{args_dict[\"model\"]}_{args_dict[\"dataset\"]}_{cfg.T_dict[self.T_type]}')\n",
    "        self.global_aid     = torch.zeros((1,784))\n",
    "    def setup(self):\n",
    "        self.clients    = self.create_clients()\n",
    "        self.data       = FEMNIST(self.test_DM.global_test_data)\n",
    "        self.dataloader = DataLoader(self.data, batch_size=256, shuffle=False)\n",
    "        self.transmit_model()\n",
    "        self.setup_clients()\n",
    "        \n",
    "    def create_clients(self, n_users:int=35):\n",
    "        self.user_ids   = self.test_DM.users\n",
    "        self.user_ids   = np.random.choice(self.user_ids, n_users, replace=False)\n",
    "        for i in range(n_users):\n",
    "            self.T.append(cfg.T_dict[self.T_type])\n",
    "        self.mean_T = np.average(self.T)\n",
    "        # TODO: T 종류별로 미리 정해두기\n",
    "        \n",
    "        clients         = {}\n",
    "        for idx, user in enumerate(self.user_ids): \n",
    "            data_info           = {'train':self.train_DM.data[user],\\\n",
    "                                   'test' : self.test_DM.data[user]}\n",
    "            \n",
    "            clients[user]       = Client(client_id=user, model=self.global_model, data_info=data_info, device=self.device)\n",
    "            clients[user].model = copy.deepcopy(self.global_model)\n",
    "            clients[user].T     = self.T[idx]\n",
    "        return clients\n",
    "    \n",
    "    \n",
    "    def setup_clients(self)->None:\n",
    "        for k, client in tqdm(enumerate(self.clients), leave=False):\n",
    "            self.clients[client].setup()\n",
    "    \n",
    "    \n",
    "    def transmit_model(self, sampled_clients:list=None)->None:\n",
    "        if sampled_clients == None:   \n",
    "            for client in tqdm(self.clients, leave=False):\n",
    "                self.clients[client].model.load_state_dict(copy.deepcopy(self.global_model.state_dict()))\n",
    "                self.clients[client].aid = copy.deepcopy(self.global_aid)\n",
    "        else:\n",
    "            for client in tqdm(sampled_clients, leave=False):\n",
    "                # self.clients[client].model.load_state_dict(copy.deepcopy(self.global_model.state_dict()))\n",
    "                self.clients[client].aid = copy.deepcopy(self.global_aid)\n",
    "\n",
    "\n",
    "    def sample_clients(self, n_participant:int=10)->np.array:\n",
    "        assert n_participant <= len(self.user_ids), \"Check 'n_participant <= len(self.clients)'\"\n",
    "        selected_clients = np.random.choice(self.user_ids, n_participant, replace=False) \n",
    "        for client in selected_clients:\n",
    "            self.clients[client].selected_rounds.append(self.round)\n",
    "        return selected_clients\n",
    "\n",
    "    \n",
    "    def train_selected_clients(self, sampled_clients:list)->None:\n",
    "        total_sample = 0\n",
    "        for client in tqdm(sampled_clients, leave=False):\n",
    "            self.clients[client].local_train()\n",
    "            total_sample += len(self.clients[client])\n",
    "        return total_sample\n",
    "    \n",
    "    \n",
    "    def mp_train_selected_clients(self, procnum:int, client:str)->None:\n",
    "        self.clients[client].local_train()\n",
    "    \n",
    "    \n",
    "    def test_selected_models(self, sampled_clients):\n",
    "        for client in sampled_clients:\n",
    "            self.clients[client].local_test()\n",
    "\n",
    "\n",
    "    def mp_test_selected_models(self, procnum:int, client:str):\n",
    "        self.clients[client].local_test()\n",
    "    \n",
    "    \n",
    "    def average_model(self, sampled_clients, coefficients):\n",
    "        averaged_weights = OrderedDict()\n",
    "        tmp = torch.zeros(self.global_aid.shape)\n",
    "        for it, client in tqdm(enumerate(sampled_clients), leave=False):\n",
    "            local_weights = self.clients[client].model.state_dict()\n",
    "            for key in self.global_model.state_dict().keys():\n",
    "                if it == 0:\n",
    "                    averaged_weights[key] = coefficients[it] * local_weights[key]\n",
    "                else:\n",
    "                    averaged_weights[key] += coefficients[it] * local_weights[key]\n",
    "            tmp += coefficients[it] * self.clients[client].aid\n",
    "        self.global_model.load_state_dict(averaged_weights)\n",
    "        self.global_aid = tmp\n",
    "    \n",
    "    \n",
    "    def update_model(self, train_result:dict, layers:list=None):\n",
    "        self.received_models, num_samples = [], []\n",
    "        for result in train_result:\n",
    "            self.received_models.append(result['model'])\n",
    "            num_samples.append(result['num_sample'])\n",
    "        state = self.Algorithm(self.received_models, num_samples, layers)\n",
    "        self.global_model.load_state_dict(state)\n",
    "\n",
    "\n",
    "    def train_federated_model(self):\n",
    "        self.round += 1\n",
    "        sampled_clients = self.sample_clients()\n",
    "        print(f\"CLIENTS {sampled_clients} ARE SELECTED!\\n\")\n",
    "        \n",
    "        if self.mp_flag:\n",
    "            print(\"TRAIN WITH MP!\\n\")\n",
    "            procs = []\n",
    "            selected_total_size = []\n",
    "            for idx, c in enumerate(sampled_clients):\n",
    "                selected_total_size.append(len(self.clients[c]))\n",
    "                proc = Process(target=self.mp_train_selected_clients, args=(idx, c))    # with Multi-Process\n",
    "                proc.start()\n",
    "                procs.append(proc)\n",
    "            for proc in procs:\n",
    "                proc.join()\n",
    "            selected_total_size = sum(selected_total_size)\n",
    "            # with pool.ThreadPool(processes=cpu_count() - 1) as workhorse: # with Threading\n",
    "            #     selected_total_size = workhorse.map(self.mp_train_selected_clients, sampled_clients)\n",
    "            \n",
    "        else:\n",
    "            print(\"TRAIN WITH SP!\\n\")\n",
    "            selected_total_size = self.train_selected_clients(sampled_clients)\n",
    "\n",
    "        print(\"TEST WITH SP!\\n\")\n",
    "        self.test_selected_models(sampled_clients)\n",
    "                \n",
    "        mixing_coefficients = [len(self.clients[client]) / selected_total_size for client in sampled_clients]\n",
    "        \n",
    "        self.average_model(sampled_clients, mixing_coefficients)\n",
    "        self.transmit_model()\n",
    "        \n",
    "        \n",
    "    def global_test(self):\n",
    "        self.global_model.eval()\n",
    "        self.global_model.to(self.device)\n",
    "        \n",
    "        with torch.no_grad():\n",
    "            loss_trace, result_pred, result_anno = [], [], []\n",
    "            for idx, batch in enumerate(self.dataloader):\n",
    "                X, Y = batch\n",
    "                X    = X + self.global_aid\n",
    "                X, Y = X.to(self.device), Y.to(self.device)\n",
    "                pred = self.global_model(X) / self.mean_T\n",
    "                loss = self.criterion(pred, Y)\n",
    "                loss_trace.append(loss.to('cpu').detach().numpy())\n",
    "                pred_np  = pred.to('cpu').detach().numpy()\n",
    "                pred_np  = np.argmax(pred_np, axis=1).squeeze()\n",
    "                Y_np     = Y.to('cpu').detach().numpy().reshape(-1, 1).squeeze()\n",
    "                result_pred = np.hstack((result_pred, pred_np))\n",
    "                result_anno = np.hstack((result_anno, Y_np))\n",
    "            self.acc = metrics.accuracy_score(y_true=result_anno, y_pred=result_pred)\n",
    "            self.test_loss = np.average(loss_trace)\n",
    "            self.TB_WRITER.add_scalar(f'Global Test Accuracy', self.acc      , self.round)\n",
    "            self.TB_WRITER.add_scalar(f'Global Test Loss'    , self.test_loss, self.round)\n",
    "            print(f'Global Test Result | Acc:{self.acc*100:.2f}, Loss:{self.test_loss:.4f}')\n",
    "            self.global_model.to('cpu')\n",
    "    \n",
    "    \n",
    "    def test_all_client(self):\n",
    "        with torch.no_grad():\n",
    "            for c in self.clients:\n",
    "                self.clients[c].local_test()\n",
    "    \n",
    "    \n",
    "    def fit(self):\n",
    "        pass\n",
    "    \n",
    "    \n",
    "    def save_model(self, round=100, tag='', ckpt:list=None):\n",
    "        model_save_path = f'./checkpoints/{self.args_dict[\"model\"]}_{self.args_dict[\"dataset\"]}_{cfg.T_dict[self.T_type]}'\n",
    "        \n",
    "        if not os.path.isdir(model_save_path):\n",
    "            os.makedirs(model_save_path, exist_ok=True)\n",
    "        torch.save(self.global_model.state_dict(), f'{model_save_path}/{tag}_{round}.pth')   "
   ]
  },
  {
   "cell_type": "code",
   "execution_count": 118,
   "metadata": {},
   "outputs": [
    {
     "name": "stdout",
     "output_type": "stream",
     "text": [
      "Global Test Result | Acc:70.63, Loss:1.0268\n"
     ]
    }
   ],
   "source": [
    "server.global_model.eval()\n",
    "server.global_model.to(server.device)\n",
    "\n",
    "with torch.no_grad():\n",
    "    loss_trace, result_pred, result_anno = [], [], []\n",
    "    for idx, batch in enumerate(server.dataloader):\n",
    "        X, Y = batch\n",
    "\n",
    "        X    = X + server.global_aid\n",
    "        X, Y = X.to(server.device), Y.to(server.device)\n",
    "        pred = server.global_model(X) / server.mean_T\n",
    "        loss = server.criterion(pred, Y)\n",
    "        loss_trace.append(loss.to('cpu').detach().numpy())\n",
    "        pred_np  = pred.to('cpu').detach().numpy()\n",
    "        pred_np  = np.argmax(pred_np, axis=1).squeeze()\n",
    "        Y_np     = Y.to('cpu').detach().numpy().reshape(-1, 1).squeeze()\n",
    "        result_pred = np.hstack((result_pred, pred_np))\n",
    "        result_anno = np.hstack((result_anno, Y_np))\n",
    "    server.acc = metrics.accuracy_score(y_true=result_anno, y_pred=result_pred)\n",
    "    server.test_loss = np.average(loss_trace)\n",
    "    # server.TB_WRITER.add_scalar(f'Global Test Accuracy', server.acc      , server.round)\n",
    "    # server.TB_WRITER.add_scalar(f'Global Test Loss'    , server.test_loss, server.round)\n",
    "    print(f'Global Test Result | Acc:{server.acc*100:.2f}, Loss:{server.test_loss:.4f}')\n",
    "    server.global_model.to('cpu')\n",
    "\n",
    "\n"
   ]
  },
  {
   "cell_type": "code",
   "execution_count": 24,
   "metadata": {},
   "outputs": [
    {
     "name": "stdout",
     "output_type": "stream",
     "text": [
      "DATA READY\n"
     ]
    }
   ],
   "source": [
    "args = utils.parse_args()\n",
    "args_dict = utils.args2dict(args)\n",
    "    \n",
    "PATH = cfg.DATAPATH['femnist']\n",
    "    \n",
    "file_dict = get_files(PATH)\n",
    "    \n",
    "TRAIN_DM = DataManager(file_dict['train'], is_train=True, is_flat=args.model=='dnn')\n",
    "TEST_DM = DataManager(file_dict['test'], is_train=False, is_flat=args.model=='dnn')\n",
    "DM_dict = {'train':TRAIN_DM,\n",
    "        'test':TEST_DM}\n",
    "print(\"DATA READY\")"
   ]
  },
  {
   "cell_type": "code",
   "execution_count": 126,
   "metadata": {},
   "outputs": [
    {
     "name": "stdout",
     "output_type": "stream",
     "text": [
      "WORKING WITH cuda\n",
      "SERVER READY\n"
     ]
    },
    {
     "name": "stderr",
     "output_type": "stream",
     "text": [
      "                                      "
     ]
    },
    {
     "name": "stdout",
     "output_type": "stream",
     "text": [
      "===== ROUND 0 =====\n",
      "Server Setup Complete!\n"
     ]
    },
    {
     "name": "stderr",
     "output_type": "stream",
     "text": [
      "\r"
     ]
    }
   ],
   "source": [
    "args_dict['T_type'] = 2\n",
    "\n",
    "print(f\"WORKING WITH {cfg.DEVICE}\")\n",
    "    \n",
    "server = Server(DM_dict, args_dict)\n",
    "print(\"SERVER READY\")\n",
    "    \n",
    "server.setup()\n",
    "print('===== ROUND 0 =====\\nServer Setup Complete!')"
   ]
  },
  {
   "cell_type": "code",
   "execution_count": 127,
   "metadata": {},
   "outputs": [
    {
     "name": "stderr",
     "output_type": "stream",
     "text": [
      "  0%|          | 0/10 [00:00<?, ?it/s]"
     ]
    },
    {
     "name": "stdout",
     "output_type": "stream",
     "text": [
      "===== ROUND 1 START! =====\n",
      "\n",
      "CLIENTS ['4' '28' '34' '25' '8' '29' '24' '27' '20' '22'] ARE SELECTED!\n",
      "\n",
      "TRAIN WITH SP!\n",
      "\n"
     ]
    },
    {
     "name": "stderr",
     "output_type": "stream",
     "text": [
      " 10%|█         | 1/10 [00:07<01:05,  7.25s/it]"
     ]
    },
    {
     "name": "stdout",
     "output_type": "stream",
     "text": [
      "=== Client 4 Finished Training 4955 samples with T = 0.05 ===\n",
      "client:4 | Train Acc:36.35 | Train Loss:2.5300\n"
     ]
    },
    {
     "name": "stderr",
     "output_type": "stream",
     "text": [
      " 20%|██        | 2/10 [00:19<01:22, 10.27s/it]"
     ]
    },
    {
     "name": "stdout",
     "output_type": "stream",
     "text": [
      "=== Client 28 Finished Training 6100 samples with T = 0.05 ===\n",
      "client:28 | Train Acc:30.21 | Train Loss:2.6447\n"
     ]
    },
    {
     "name": "stderr",
     "output_type": "stream",
     "text": [
      " 30%|███       | 3/10 [00:25<00:59,  8.43s/it]"
     ]
    },
    {
     "name": "stdout",
     "output_type": "stream",
     "text": [
      "=== Client 34 Finished Training 3002 samples with T = 0.05 ===\n",
      "client:34 | Train Acc:60.73 | Train Loss:2.0178\n"
     ]
    },
    {
     "name": "stderr",
     "output_type": "stream",
     "text": [
      " 40%|████      | 4/10 [00:38<01:01, 10.20s/it]"
     ]
    },
    {
     "name": "stdout",
     "output_type": "stream",
     "text": [
      "=== Client 25 Finished Training 6286 samples with T = 0.05 ===\n",
      "client:25 | Train Acc:46.87 | Train Loss:2.0590\n"
     ]
    },
    {
     "name": "stderr",
     "output_type": "stream",
     "text": [
      " 50%|█████     | 5/10 [00:50<00:53, 10.73s/it]"
     ]
    },
    {
     "name": "stdout",
     "output_type": "stream",
     "text": [
      "=== Client 8 Finished Training 5711 samples with T = 0.05 ===\n",
      "client:8 | Train Acc:41.25 | Train Loss:2.3424\n"
     ]
    },
    {
     "name": "stderr",
     "output_type": "stream",
     "text": [
      " 60%|██████    | 6/10 [00:55<00:35,  8.95s/it]"
     ]
    },
    {
     "name": "stdout",
     "output_type": "stream",
     "text": [
      "=== Client 29 Finished Training 2676 samples with T = 0.05 ===\n",
      "client:29 | Train Acc:29.90 | Train Loss:2.7074\n"
     ]
    },
    {
     "name": "stderr",
     "output_type": "stream",
     "text": [
      " 70%|███████   | 7/10 [01:08<00:30, 10.23s/it]"
     ]
    },
    {
     "name": "stdout",
     "output_type": "stream",
     "text": [
      "=== Client 24 Finished Training 6299 samples with T = 0.05 ===\n",
      "client:24 | Train Acc:34.21 | Train Loss:2.5480\n"
     ]
    },
    {
     "name": "stderr",
     "output_type": "stream",
     "text": [
      " 80%|████████  | 8/10 [01:21<00:22, 11.08s/it]"
     ]
    },
    {
     "name": "stdout",
     "output_type": "stream",
     "text": [
      "=== Client 27 Finished Training 6294 samples with T = 0.05 ===\n",
      "client:27 | Train Acc:40.21 | Train Loss:2.3048\n"
     ]
    },
    {
     "name": "stderr",
     "output_type": "stream",
     "text": [
      " 90%|█████████ | 9/10 [01:28<00:09,  9.59s/it]"
     ]
    },
    {
     "name": "stdout",
     "output_type": "stream",
     "text": [
      "=== Client 20 Finished Training 3102 samples with T = 0.05 ===\n",
      "client:20 | Train Acc:49.94 | Train Loss:2.2913\n"
     ]
    },
    {
     "name": "stderr",
     "output_type": "stream",
     "text": [
      "                                               "
     ]
    },
    {
     "name": "stdout",
     "output_type": "stream",
     "text": [
      "=== Client 22 Finished Training 2703 samples with T = 0.05 ===\n",
      "client:22 | Train Acc:55.64 | Train Loss:2.2734\n",
      "TEST WITH SP!\n",
      "\n",
      "client:4 | Test Acc:39.82 | Test Loss:2.4769\n",
      "client:28 | Test Acc:27.29 | Test Loss:2.6872\n",
      "client:34 | Test Acc:58.26 | Test Loss:2.1084\n",
      "client:25 | Test Acc:44.43 | Test Loss:2.1082\n",
      "client:8 | Test Acc:39.47 | Test Loss:2.4371\n",
      "client:29 | Test Acc:30.65 | Test Loss:2.6776\n"
     ]
    },
    {
     "name": "stderr",
     "output_type": "stream",
     "text": [
      "                                      "
     ]
    },
    {
     "name": "stdout",
     "output_type": "stream",
     "text": [
      "client:24 | Test Acc:33.29 | Test Loss:2.6738\n",
      "client:27 | Test Acc:42.03 | Test Loss:2.2292\n",
      "client:20 | Test Acc:46.20 | Test Loss:2.5155\n",
      "client:22 | Test Acc:56.63 | Test Loss:2.2613\n"
     ]
    },
    {
     "name": "stderr",
     "output_type": "stream",
     "text": [
      "  0%|          | 0/10 [00:00<?, ?it/s]"
     ]
    },
    {
     "name": "stdout",
     "output_type": "stream",
     "text": [
      "Global Test Result | Acc:39.94, Loss:2.5928\n",
      "===== ROUND 2 START! =====\n",
      "\n",
      "CLIENTS ['26' '29' '9' '3' '16' '35' '32' '8' '31' '34'] ARE SELECTED!\n",
      "\n",
      "TRAIN WITH SP!\n",
      "\n"
     ]
    },
    {
     "name": "stderr",
     "output_type": "stream",
     "text": [
      " 10%|█         | 1/10 [00:12<01:55, 12.80s/it]"
     ]
    },
    {
     "name": "stdout",
     "output_type": "stream",
     "text": [
      "=== Client 26 Finished Training 6253 samples with T = 0.05 ===\n",
      "client:26 | Train Acc:58.02 | Train Loss:1.5764\n"
     ]
    },
    {
     "name": "stderr",
     "output_type": "stream",
     "text": [
      " 20%|██        | 2/10 [00:18<01:08,  8.51s/it]"
     ]
    },
    {
     "name": "stdout",
     "output_type": "stream",
     "text": [
      "=== Client 29 Finished Training 2676 samples with T = 0.05 ===\n",
      "client:29 | Train Acc:59.79 | Train Loss:1.6104\n"
     ]
    },
    {
     "name": "stderr",
     "output_type": "stream",
     "text": [
      " 30%|███       | 3/10 [00:30<01:11, 10.26s/it]"
     ]
    },
    {
     "name": "stdout",
     "output_type": "stream",
     "text": [
      "=== Client 9 Finished Training 5974 samples with T = 0.05 ===\n",
      "client:9 | Train Acc:40.19 | Train Loss:2.2463\n"
     ]
    },
    {
     "name": "stderr",
     "output_type": "stream",
     "text": [
      " 40%|████      | 4/10 [00:40<01:01, 10.19s/it]"
     ]
    },
    {
     "name": "stdout",
     "output_type": "stream",
     "text": [
      "=== Client 3 Finished Training 4884 samples with T = 0.05 ===\n",
      "client:3 | Train Acc:59.21 | Train Loss:1.5593\n"
     ]
    },
    {
     "name": "stderr",
     "output_type": "stream",
     "text": [
      " 50%|█████     | 5/10 [00:46<00:42,  8.44s/it]"
     ]
    },
    {
     "name": "stdout",
     "output_type": "stream",
     "text": [
      "=== Client 16 Finished Training 2965 samples with T = 0.05 ===\n",
      "client:16 | Train Acc:55.35 | Train Loss:1.8273\n"
     ]
    },
    {
     "name": "stderr",
     "output_type": "stream",
     "text": [
      " 60%|██████    | 6/10 [00:49<00:27,  6.81s/it]"
     ]
    },
    {
     "name": "stdout",
     "output_type": "stream",
     "text": [
      "=== Client 35 Finished Training 3030 samples with T = 0.05 ===\n",
      "client:35 | Train Acc:39.93 | Train Loss:2.2786\n"
     ]
    },
    {
     "name": "stderr",
     "output_type": "stream",
     "text": [
      " 70%|███████   | 7/10 [00:55<00:19,  6.61s/it]"
     ]
    },
    {
     "name": "stdout",
     "output_type": "stream",
     "text": [
      "=== Client 32 Finished Training 3022 samples with T = 0.05 ===\n",
      "client:32 | Train Acc:64.63 | Train Loss:1.4330\n"
     ]
    },
    {
     "name": "stderr",
     "output_type": "stream",
     "text": [
      " 80%|████████  | 8/10 [01:07<00:16,  8.28s/it]"
     ]
    },
    {
     "name": "stdout",
     "output_type": "stream",
     "text": [
      "=== Client 8 Finished Training 5711 samples with T = 0.05 ===\n",
      "client:8 | Train Acc:49.19 | Train Loss:1.8754\n"
     ]
    },
    {
     "name": "stderr",
     "output_type": "stream",
     "text": [
      " 90%|█████████ | 9/10 [01:13<00:07,  7.44s/it]"
     ]
    },
    {
     "name": "stdout",
     "output_type": "stream",
     "text": [
      "=== Client 31 Finished Training 2677 samples with T = 0.05 ===\n",
      "client:31 | Train Acc:45.83 | Train Loss:2.2243\n"
     ]
    },
    {
     "name": "stderr",
     "output_type": "stream",
     "text": [
      "                                               "
     ]
    },
    {
     "name": "stdout",
     "output_type": "stream",
     "text": [
      "=== Client 34 Finished Training 3002 samples with T = 0.05 ===\n",
      "client:34 | Train Acc:66.76 | Train Loss:1.3546\n",
      "TEST WITH SP!\n",
      "\n",
      "client:26 | Test Acc:55.54 | Test Loss:1.6643\n",
      "client:29 | Test Acc:55.81 | Test Loss:1.6907\n",
      "client:9 | Test Acc:41.04 | Test Loss:2.1939\n",
      "client:3 | Test Acc:53.51 | Test Loss:1.7984\n",
      "client:16 | Test Acc:55.75 | Test Loss:1.9987\n",
      "client:35 | Test Acc:39.42 | Test Loss:2.4739\n",
      "client:32 | Test Acc:64.16 | Test Loss:1.4262\n"
     ]
    },
    {
     "name": "stderr",
     "output_type": "stream",
     "text": [
      "                                      "
     ]
    },
    {
     "name": "stdout",
     "output_type": "stream",
     "text": [
      "client:8 | Test Acc:48.76 | Test Loss:1.9443\n",
      "client:31 | Test Acc:44.30 | Test Loss:2.5776\n",
      "client:34 | Test Acc:62.32 | Test Loss:1.5257\n"
     ]
    },
    {
     "name": "stderr",
     "output_type": "stream",
     "text": [
      "  0%|          | 0/10 [00:00<?, ?it/s]"
     ]
    },
    {
     "name": "stdout",
     "output_type": "stream",
     "text": [
      "Global Test Result | Acc:52.58, Loss:1.8719\n",
      "===== ROUND 3 START! =====\n",
      "\n",
      "CLIENTS ['22' '19' '23' '1' '12' '9' '2' '14' '3' '16'] ARE SELECTED!\n",
      "\n",
      "TRAIN WITH SP!\n",
      "\n"
     ]
    },
    {
     "name": "stderr",
     "output_type": "stream",
     "text": [
      " 10%|█         | 1/10 [00:05<00:50,  5.60s/it]"
     ]
    },
    {
     "name": "stdout",
     "output_type": "stream",
     "text": [
      "=== Client 22 Finished Training 2703 samples with T = 0.05 ===\n",
      "client:22 | Train Acc:65.26 | Train Loss:1.3250\n"
     ]
    },
    {
     "name": "stderr",
     "output_type": "stream",
     "text": [
      " 20%|██        | 2/10 [00:12<00:48,  6.12s/it]"
     ]
    },
    {
     "name": "stdout",
     "output_type": "stream",
     "text": [
      "=== Client 19 Finished Training 3110 samples with T = 0.05 ===\n",
      "client:19 | Train Acc:60.39 | Train Loss:1.4540\n"
     ]
    },
    {
     "name": "stderr",
     "output_type": "stream",
     "text": [
      " 30%|███       | 3/10 [00:18<00:44,  6.37s/it]"
     ]
    },
    {
     "name": "stdout",
     "output_type": "stream",
     "text": [
      "=== Client 23 Finished Training 3216 samples with T = 0.05 ===\n",
      "client:23 | Train Acc:66.88 | Train Loss:1.2511\n"
     ]
    },
    {
     "name": "stderr",
     "output_type": "stream",
     "text": [
      " 40%|████      | 4/10 [00:25<00:38,  6.39s/it]"
     ]
    },
    {
     "name": "stdout",
     "output_type": "stream",
     "text": [
      "=== Client 1 Finished Training 3071 samples with T = 0.05 ===\n",
      "client:1 | Train Acc:60.40 | Train Loss:1.4811\n"
     ]
    },
    {
     "name": "stderr",
     "output_type": "stream",
     "text": [
      " 50%|█████     | 5/10 [00:37<00:41,  8.38s/it]"
     ]
    },
    {
     "name": "stdout",
     "output_type": "stream",
     "text": [
      "=== Client 12 Finished Training 5760 samples with T = 0.05 ===\n",
      "client:12 | Train Acc:62.41 | Train Loss:1.3803\n"
     ]
    },
    {
     "name": "stderr",
     "output_type": "stream",
     "text": [
      " 60%|██████    | 6/10 [00:49<00:39,  9.77s/it]"
     ]
    },
    {
     "name": "stdout",
     "output_type": "stream",
     "text": [
      "=== Client 9 Finished Training 5974 samples with T = 0.05 ===\n",
      "client:9 | Train Acc:59.61 | Train Loss:1.4688\n"
     ]
    },
    {
     "name": "stderr",
     "output_type": "stream",
     "text": [
      " 70%|███████   | 7/10 [00:59<00:29,  9.94s/it]"
     ]
    },
    {
     "name": "stdout",
     "output_type": "stream",
     "text": [
      "=== Client 2 Finished Training 4941 samples with T = 0.05 ===\n",
      "client:2 | Train Acc:62.46 | Train Loss:1.4348\n"
     ]
    },
    {
     "name": "stderr",
     "output_type": "stream",
     "text": [
      " 80%|████████  | 8/10 [01:05<00:17,  8.73s/it]"
     ]
    },
    {
     "name": "stdout",
     "output_type": "stream",
     "text": [
      "=== Client 14 Finished Training 2946 samples with T = 0.05 ===\n",
      "client:14 | Train Acc:19.76 | Train Loss:4.1029\n"
     ]
    },
    {
     "name": "stderr",
     "output_type": "stream",
     "text": [
      " 90%|█████████ | 9/10 [01:16<00:09,  9.18s/it]"
     ]
    },
    {
     "name": "stdout",
     "output_type": "stream",
     "text": [
      "=== Client 3 Finished Training 4884 samples with T = 0.05 ===\n",
      "client:3 | Train Acc:51.33 | Train Loss:1.7315\n"
     ]
    },
    {
     "name": "stderr",
     "output_type": "stream",
     "text": [
      "                                               "
     ]
    },
    {
     "name": "stdout",
     "output_type": "stream",
     "text": [
      "=== Client 16 Finished Training 2965 samples with T = 0.05 ===\n",
      "client:16 | Train Acc:49.61 | Train Loss:1.8363\n",
      "TEST WITH SP!\n",
      "\n",
      "client:22 | Test Acc:63.11 | Test Loss:1.4336\n",
      "client:19 | Test Acc:56.18 | Test Loss:1.6562\n",
      "client:23 | Test Acc:64.03 | Test Loss:1.4159\n",
      "client:1 | Test Acc:60.97 | Test Loss:1.4646\n",
      "client:12 | Test Acc:64.35 | Test Loss:1.4162\n",
      "client:9 | Test Acc:61.78 | Test Loss:1.4447\n",
      "client:2 | Test Acc:62.01 | Test Loss:1.4612\n"
     ]
    },
    {
     "name": "stderr",
     "output_type": "stream",
     "text": [
      "                                      "
     ]
    },
    {
     "name": "stdout",
     "output_type": "stream",
     "text": [
      "client:14 | Test Acc:18.88 | Test Loss:4.1271\n",
      "client:3 | Test Acc:46.67 | Test Loss:2.0065\n",
      "client:16 | Test Acc:48.97 | Test Loss:2.0151\n"
     ]
    },
    {
     "name": "stderr",
     "output_type": "stream",
     "text": [
      "  0%|          | 0/10 [00:00<?, ?it/s]"
     ]
    },
    {
     "name": "stdout",
     "output_type": "stream",
     "text": [
      "Global Test Result | Acc:56.20, Loss:1.6525\n",
      "===== ROUND 4 START! =====\n",
      "\n",
      "CLIENTS ['6' '2' '18' '28' '21' '9' '32' '24' '35' '22'] ARE SELECTED!\n",
      "\n",
      "TRAIN WITH SP!\n",
      "\n"
     ]
    },
    {
     "name": "stderr",
     "output_type": "stream",
     "text": [
      " 10%|█         | 1/10 [00:10<01:32, 10.30s/it]"
     ]
    },
    {
     "name": "stdout",
     "output_type": "stream",
     "text": [
      "=== Client 6 Finished Training 4982 samples with T = 0.05 ===\n",
      "client:6 | Train Acc:47.89 | Train Loss:1.8264\n"
     ]
    },
    {
     "name": "stderr",
     "output_type": "stream",
     "text": [
      " 20%|██        | 2/10 [00:20<01:22, 10.28s/it]"
     ]
    },
    {
     "name": "stdout",
     "output_type": "stream",
     "text": [
      "=== Client 2 Finished Training 4941 samples with T = 0.05 ===\n",
      "client:2 | Train Acc:68.59 | Train Loss:1.1802\n"
     ]
    },
    {
     "name": "stderr",
     "output_type": "stream",
     "text": [
      " 30%|███       | 3/10 [00:26<00:59,  8.51s/it]"
     ]
    },
    {
     "name": "stdout",
     "output_type": "stream",
     "text": [
      "=== Client 18 Finished Training 3098 samples with T = 0.05 ===\n",
      "client:18 | Train Acc:69.11 | Train Loss:1.1104\n"
     ]
    },
    {
     "name": "stderr",
     "output_type": "stream",
     "text": [
      " 40%|████      | 4/10 [00:39<01:00, 10.15s/it]"
     ]
    },
    {
     "name": "stdout",
     "output_type": "stream",
     "text": [
      "=== Client 28 Finished Training 6100 samples with T = 0.05 ===\n",
      "client:28 | Train Acc:21.72 | Train Loss:3.2734\n"
     ]
    },
    {
     "name": "stderr",
     "output_type": "stream",
     "text": [
      " 50%|█████     | 5/10 [00:46<00:43,  8.80s/it]"
     ]
    },
    {
     "name": "stdout",
     "output_type": "stream",
     "text": [
      "=== Client 21 Finished Training 3099 samples with T = 0.05 ===\n",
      "client:21 | Train Acc:65.96 | Train Loss:1.2530\n"
     ]
    },
    {
     "name": "stderr",
     "output_type": "stream",
     "text": [
      " 60%|██████    | 6/10 [00:58<00:40, 10.04s/it]"
     ]
    },
    {
     "name": "stdout",
     "output_type": "stream",
     "text": [
      "=== Client 9 Finished Training 5974 samples with T = 0.05 ===\n",
      "client:9 | Train Acc:57.73 | Train Loss:1.5518\n"
     ]
    },
    {
     "name": "stderr",
     "output_type": "stream",
     "text": [
      " 70%|███████   | 7/10 [01:04<00:26,  8.82s/it]"
     ]
    },
    {
     "name": "stdout",
     "output_type": "stream",
     "text": [
      "=== Client 32 Finished Training 3022 samples with T = 0.05 ===\n",
      "client:32 | Train Acc:64.06 | Train Loss:1.3272\n"
     ]
    },
    {
     "name": "stderr",
     "output_type": "stream",
     "text": [
      " 80%|████████  | 8/10 [01:17<00:20, 10.14s/it]"
     ]
    },
    {
     "name": "stdout",
     "output_type": "stream",
     "text": [
      "=== Client 24 Finished Training 6299 samples with T = 0.05 ===\n",
      "client:24 | Train Acc:65.25 | Train Loss:1.2863\n"
     ]
    },
    {
     "name": "stderr",
     "output_type": "stream",
     "text": [
      " 90%|█████████ | 9/10 [01:21<00:08,  8.28s/it]"
     ]
    },
    {
     "name": "stdout",
     "output_type": "stream",
     "text": [
      "=== Client 35 Finished Training 3030 samples with T = 0.05 ===\n",
      "client:35 | Train Acc:62.67 | Train Loss:1.3962\n"
     ]
    },
    {
     "name": "stderr",
     "output_type": "stream",
     "text": [
      "                                               "
     ]
    },
    {
     "name": "stdout",
     "output_type": "stream",
     "text": [
      "=== Client 22 Finished Training 2703 samples with T = 0.05 ===\n",
      "client:22 | Train Acc:62.30 | Train Loss:1.4305\n",
      "TEST WITH SP!\n",
      "\n",
      "client:6 | Test Acc:50.27 | Test Loss:1.8287\n",
      "client:2 | Test Acc:67.56 | Test Loss:1.2335\n",
      "client:18 | Test Acc:71.75 | Test Loss:1.1485\n",
      "client:28 | Test Acc:22.35 | Test Loss:3.2820\n",
      "client:21 | Test Acc:62.25 | Test Loss:1.3659\n",
      "client:9 | Test Acc:60.00 | Test Loss:1.6133\n",
      "client:32 | Test Acc:66.18 | Test Loss:1.3607\n"
     ]
    },
    {
     "name": "stderr",
     "output_type": "stream",
     "text": [
      "                                      "
     ]
    },
    {
     "name": "stdout",
     "output_type": "stream",
     "text": [
      "client:24 | Test Acc:64.17 | Test Loss:1.3889\n",
      "client:35 | Test Acc:60.58 | Test Loss:1.6060\n",
      "client:22 | Test Acc:60.84 | Test Loss:1.5794\n"
     ]
    },
    {
     "name": "stderr",
     "output_type": "stream",
     "text": [
      "  0%|          | 0/10 [00:00<?, ?it/s]"
     ]
    },
    {
     "name": "stdout",
     "output_type": "stream",
     "text": [
      "Global Test Result | Acc:58.11, Loss:1.5406\n",
      "===== ROUND 5 START! =====\n",
      "\n",
      "CLIENTS ['8' '28' '32' '26' '9' '25' '0' '1' '29' '4'] ARE SELECTED!\n",
      "\n",
      "TRAIN WITH SP!\n",
      "\n"
     ]
    },
    {
     "name": "stderr",
     "output_type": "stream",
     "text": [
      " 10%|█         | 1/10 [00:05<00:47,  5.27s/it]"
     ]
    },
    {
     "name": "stdout",
     "output_type": "stream",
     "text": [
      "=== Client 8 Finished Training 5711 samples with T = 0.05 ===\n",
      "client:8 | Train Acc:67.92 | Train Loss:1.1722\n"
     ]
    },
    {
     "name": "stderr",
     "output_type": "stream",
     "text": [
      " 20%|██        | 2/10 [00:10<00:42,  5.26s/it]"
     ]
    },
    {
     "name": "stdout",
     "output_type": "stream",
     "text": [
      "=== Client 28 Finished Training 6100 samples with T = 0.05 ===\n",
      "client:28 | Train Acc:58.34 | Train Loss:1.4549\n"
     ]
    },
    {
     "name": "stderr",
     "output_type": "stream",
     "text": [
      " 30%|███       | 3/10 [00:13<00:28,  4.05s/it]"
     ]
    },
    {
     "name": "stdout",
     "output_type": "stream",
     "text": [
      "=== Client 32 Finished Training 3022 samples with T = 0.05 ===\n",
      "client:32 | Train Acc:75.84 | Train Loss:0.9082\n"
     ]
    },
    {
     "name": "stderr",
     "output_type": "stream",
     "text": [
      " 40%|████      | 4/10 [00:19<00:30,  5.10s/it]"
     ]
    },
    {
     "name": "stdout",
     "output_type": "stream",
     "text": [
      "=== Client 26 Finished Training 6253 samples with T = 0.05 ===\n",
      "client:26 | Train Acc:61.63 | Train Loss:1.3899\n"
     ]
    },
    {
     "name": "stderr",
     "output_type": "stream",
     "text": [
      " 50%|█████     | 5/10 [00:32<00:38,  7.75s/it]"
     ]
    },
    {
     "name": "stdout",
     "output_type": "stream",
     "text": [
      "=== Client 9 Finished Training 5974 samples with T = 0.05 ===\n",
      "client:9 | Train Acc:60.78 | Train Loss:1.3936\n"
     ]
    },
    {
     "name": "stderr",
     "output_type": "stream",
     "text": [
      " 60%|██████    | 6/10 [00:45<00:38,  9.58s/it]"
     ]
    },
    {
     "name": "stdout",
     "output_type": "stream",
     "text": [
      "=== Client 25 Finished Training 6286 samples with T = 0.05 ===\n",
      "client:25 | Train Acc:70.84 | Train Loss:1.0625\n"
     ]
    },
    {
     "name": "stderr",
     "output_type": "stream",
     "text": [
      " 70%|███████   | 7/10 [00:51<00:24,  8.33s/it]"
     ]
    },
    {
     "name": "stdout",
     "output_type": "stream",
     "text": [
      "=== Client 0 Finished Training 2754 samples with T = 0.05 ===\n",
      "client:0 | Train Acc:44.81 | Train Loss:1.9388\n"
     ]
    },
    {
     "name": "stderr",
     "output_type": "stream",
     "text": [
      " 80%|████████  | 8/10 [00:57<00:15,  7.72s/it]"
     ]
    },
    {
     "name": "stdout",
     "output_type": "stream",
     "text": [
      "=== Client 1 Finished Training 3071 samples with T = 0.05 ===\n",
      "client:1 | Train Acc:70.76 | Train Loss:1.0763\n"
     ]
    },
    {
     "name": "stderr",
     "output_type": "stream",
     "text": [
      " 90%|█████████ | 9/10 [01:03<00:07,  7.05s/it]"
     ]
    },
    {
     "name": "stdout",
     "output_type": "stream",
     "text": [
      "=== Client 29 Finished Training 2676 samples with T = 0.05 ===\n",
      "client:29 | Train Acc:71.75 | Train Loss:1.0396\n"
     ]
    },
    {
     "name": "stderr",
     "output_type": "stream",
     "text": [
      "                                               "
     ]
    },
    {
     "name": "stdout",
     "output_type": "stream",
     "text": [
      "=== Client 4 Finished Training 4955 samples with T = 0.05 ===\n",
      "client:4 | Train Acc:65.93 | Train Loss:1.2472\n",
      "TEST WITH SP!\n",
      "\n",
      "client:8 | Test Acc:66.56 | Test Loss:1.3044\n",
      "client:28 | Test Acc:60.81 | Test Loss:1.4614\n",
      "client:32 | Test Acc:76.30 | Test Loss:0.9873\n",
      "client:26 | Test Acc:58.95 | Test Loss:1.5129\n",
      "client:9 | Test Acc:62.37 | Test Loss:1.3770\n",
      "client:25 | Test Acc:68.41 | Test Loss:1.1949\n"
     ]
    },
    {
     "name": "stderr",
     "output_type": "stream",
     "text": [
      "                                      "
     ]
    },
    {
     "name": "stdout",
     "output_type": "stream",
     "text": [
      "client:0 | Test Acc:39.24 | Test Loss:2.1326\n",
      "client:1 | Test Acc:70.37 | Test Loss:1.1206\n",
      "client:29 | Test Acc:67.10 | Test Loss:1.2095\n",
      "client:4 | Test Acc:63.21 | Test Loss:1.3289\n"
     ]
    },
    {
     "name": "stderr",
     "output_type": "stream",
     "text": [
      "  0%|          | 0/10 [00:00<?, ?it/s]"
     ]
    },
    {
     "name": "stdout",
     "output_type": "stream",
     "text": [
      "Global Test Result | Acc:61.43, Loss:1.4262\n",
      "===== ROUND 6 START! =====\n",
      "\n",
      "CLIENTS ['26' '17' '22' '21' '24' '9' '33' '31' '0' '35'] ARE SELECTED!\n",
      "\n",
      "TRAIN WITH SP!\n",
      "\n"
     ]
    },
    {
     "name": "stderr",
     "output_type": "stream",
     "text": [
      " 10%|█         | 1/10 [00:12<01:56, 12.97s/it]"
     ]
    },
    {
     "name": "stdout",
     "output_type": "stream",
     "text": [
      "=== Client 26 Finished Training 6253 samples with T = 0.05 ===\n",
      "client:26 | Train Acc:74.83 | Train Loss:0.9308\n"
     ]
    },
    {
     "name": "stderr",
     "output_type": "stream",
     "text": [
      " 20%|██        | 2/10 [00:19<01:12,  9.02s/it]"
     ]
    },
    {
     "name": "stdout",
     "output_type": "stream",
     "text": [
      "=== Client 17 Finished Training 3008 samples with T = 0.05 ===\n",
      "client:17 | Train Acc:70.45 | Train Loss:1.0791\n"
     ]
    },
    {
     "name": "stderr",
     "output_type": "stream",
     "text": [
      " 30%|███       | 3/10 [00:24<00:52,  7.48s/it]"
     ]
    },
    {
     "name": "stdout",
     "output_type": "stream",
     "text": [
      "=== Client 22 Finished Training 2703 samples with T = 0.05 ===\n",
      "client:22 | Train Acc:72.81 | Train Loss:0.9838\n"
     ]
    },
    {
     "name": "stderr",
     "output_type": "stream",
     "text": [
      " 40%|████      | 4/10 [00:31<00:42,  7.09s/it]"
     ]
    },
    {
     "name": "stdout",
     "output_type": "stream",
     "text": [
      "=== Client 21 Finished Training 3099 samples with T = 0.05 ===\n",
      "client:21 | Train Acc:71.93 | Train Loss:1.0245\n"
     ]
    },
    {
     "name": "stderr",
     "output_type": "stream",
     "text": [
      " 50%|█████     | 5/10 [00:44<00:46,  9.25s/it]"
     ]
    },
    {
     "name": "stdout",
     "output_type": "stream",
     "text": [
      "=== Client 24 Finished Training 6299 samples with T = 0.05 ===\n",
      "client:24 | Train Acc:65.99 | Train Loss:1.2166\n"
     ]
    },
    {
     "name": "stderr",
     "output_type": "stream",
     "text": [
      " 60%|██████    | 6/10 [00:56<00:41, 10.32s/it]"
     ]
    },
    {
     "name": "stdout",
     "output_type": "stream",
     "text": [
      "=== Client 9 Finished Training 5974 samples with T = 0.05 ===\n",
      "client:9 | Train Acc:70.39 | Train Loss:1.0329\n"
     ]
    },
    {
     "name": "stderr",
     "output_type": "stream",
     "text": [
      " 70%|███████   | 7/10 [01:03<00:26,  8.99s/it]"
     ]
    },
    {
     "name": "stdout",
     "output_type": "stream",
     "text": [
      "=== Client 33 Finished Training 3037 samples with T = 0.05 ===\n",
      "client:33 | Train Acc:72.97 | Train Loss:0.9617\n"
     ]
    },
    {
     "name": "stderr",
     "output_type": "stream",
     "text": [
      " 80%|████████  | 8/10 [01:08<00:15,  7.89s/it]"
     ]
    },
    {
     "name": "stdout",
     "output_type": "stream",
     "text": [
      "=== Client 31 Finished Training 2677 samples with T = 0.05 ===\n",
      "client:31 | Train Acc:74.90 | Train Loss:0.9500\n"
     ]
    },
    {
     "name": "stderr",
     "output_type": "stream",
     "text": [
      " 90%|█████████ | 9/10 [01:14<00:07,  7.21s/it]"
     ]
    },
    {
     "name": "stdout",
     "output_type": "stream",
     "text": [
      "=== Client 0 Finished Training 2754 samples with T = 0.05 ===\n",
      "client:0 | Train Acc:76.51 | Train Loss:0.9228\n"
     ]
    },
    {
     "name": "stderr",
     "output_type": "stream",
     "text": [
      "                                               "
     ]
    },
    {
     "name": "stdout",
     "output_type": "stream",
     "text": [
      "=== Client 35 Finished Training 3030 samples with T = 0.05 ===\n",
      "client:35 | Train Acc:67.79 | Train Loss:1.1842\n",
      "TEST WITH SP!\n",
      "\n",
      "client:26 | Test Acc:69.32 | Test Loss:1.0494\n",
      "client:17 | Test Acc:64.83 | Test Loss:1.2801\n",
      "client:22 | Test Acc:71.20 | Test Loss:1.0711\n",
      "client:21 | Test Acc:69.86 | Test Loss:1.1338\n",
      "client:24 | Test Acc:64.17 | Test Loss:1.3497\n",
      "client:9 | Test Acc:71.85 | Test Loss:1.0475\n",
      "client:33 | Test Acc:72.99 | Test Loss:1.0277\n"
     ]
    },
    {
     "name": "stderr",
     "output_type": "stream",
     "text": [
      "                                      "
     ]
    },
    {
     "name": "stdout",
     "output_type": "stream",
     "text": [
      "client:31 | Test Acc:69.38 | Test Loss:1.2045\n",
      "client:0 | Test Acc:71.52 | Test Loss:1.1322\n",
      "client:35 | Test Acc:64.35 | Test Loss:1.3844\n"
     ]
    },
    {
     "name": "stderr",
     "output_type": "stream",
     "text": [
      "  0%|          | 0/10 [00:00<?, ?it/s]"
     ]
    },
    {
     "name": "stdout",
     "output_type": "stream",
     "text": [
      "Global Test Result | Acc:62.92, Loss:1.3382\n",
      "===== ROUND 7 START! =====\n",
      "\n",
      "CLIENTS ['11' '2' '1' '16' '10' '4' '34' '18' '22' '28'] ARE SELECTED!\n",
      "\n",
      "TRAIN WITH SP!\n",
      "\n"
     ]
    },
    {
     "name": "stderr",
     "output_type": "stream",
     "text": [
      " 10%|█         | 1/10 [00:03<00:31,  3.47s/it]"
     ]
    },
    {
     "name": "stdout",
     "output_type": "stream",
     "text": [
      "=== Client 11 Finished Training 2639 samples with T = 0.05 ===\n",
      "client:11 | Train Acc:73.89 | Train Loss:0.9437\n"
     ]
    },
    {
     "name": "stderr",
     "output_type": "stream",
     "text": [
      " 20%|██        | 2/10 [00:11<00:51,  6.43s/it]"
     ]
    },
    {
     "name": "stdout",
     "output_type": "stream",
     "text": [
      "=== Client 2 Finished Training 4941 samples with T = 0.05 ===\n",
      "client:2 | Train Acc:76.85 | Train Loss:0.8400\n"
     ]
    },
    {
     "name": "stderr",
     "output_type": "stream",
     "text": [
      " 30%|███       | 3/10 [00:18<00:44,  6.40s/it]"
     ]
    },
    {
     "name": "stdout",
     "output_type": "stream",
     "text": [
      "=== Client 1 Finished Training 3071 samples with T = 0.05 ===\n",
      "client:1 | Train Acc:73.69 | Train Loss:0.9621\n"
     ]
    },
    {
     "name": "stderr",
     "output_type": "stream",
     "text": [
      " 40%|████      | 4/10 [00:24<00:37,  6.30s/it]"
     ]
    },
    {
     "name": "stdout",
     "output_type": "stream",
     "text": [
      "=== Client 16 Finished Training 2965 samples with T = 0.05 ===\n",
      "client:16 | Train Acc:66.98 | Train Loss:1.1603\n"
     ]
    },
    {
     "name": "stderr",
     "output_type": "stream",
     "text": [
      " 50%|█████     | 5/10 [00:36<00:42,  8.42s/it]"
     ]
    },
    {
     "name": "stdout",
     "output_type": "stream",
     "text": [
      "=== Client 10 Finished Training 5915 samples with T = 0.05 ===\n",
      "client:10 | Train Acc:71.12 | Train Loss:1.0456\n"
     ]
    },
    {
     "name": "stderr",
     "output_type": "stream",
     "text": [
      " 60%|██████    | 6/10 [00:47<00:36,  9.08s/it]"
     ]
    },
    {
     "name": "stdout",
     "output_type": "stream",
     "text": [
      "=== Client 4 Finished Training 4955 samples with T = 0.05 ===\n",
      "client:4 | Train Acc:74.55 | Train Loss:0.9381\n"
     ]
    },
    {
     "name": "stderr",
     "output_type": "stream",
     "text": [
      " 70%|███████   | 7/10 [00:53<00:24,  8.17s/it]"
     ]
    },
    {
     "name": "stdout",
     "output_type": "stream",
     "text": [
      "=== Client 34 Finished Training 3002 samples with T = 0.05 ===\n",
      "client:34 | Train Acc:80.88 | Train Loss:0.6889\n"
     ]
    },
    {
     "name": "stderr",
     "output_type": "stream",
     "text": [
      " 80%|████████  | 8/10 [00:59<00:15,  7.61s/it]"
     ]
    },
    {
     "name": "stdout",
     "output_type": "stream",
     "text": [
      "=== Client 18 Finished Training 3098 samples with T = 0.05 ===\n",
      "client:18 | Train Acc:73.63 | Train Loss:0.9331\n"
     ]
    },
    {
     "name": "stderr",
     "output_type": "stream",
     "text": [
      " 90%|█████████ | 9/10 [01:05<00:06,  6.99s/it]"
     ]
    },
    {
     "name": "stdout",
     "output_type": "stream",
     "text": [
      "=== Client 22 Finished Training 2703 samples with T = 0.05 ===\n",
      "client:22 | Train Acc:75.55 | Train Loss:0.8850\n"
     ]
    },
    {
     "name": "stderr",
     "output_type": "stream",
     "text": [
      "                                               "
     ]
    },
    {
     "name": "stdout",
     "output_type": "stream",
     "text": [
      "=== Client 28 Finished Training 6100 samples with T = 0.05 ===\n",
      "client:28 | Train Acc:51.90 | Train Loss:1.6122\n",
      "TEST WITH SP!\n",
      "\n",
      "client:11 | Test Acc:70.30 | Test Loss:1.1136\n",
      "client:2 | Test Acc:73.12 | Test Loss:0.9361\n",
      "client:1 | Test Acc:73.79 | Test Loss:1.0000\n",
      "client:16 | Test Acc:65.78 | Test Loss:1.2548\n",
      "client:10 | Test Acc:70.51 | Test Loss:1.1689\n",
      "client:4 | Test Acc:72.68 | Test Loss:1.0102\n",
      "client:34 | Test Acc:73.62 | Test Loss:0.9336\n",
      "client:18 | Test Acc:72.03 | Test Loss:1.0151\n"
     ]
    },
    {
     "name": "stderr",
     "output_type": "stream",
     "text": [
      "                                      "
     ]
    },
    {
     "name": "stdout",
     "output_type": "stream",
     "text": [
      "client:22 | Test Acc:72.49 | Test Loss:1.0017\n",
      "client:28 | Test Acc:55.73 | Test Loss:1.6001\n"
     ]
    },
    {
     "name": "stderr",
     "output_type": "stream",
     "text": [
      "  0%|          | 0/10 [00:00<?, ?it/s]"
     ]
    },
    {
     "name": "stdout",
     "output_type": "stream",
     "text": [
      "Global Test Result | Acc:65.16, Loss:1.2677\n",
      "===== ROUND 8 START! =====\n",
      "\n",
      "CLIENTS ['12' '34' '2' '25' '27' '1' '17' '15' '20' '16'] ARE SELECTED!\n",
      "\n",
      "TRAIN WITH SP!\n",
      "\n"
     ]
    },
    {
     "name": "stderr",
     "output_type": "stream",
     "text": [
      " 10%|█         | 1/10 [00:11<01:46, 11.79s/it]"
     ]
    },
    {
     "name": "stdout",
     "output_type": "stream",
     "text": [
      "=== Client 12 Finished Training 5760 samples with T = 0.05 ===\n",
      "client:12 | Train Acc:74.20 | Train Loss:0.9077\n"
     ]
    },
    {
     "name": "stderr",
     "output_type": "stream",
     "text": [
      " 20%|██        | 2/10 [00:17<01:07,  8.48s/it]"
     ]
    },
    {
     "name": "stdout",
     "output_type": "stream",
     "text": [
      "=== Client 34 Finished Training 3002 samples with T = 0.05 ===\n",
      "client:34 | Train Acc:81.78 | Train Loss:0.6365\n"
     ]
    },
    {
     "name": "stderr",
     "output_type": "stream",
     "text": [
      " 30%|███       | 3/10 [00:28<01:04,  9.28s/it]"
     ]
    },
    {
     "name": "stdout",
     "output_type": "stream",
     "text": [
      "=== Client 2 Finished Training 4941 samples with T = 0.05 ===\n",
      "client:2 | Train Acc:81.10 | Train Loss:0.7108\n"
     ]
    },
    {
     "name": "stderr",
     "output_type": "stream",
     "text": [
      " 40%|████      | 4/10 [00:41<01:04, 10.73s/it]"
     ]
    },
    {
     "name": "stdout",
     "output_type": "stream",
     "text": [
      "=== Client 25 Finished Training 6286 samples with T = 0.05 ===\n",
      "client:25 | Train Acc:73.62 | Train Loss:0.9165\n"
     ]
    },
    {
     "name": "stderr",
     "output_type": "stream",
     "text": [
      " 50%|█████     | 5/10 [00:54<00:57, 11.57s/it]"
     ]
    },
    {
     "name": "stdout",
     "output_type": "stream",
     "text": [
      "=== Client 27 Finished Training 6294 samples with T = 0.05 ===\n",
      "client:27 | Train Acc:65.86 | Train Loss:1.1991\n"
     ]
    },
    {
     "name": "stderr",
     "output_type": "stream",
     "text": [
      " 60%|██████    | 6/10 [01:00<00:39,  9.80s/it]"
     ]
    },
    {
     "name": "stdout",
     "output_type": "stream",
     "text": [
      "=== Client 1 Finished Training 3071 samples with T = 0.05 ===\n",
      "client:1 | Train Acc:76.55 | Train Loss:0.8512\n"
     ]
    },
    {
     "name": "stderr",
     "output_type": "stream",
     "text": [
      " 70%|███████   | 7/10 [01:06<00:25,  8.63s/it]"
     ]
    },
    {
     "name": "stdout",
     "output_type": "stream",
     "text": [
      "=== Client 17 Finished Training 3008 samples with T = 0.05 ===\n",
      "client:17 | Train Acc:74.14 | Train Loss:0.9263\n"
     ]
    },
    {
     "name": "stderr",
     "output_type": "stream",
     "text": [
      " 80%|████████  | 8/10 [01:12<00:15,  7.84s/it]"
     ]
    },
    {
     "name": "stdout",
     "output_type": "stream",
     "text": [
      "=== Client 15 Finished Training 2987 samples with T = 0.05 ===\n",
      "client:15 | Train Acc:58.86 | Train Loss:1.5124\n"
     ]
    },
    {
     "name": "stderr",
     "output_type": "stream",
     "text": [
      " 90%|█████████ | 9/10 [01:19<00:07,  7.38s/it]"
     ]
    },
    {
     "name": "stdout",
     "output_type": "stream",
     "text": [
      "=== Client 20 Finished Training 3102 samples with T = 0.05 ===\n",
      "client:20 | Train Acc:71.24 | Train Loss:1.0223\n"
     ]
    },
    {
     "name": "stderr",
     "output_type": "stream",
     "text": [
      "                                               "
     ]
    },
    {
     "name": "stdout",
     "output_type": "stream",
     "text": [
      "=== Client 16 Finished Training 2965 samples with T = 0.05 ===\n",
      "client:16 | Train Acc:67.89 | Train Loss:1.1459\n",
      "TEST WITH SP!\n",
      "\n",
      "client:12 | Test Acc:76.23 | Test Loss:0.9497\n",
      "client:34 | Test Acc:73.91 | Test Loss:0.9313\n",
      "client:2 | Test Acc:78.32 | Test Loss:0.7926\n",
      "client:25 | Test Acc:68.41 | Test Loss:1.0835\n",
      "client:27 | Test Acc:66.01 | Test Loss:1.1856\n",
      "client:1 | Test Acc:75.50 | Test Loss:0.9683\n",
      "client:17 | Test Acc:68.02 | Test Loss:1.1440\n"
     ]
    },
    {
     "name": "stderr",
     "output_type": "stream",
     "text": [
      "                                      "
     ]
    },
    {
     "name": "stdout",
     "output_type": "stream",
     "text": [
      "client:15 | Test Acc:56.01 | Test Loss:1.7110\n",
      "client:20 | Test Acc:62.54 | Test Loss:1.4996\n",
      "client:16 | Test Acc:64.31 | Test Loss:1.2399\n"
     ]
    },
    {
     "name": "stderr",
     "output_type": "stream",
     "text": [
      "  0%|          | 0/10 [00:00<?, ?it/s]"
     ]
    },
    {
     "name": "stdout",
     "output_type": "stream",
     "text": [
      "Global Test Result | Acc:67.28, Loss:1.1737\n",
      "===== ROUND 9 START! =====\n",
      "\n",
      "CLIENTS ['0' '12' '11' '14' '21' '31' '23' '6' '7' '24'] ARE SELECTED!\n",
      "\n",
      "TRAIN WITH SP!\n",
      "\n"
     ]
    },
    {
     "name": "stderr",
     "output_type": "stream",
     "text": [
      " 10%|█         | 1/10 [00:05<00:48,  5.43s/it]"
     ]
    },
    {
     "name": "stdout",
     "output_type": "stream",
     "text": [
      "=== Client 0 Finished Training 2754 samples with T = 0.05 ===\n",
      "client:0 | Train Acc:50.91 | Train Loss:1.8365\n"
     ]
    },
    {
     "name": "stderr",
     "output_type": "stream",
     "text": [
      " 20%|██        | 2/10 [00:17<01:14,  9.25s/it]"
     ]
    },
    {
     "name": "stdout",
     "output_type": "stream",
     "text": [
      "=== Client 12 Finished Training 5760 samples with T = 0.05 ===\n",
      "client:12 | Train Acc:73.68 | Train Loss:0.9038\n"
     ]
    },
    {
     "name": "stderr",
     "output_type": "stream",
     "text": [
      " 30%|███       | 3/10 [00:22<00:52,  7.51s/it]"
     ]
    },
    {
     "name": "stdout",
     "output_type": "stream",
     "text": [
      "=== Client 11 Finished Training 2639 samples with T = 0.05 ===\n",
      "client:11 | Train Acc:79.01 | Train Loss:0.7748\n"
     ]
    },
    {
     "name": "stderr",
     "output_type": "stream",
     "text": [
      " 40%|████      | 4/10 [00:28<00:41,  6.97s/it]"
     ]
    },
    {
     "name": "stdout",
     "output_type": "stream",
     "text": [
      "=== Client 14 Finished Training 2946 samples with T = 0.05 ===\n",
      "client:14 | Train Acc:36.32 | Train Loss:2.6170\n"
     ]
    },
    {
     "name": "stderr",
     "output_type": "stream",
     "text": [
      " 50%|█████     | 5/10 [00:35<00:33,  6.74s/it]"
     ]
    },
    {
     "name": "stdout",
     "output_type": "stream",
     "text": [
      "=== Client 21 Finished Training 3099 samples with T = 0.05 ===\n",
      "client:21 | Train Acc:71.70 | Train Loss:0.9912\n"
     ]
    },
    {
     "name": "stderr",
     "output_type": "stream",
     "text": [
      " 60%|██████    | 6/10 [00:40<00:25,  6.33s/it]"
     ]
    },
    {
     "name": "stdout",
     "output_type": "stream",
     "text": [
      "=== Client 31 Finished Training 2677 samples with T = 0.05 ===\n",
      "client:31 | Train Acc:79.45 | Train Loss:0.7888\n"
     ]
    },
    {
     "name": "stderr",
     "output_type": "stream",
     "text": [
      " 70%|███████   | 7/10 [00:47<00:19,  6.42s/it]"
     ]
    },
    {
     "name": "stdout",
     "output_type": "stream",
     "text": [
      "=== Client 23 Finished Training 3216 samples with T = 0.05 ===\n",
      "client:23 | Train Acc:78.95 | Train Loss:0.7476\n"
     ]
    },
    {
     "name": "stderr",
     "output_type": "stream",
     "text": [
      "                                              \r"
     ]
    },
    {
     "ename": "KeyboardInterrupt",
     "evalue": "",
     "output_type": "error",
     "traceback": [
      "\u001b[0;31m---------------------------------------------------------------------------\u001b[0m",
      "\u001b[0;31mKeyboardInterrupt\u001b[0m                         Traceback (most recent call last)",
      "\u001b[0;32m<ipython-input-127-b0a5aecf1789>\u001b[0m in \u001b[0;36m<module>\u001b[0;34m\u001b[0m\n\u001b[1;32m      2\u001b[0m \u001b[0;32mfor\u001b[0m \u001b[0mi\u001b[0m \u001b[0;32min\u001b[0m \u001b[0mrange\u001b[0m\u001b[0;34m(\u001b[0m\u001b[0;36m50\u001b[0m\u001b[0;34m)\u001b[0m\u001b[0;34m:\u001b[0m\u001b[0;34m\u001b[0m\u001b[0;34m\u001b[0m\u001b[0m\n\u001b[1;32m      3\u001b[0m     \u001b[0mprint\u001b[0m\u001b[0;34m(\u001b[0m\u001b[0;34mf'===== ROUND {i+1} START! =====\\n'\u001b[0m\u001b[0;34m)\u001b[0m\u001b[0;34m\u001b[0m\u001b[0;34m\u001b[0m\u001b[0m\n\u001b[0;32m----> 4\u001b[0;31m     \u001b[0mserver\u001b[0m\u001b[0;34m.\u001b[0m\u001b[0mtrain_federated_model\u001b[0m\u001b[0;34m(\u001b[0m\u001b[0;34m)\u001b[0m\u001b[0;34m\u001b[0m\u001b[0;34m\u001b[0m\u001b[0m\n\u001b[0m\u001b[1;32m      5\u001b[0m     \u001b[0mserver\u001b[0m\u001b[0;34m.\u001b[0m\u001b[0mglobal_test\u001b[0m\u001b[0;34m(\u001b[0m\u001b[0;34m)\u001b[0m\u001b[0;34m\u001b[0m\u001b[0;34m\u001b[0m\u001b[0m\n\u001b[1;32m      6\u001b[0m     \u001b[0;32mif\u001b[0m \u001b[0;34m(\u001b[0m\u001b[0mi\u001b[0m\u001b[0;34m+\u001b[0m\u001b[0;36m1\u001b[0m\u001b[0;34m)\u001b[0m \u001b[0;34m%\u001b[0m \u001b[0;36m10\u001b[0m \u001b[0;34m==\u001b[0m \u001b[0;36m0\u001b[0m\u001b[0;34m:\u001b[0m\u001b[0;34m\u001b[0m\u001b[0;34m\u001b[0m\u001b[0m\n",
      "\u001b[0;32m<ipython-input-123-ee5a575933bc>\u001b[0m in \u001b[0;36mtrain_federated_model\u001b[0;34m(self)\u001b[0m\n\u001b[1;32m    150\u001b[0m         \u001b[0;32melse\u001b[0m\u001b[0;34m:\u001b[0m\u001b[0;34m\u001b[0m\u001b[0;34m\u001b[0m\u001b[0m\n\u001b[1;32m    151\u001b[0m             \u001b[0mprint\u001b[0m\u001b[0;34m(\u001b[0m\u001b[0;34m\"TRAIN WITH SP!\\n\"\u001b[0m\u001b[0;34m)\u001b[0m\u001b[0;34m\u001b[0m\u001b[0;34m\u001b[0m\u001b[0m\n\u001b[0;32m--> 152\u001b[0;31m             \u001b[0mselected_total_size\u001b[0m \u001b[0;34m=\u001b[0m \u001b[0mself\u001b[0m\u001b[0;34m.\u001b[0m\u001b[0mtrain_selected_clients\u001b[0m\u001b[0;34m(\u001b[0m\u001b[0msampled_clients\u001b[0m\u001b[0;34m)\u001b[0m\u001b[0;34m\u001b[0m\u001b[0;34m\u001b[0m\u001b[0m\n\u001b[0m\u001b[1;32m    153\u001b[0m \u001b[0;34m\u001b[0m\u001b[0m\n\u001b[1;32m    154\u001b[0m         \u001b[0mprint\u001b[0m\u001b[0;34m(\u001b[0m\u001b[0;34m\"TEST WITH SP!\\n\"\u001b[0m\u001b[0;34m)\u001b[0m\u001b[0;34m\u001b[0m\u001b[0;34m\u001b[0m\u001b[0m\n",
      "\u001b[0;32m<ipython-input-123-ee5a575933bc>\u001b[0m in \u001b[0;36mtrain_selected_clients\u001b[0;34m(self, sampled_clients)\u001b[0m\n\u001b[1;32m     86\u001b[0m         \u001b[0mtotal_sample\u001b[0m \u001b[0;34m=\u001b[0m \u001b[0;36m0\u001b[0m\u001b[0;34m\u001b[0m\u001b[0;34m\u001b[0m\u001b[0m\n\u001b[1;32m     87\u001b[0m         \u001b[0;32mfor\u001b[0m \u001b[0mclient\u001b[0m \u001b[0;32min\u001b[0m \u001b[0mtqdm\u001b[0m\u001b[0;34m(\u001b[0m\u001b[0msampled_clients\u001b[0m\u001b[0;34m,\u001b[0m \u001b[0mleave\u001b[0m\u001b[0;34m=\u001b[0m\u001b[0;32mFalse\u001b[0m\u001b[0;34m)\u001b[0m\u001b[0;34m:\u001b[0m\u001b[0;34m\u001b[0m\u001b[0;34m\u001b[0m\u001b[0m\n\u001b[0;32m---> 88\u001b[0;31m             \u001b[0mself\u001b[0m\u001b[0;34m.\u001b[0m\u001b[0mclients\u001b[0m\u001b[0;34m[\u001b[0m\u001b[0mclient\u001b[0m\u001b[0;34m]\u001b[0m\u001b[0;34m.\u001b[0m\u001b[0mlocal_train\u001b[0m\u001b[0;34m(\u001b[0m\u001b[0;34m)\u001b[0m\u001b[0;34m\u001b[0m\u001b[0;34m\u001b[0m\u001b[0m\n\u001b[0m\u001b[1;32m     89\u001b[0m             \u001b[0mtotal_sample\u001b[0m \u001b[0;34m+=\u001b[0m \u001b[0mlen\u001b[0m\u001b[0;34m(\u001b[0m\u001b[0mself\u001b[0m\u001b[0;34m.\u001b[0m\u001b[0mclients\u001b[0m\u001b[0;34m[\u001b[0m\u001b[0mclient\u001b[0m\u001b[0;34m]\u001b[0m\u001b[0;34m)\u001b[0m\u001b[0;34m\u001b[0m\u001b[0;34m\u001b[0m\u001b[0m\n\u001b[1;32m     90\u001b[0m         \u001b[0;32mreturn\u001b[0m \u001b[0mtotal_sample\u001b[0m\u001b[0;34m\u001b[0m\u001b[0;34m\u001b[0m\u001b[0m\n",
      "\u001b[0;32m/disk1/Kichang/FL/FedAid/client.py\u001b[0m in \u001b[0;36mlocal_train\u001b[0;34m(self)\u001b[0m\n\u001b[1;32m     60\u001b[0m                 \u001b[0mpred\u001b[0m \u001b[0;34m=\u001b[0m \u001b[0mself\u001b[0m\u001b[0;34m.\u001b[0m\u001b[0mmodel\u001b[0m\u001b[0;34m(\u001b[0m\u001b[0mX\u001b[0m\u001b[0;34m)\u001b[0m\u001b[0;34m/\u001b[0m\u001b[0mself\u001b[0m\u001b[0;34m.\u001b[0m\u001b[0mT\u001b[0m\u001b[0;34m\u001b[0m\u001b[0;34m\u001b[0m\u001b[0m\n\u001b[1;32m     61\u001b[0m                 \u001b[0mloss\u001b[0m \u001b[0;34m=\u001b[0m \u001b[0mself\u001b[0m\u001b[0;34m.\u001b[0m\u001b[0mcriterion\u001b[0m\u001b[0;34m(\u001b[0m\u001b[0mpred\u001b[0m\u001b[0;34m,\u001b[0m \u001b[0mY\u001b[0m\u001b[0;34m)\u001b[0m\u001b[0;34m\u001b[0m\u001b[0;34m\u001b[0m\u001b[0m\n\u001b[0;32m---> 62\u001b[0;31m                 \u001b[0mloss\u001b[0m\u001b[0;34m.\u001b[0m\u001b[0mbackward\u001b[0m\u001b[0;34m(\u001b[0m\u001b[0;34m)\u001b[0m\u001b[0;34m\u001b[0m\u001b[0;34m\u001b[0m\u001b[0m\n\u001b[0m\u001b[1;32m     63\u001b[0m                 \u001b[0mself\u001b[0m\u001b[0;34m.\u001b[0m\u001b[0moptimizer\u001b[0m\u001b[0;34m.\u001b[0m\u001b[0mstep\u001b[0m\u001b[0;34m(\u001b[0m\u001b[0;34m)\u001b[0m\u001b[0;34m\u001b[0m\u001b[0;34m\u001b[0m\u001b[0m\n\u001b[1;32m     64\u001b[0m                 \u001b[0;32mif\u001b[0m \u001b[0;34m\"cuda\"\u001b[0m \u001b[0;32min\u001b[0m \u001b[0mself\u001b[0m\u001b[0;34m.\u001b[0m\u001b[0mdevice\u001b[0m \u001b[0;34m:\u001b[0m \u001b[0mtorch\u001b[0m\u001b[0;34m.\u001b[0m\u001b[0mcuda\u001b[0m\u001b[0;34m.\u001b[0m\u001b[0mempty_cache\u001b[0m\u001b[0;34m(\u001b[0m\u001b[0;34m)\u001b[0m\u001b[0;34m\u001b[0m\u001b[0;34m\u001b[0m\u001b[0m\n",
      "\u001b[0;32m/usr/local/lib/python3.8/dist-packages/torch/_tensor.py\u001b[0m in \u001b[0;36mbackward\u001b[0;34m(self, gradient, retain_graph, create_graph, inputs)\u001b[0m\n\u001b[1;32m    305\u001b[0m                 \u001b[0mcreate_graph\u001b[0m\u001b[0;34m=\u001b[0m\u001b[0mcreate_graph\u001b[0m\u001b[0;34m,\u001b[0m\u001b[0;34m\u001b[0m\u001b[0;34m\u001b[0m\u001b[0m\n\u001b[1;32m    306\u001b[0m                 inputs=inputs)\n\u001b[0;32m--> 307\u001b[0;31m         \u001b[0mtorch\u001b[0m\u001b[0;34m.\u001b[0m\u001b[0mautograd\u001b[0m\u001b[0;34m.\u001b[0m\u001b[0mbackward\u001b[0m\u001b[0;34m(\u001b[0m\u001b[0mself\u001b[0m\u001b[0;34m,\u001b[0m \u001b[0mgradient\u001b[0m\u001b[0;34m,\u001b[0m \u001b[0mretain_graph\u001b[0m\u001b[0;34m,\u001b[0m \u001b[0mcreate_graph\u001b[0m\u001b[0;34m,\u001b[0m \u001b[0minputs\u001b[0m\u001b[0;34m=\u001b[0m\u001b[0minputs\u001b[0m\u001b[0;34m)\u001b[0m\u001b[0;34m\u001b[0m\u001b[0;34m\u001b[0m\u001b[0m\n\u001b[0m\u001b[1;32m    308\u001b[0m \u001b[0;34m\u001b[0m\u001b[0m\n\u001b[1;32m    309\u001b[0m     \u001b[0;32mdef\u001b[0m \u001b[0mregister_hook\u001b[0m\u001b[0;34m(\u001b[0m\u001b[0mself\u001b[0m\u001b[0;34m,\u001b[0m \u001b[0mhook\u001b[0m\u001b[0;34m)\u001b[0m\u001b[0;34m:\u001b[0m\u001b[0;34m\u001b[0m\u001b[0;34m\u001b[0m\u001b[0m\n",
      "\u001b[0;32m/usr/local/lib/python3.8/dist-packages/torch/autograd/__init__.py\u001b[0m in \u001b[0;36mbackward\u001b[0;34m(tensors, grad_tensors, retain_graph, create_graph, grad_variables, inputs)\u001b[0m\n\u001b[1;32m    152\u001b[0m         \u001b[0mretain_graph\u001b[0m \u001b[0;34m=\u001b[0m \u001b[0mcreate_graph\u001b[0m\u001b[0;34m\u001b[0m\u001b[0;34m\u001b[0m\u001b[0m\n\u001b[1;32m    153\u001b[0m \u001b[0;34m\u001b[0m\u001b[0m\n\u001b[0;32m--> 154\u001b[0;31m     Variable._execution_engine.run_backward(\n\u001b[0m\u001b[1;32m    155\u001b[0m         \u001b[0mtensors\u001b[0m\u001b[0;34m,\u001b[0m \u001b[0mgrad_tensors_\u001b[0m\u001b[0;34m,\u001b[0m \u001b[0mretain_graph\u001b[0m\u001b[0;34m,\u001b[0m \u001b[0mcreate_graph\u001b[0m\u001b[0;34m,\u001b[0m \u001b[0minputs\u001b[0m\u001b[0;34m,\u001b[0m\u001b[0;34m\u001b[0m\u001b[0;34m\u001b[0m\u001b[0m\n\u001b[1;32m    156\u001b[0m         allow_unreachable=True, accumulate_grad=True)  # allow_unreachable flag\n",
      "\u001b[0;31mKeyboardInterrupt\u001b[0m: "
     ]
    }
   ],
   "source": [
    "server.save_model(round=0)\n",
    "for i in range(50):\n",
    "    print(f'===== ROUND {i+1} START! =====\\n')\n",
    "    server.train_federated_model()\n",
    "    server.global_test()\n",
    "    if (i+1) % 10 == 0:\n",
    "        server.save_model(round=i+1)"
   ]
  },
  {
   "cell_type": "code",
   "execution_count": null,
   "metadata": {},
   "outputs": [],
   "source": []
  }
 ],
 "metadata": {
  "kernelspec": {
   "display_name": "Python 3",
   "language": "python",
   "name": "python3"
  },
  "language_info": {
   "codemirror_mode": {
    "name": "ipython",
    "version": 3
   },
   "file_extension": ".py",
   "mimetype": "text/x-python",
   "name": "python",
   "nbconvert_exporter": "python",
   "pygments_lexer": "ipython3",
   "version": "3.8.10"
  },
  "orig_nbformat": 4,
  "vscode": {
   "interpreter": {
    "hash": "5b3ded1ccb95c1d9bd405e7b823d9e85424cde40fbb5985eb47e999ef50e15b4"
   }
  }
 },
 "nbformat": 4,
 "nbformat_minor": 2
}
