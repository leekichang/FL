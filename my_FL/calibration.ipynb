{
 "cells": [
  {
   "cell_type": "code",
   "execution_count": 3,
   "metadata": {},
   "outputs": [],
   "source": [
    "import torch\n",
    "import numpy as np\n",
    "import config as cfg\n",
    "from tqdm import tqdm\n",
    "import torch.nn as nn\n",
    "from datamanager import *\n",
    "from models import *\n",
    "import sklearn.metrics as metrics\n",
    "from torch.utils.data import DataLoader"
   ]
  },
  {
   "cell_type": "code",
   "execution_count": 4,
   "metadata": {},
   "outputs": [],
   "source": [
    "PATH = cfg.DATAPATH['femnist']\n",
    "file_dict = get_files(PATH)"
   ]
  },
  {
   "cell_type": "code",
   "execution_count": 5,
   "metadata": {},
   "outputs": [],
   "source": [
    "TEST_DM = DataManager(file_dict['test'], is_train=False, is_flat=False)"
   ]
  },
  {
   "cell_type": "code",
   "execution_count": 6,
   "metadata": {},
   "outputs": [],
   "source": [
    "data       = FEMNIST(TEST_DM.global_test_data)\n",
    "dataloader = DataLoader(data, batch_size=256, shuffle=False, drop_last=False)"
   ]
  },
  {
   "cell_type": "code",
   "execution_count": 40,
   "metadata": {},
   "outputs": [
    {
     "data": {
      "text/plain": [
       "<All keys matched successfully>"
      ]
     },
     "execution_count": 40,
     "metadata": {},
     "output_type": "execute_result"
    }
   ],
   "source": [
    "T = 0.1\n",
    "saved_model = CNN()\n",
    "saved_model.load_state_dict(torch.load(f'./checkpoints/cnn_femnist_{T}/_100.pth'))"
   ]
  },
  {
   "cell_type": "code",
   "execution_count": 41,
   "metadata": {},
   "outputs": [
    {
     "data": {
      "text/plain": [
       "CNN(\n",
       "  (conv1): Conv2d(1, 10, kernel_size=(5, 5), stride=(1, 1))\n",
       "  (conv2): Conv2d(10, 20, kernel_size=(5, 5), stride=(1, 1))\n",
       "  (conv2_drop): Dropout2d(p=0.5, inplace=False)\n",
       "  (fc1): Linear(in_features=320, out_features=50, bias=True)\n",
       "  (fc2): Linear(in_features=50, out_features=62, bias=True)\n",
       ")"
      ]
     },
     "execution_count": 41,
     "metadata": {},
     "output_type": "execute_result"
    }
   ],
   "source": [
    "saved_model.eval()\n",
    "saved_model.to(cfg.DEVICE)"
   ]
  },
  {
   "cell_type": "code",
   "execution_count": 42,
   "metadata": {},
   "outputs": [
    {
     "name": "stderr",
     "output_type": "stream",
     "text": [
      "100%|██████████| 66/66 [00:00<00:00, 130.30it/s]\n"
     ]
    }
   ],
   "source": [
    "result_pred, result_anno = [], []\n",
    "preds = []\n",
    "for idx, batch in enumerate(tqdm(dataloader)):\n",
    "    with torch.no_grad():\n",
    "        X, Y = batch\n",
    "        X, Y = X.to(cfg.DEVICE), Y.to(cfg.DEVICE)\n",
    "        pred = saved_model(X)/T\n",
    "        preds.append(pred.to('cpu').detach())\n",
    "        pred_np  = pred.to('cpu').detach().numpy()\n",
    "        pred_np  = np.argmax(pred_np, axis=1).squeeze()\n",
    "        Y_np     = Y.to('cpu').detach().numpy().reshape(-1, 1).squeeze()\n",
    "        result_pred = np.hstack((result_pred, pred_np))\n",
    "        result_anno = np.hstack((result_anno, Y_np))\n",
    "    acc = metrics.accuracy_score(y_true=result_anno, y_pred=result_pred)"
   ]
  },
  {
   "cell_type": "code",
   "execution_count": 43,
   "metadata": {},
   "outputs": [
    {
     "name": "stdout",
     "output_type": "stream",
     "text": [
      "0.8061634390550992\n"
     ]
    }
   ],
   "source": [
    "print(acc)"
   ]
  },
  {
   "cell_type": "code",
   "execution_count": 44,
   "metadata": {},
   "outputs": [],
   "source": [
    "preds = np.vstack(preds)\n",
    "preds = torch.from_numpy(preds)"
   ]
  },
  {
   "cell_type": "code",
   "execution_count": 45,
   "metadata": {},
   "outputs": [],
   "source": [
    "softmax = nn.Softmax(dim=1)\n",
    "probs = softmax(preds)"
   ]
  },
  {
   "cell_type": "code",
   "execution_count": 46,
   "metadata": {},
   "outputs": [],
   "source": [
    "def get_calibration(probs, anno):\n",
    "    \"\"\"\n",
    "    probs: 각 sample에 대한 probability 정보 ()\n",
    "    anno: 각 sample의 ground truth 정보\n",
    "    \n",
    "    \"\"\"\n",
    "    assert len(probs) == len(anno)\n",
    "    calib_dict = {True:{f'{0.1*i:.1f}':0 for i in range(11)},\n",
    "                  False:{f'{0.1*i:.1f}':0 for i in range(11)}}\n",
    "    for idx, prob in enumerate(probs):\n",
    "        flag = bool(np.argmax(prob)==anno[idx])\n",
    "        calib_dict[flag][f'{max(prob):.1f}'] += 1\n",
    "    \n",
    "    keys = list(calib_dict[True].keys())\n",
    "    keys.sort()\n",
    "    \n",
    "    calibs = []\n",
    "    \n",
    "    for key in keys:\n",
    "        calibs.append(calib_dict[True][key]/(calib_dict[True][key]+calib_dict[False][key]+1e-5))\n",
    "    return calibs, keys\n",
    "\n",
    "calibs, keys = get_calibration(probs, result_anno)"
   ]
  },
  {
   "cell_type": "code",
   "execution_count": 47,
   "metadata": {},
   "outputs": [
    {
     "name": "stdout",
     "output_type": "stream",
     "text": [
      "Average Prob:0.8515 Average Acc:0.8062\n"
     ]
    }
   ],
   "source": [
    "avg_prob = torch.mean(torch.max(probs, dim=1).values)\n",
    "print(f\"Average Prob:{avg_prob:0.4f} Average Acc:{acc:0.4f}\")"
   ]
  },
  {
   "cell_type": "code",
   "execution_count": 48,
   "metadata": {},
   "outputs": [
    {
     "data": {
      "image/png": "[encoded data removed]",
      "text/plain": [
       "<Figure size 576x576 with 1 Axes>"
      ]
     },
     "metadata": {
      "needs_background": "light"
     },
     "output_type": "display_data"
    }
   ],
   "source": [
    "probs_np = np.array(torch.max(probs, dim=1).values)\n",
    "plt.figure(figsize=(8,8))\n",
    "plt.hist(probs_np,bins=50, color='green')\n",
    "plt.vlines(x=acc, ymin=0, ymax=1500, color='red', linestyle='--', linewidth=2, label='average accuracy')\n",
    "plt.vlines(x=avg_prob, ymin=0, ymax=1000, color='blue', linestyle='--', linewidth=2, label='average probability')\n",
    "plt.legend()\n",
    "plt.xlim([0,1])\n",
    "plt.show()"
   ]
  },
  {
   "cell_type": "code",
   "execution_count": 49,
   "metadata": {},
   "outputs": [
    {
     "data": {
      "text/plain": [
       "[0.0,\n",
       " 0.0,\n",
       " 0.2244897501041326,\n",
       " 0.3252427026581212,\n",
       " 0.38312828852147124,\n",
       " 0.4615384571553803,\n",
       " 0.5456831471443157,\n",
       " 0.5827338082914963,\n",
       " 0.6929884227842857,\n",
       " 0.813374122319169,\n",
       " 0.9772119509624324]"
      ]
     },
     "execution_count": 49,
     "metadata": {},
     "output_type": "execute_result"
    }
   ],
   "source": [
    "calibs"
   ]
  },
  {
   "cell_type": "code",
   "execution_count": 50,
   "metadata": {},
   "outputs": [
    {
     "data": {
      "image/png": "[encoded data removed]",
      "text/plain": [
       "<Figure size 576x576 with 1 Axes>"
      ]
     },
     "metadata": {
      "needs_background": "light"
     },
     "output_type": "display_data"
    }
   ],
   "source": [
    "plt.figure(figsize=(8,8))\n",
    "plt.plot([f'{0.1*i:.1f}' for i in range(0, 11)], [0.1*i for i in range(0, 11)], color='r', linewidth=4)\n",
    "plt.bar(x=[f'{0.1*i:.1f}' for i in range(0, 11)], height=calibs)\n",
    "plt.show()"
   ]
  },
  {
   "cell_type": "code",
   "execution_count": 35,
   "metadata": {},
   "outputs": [
    {
     "data": {
      "image/png": "[encoded data removed]",
      "text/plain": [
       "<Figure size 360x360 with 1 Axes>"
      ]
     },
     "metadata": {
      "needs_background": "light"
     },
     "output_type": "display_data"
    }
   ],
   "source": [
    "import matplotlib.pyplot as plt\n",
    "plt.figure(figsize=(5,5))\n",
    "plt.plot([0.1*i for i in range(0, 11)], calibs)\n",
    "plt.show()"
   ]
  },
  {
   "cell_type": "code",
   "execution_count": 52,
   "metadata": {},
   "outputs": [
    {
     "name": "stdout",
     "output_type": "stream",
     "text": [
      "0.99998665\n"
     ]
    }
   ],
   "source": [
    "p = pred[0].detach().cpu()\n",
    "p_ = nn.Softmax(dim=0)(p/0.1).numpy()\n",
    "print(max(p_)-min(p_))"
   ]
  },
  {
   "cell_type": "code",
   "execution_count": 53,
   "metadata": {},
   "outputs": [
    {
     "name": "stdout",
     "output_type": "stream",
     "text": [
      "tensor(0.9667)\n"
     ]
    }
   ],
   "source": [
    "print(max(probs[0])-min(probs[0]))"
   ]
  },
  {
   "cell_type": "code",
   "execution_count": 23,
   "metadata": {},
   "outputs": [
    {
     "data": {
      "image/png": "[encoded data removed]",
      "text/plain": [
       "<Figure size 432x288 with 1 Axes>"
      ]
     },
     "metadata": {
      "needs_background": "light"
     },
     "output_type": "display_data"
    }
   ],
   "source": [
    "plt.hist(np.array(p), bins=15)\n",
    "plt.show()"
   ]
  },
  {
   "cell_type": "code",
   "execution_count": 39,
   "metadata": {},
   "outputs": [
    {
     "data": {
      "image/png": "[encoded data removed]",
      "text/plain": [
       "<Figure size 432x288 with 1 Axes>"
      ]
     },
     "metadata": {
      "needs_background": "light"
     },
     "output_type": "display_data"
    }
   ],
   "source": [
    "plt.hist(np.array(p), bins=15)\n",
    "plt.show()"
   ]
  },
  {
   "cell_type": "code",
   "execution_count": 54,
   "metadata": {},
   "outputs": [
    {
     "data": {
      "image/png": "[encoded data removed]",
      "text/plain": [
       "<Figure size 432x288 with 1 Axes>"
      ]
     },
     "metadata": {
      "needs_background": "light"
     },
     "output_type": "display_data"
    }
   ],
   "source": [
    "plt.hist(np.array(p), bins=15)\n",
    "plt.show()"
   ]
  },
  {
   "cell_type": "code",
   "execution_count": 22,
   "metadata": {},
   "outputs": [
    {
     "data": {
      "image/png": "[encoded data removed]",
      "text/plain": [
       "<Figure size 432x288 with 1 Axes>"
      ]
     },
     "metadata": {
      "needs_background": "light"
     },
     "output_type": "display_data"
    }
   ],
   "source": [
    "plt.hist(np.array(p_), bins=15)\n",
    "plt.hist(nn.Softmax(dim=0)(p).numpy(), bins=15)\n",
    "plt.show()"
   ]
  },
  {
   "cell_type": "code",
   "execution_count": 57,
   "metadata": {},
   "outputs": [
    {
     "data": {
      "image/png": "[encoded data removed]",
      "text/plain": [
       "<Figure size 432x288 with 1 Axes>"
      ]
     },
     "metadata": {
      "needs_background": "light"
     },
     "output_type": "display_data"
    }
   ],
   "source": [
    "plt.hist(np.array(p)/0.1, bins=15, label='scaled')\n",
    "plt.hist(np.array(p), bins=15, label='original')\n",
    "plt.legend()\n",
    "plt.show()"
   ]
  }
 ],
 "metadata": {
  "kernelspec": {
   "display_name": "Python 3",
   "language": "python",
   "name": "python3"
  },
  "language_info": {
   "codemirror_mode": {
    "name": "ipython",
    "version": 3
   },
   "file_extension": ".py",
   "mimetype": "text/x-python",
   "name": "python",
   "nbconvert_exporter": "python",
   "pygments_lexer": "ipython3",
   "version": "3.8.10"
  },
  "orig_nbformat": 4,
  "vscode": {
   "interpreter": {
    "hash": "5b3ded1ccb95c1d9bd405e7b823d9e85424cde40fbb5985eb47e999ef50e15b4"
   }
  }
 },
 "nbformat": 4,
 "nbformat_minor": 2
}
