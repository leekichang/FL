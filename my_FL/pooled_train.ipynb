{
 "cells": [
  {
   "cell_type": "code",
   "execution_count": 40,
   "metadata": {},
   "outputs": [],
   "source": [
    "import os\n",
    "import json\n",
    "import torch\n",
    "import numpy as np\n",
    "import matplotlib.pyplot as plt\n",
    "from torch.utils.data import Dataset, DataLoader\n",
    "\n",
    "import utils\n",
    "import config as cfg\n",
    "\n",
    "from models import *\n",
    "\n",
    "from torch.optim import SGD\n",
    "import torch.nn as nn\n",
    "import sklearn.metrics as metrics\n",
    "from tqdm import tqdm\n",
    "\n",
    "def get_files(PATH:str)->dict:\n",
    "    file_dict = {'train':None, 'test':None}\n",
    "    \n",
    "    files = [os.path.join(PATH+'/train', file) \\\n",
    "        for file in os.listdir(PATH+'/train') if file.endswith('.json')]\n",
    "    files.sort()\n",
    "    file_dict['train'] = files\n",
    "    \n",
    "    files = [os.path.join(PATH+'/test', file) \\\n",
    "        for file in os.listdir(PATH+'/test') if file.endswith('.json')]\n",
    "    files.sort()\n",
    "    file_dict['test'] = files\n",
    "    return file_dict\n",
    "\n",
    "class DataManager():\n",
    "    def __init__(self, files:list, is_train:bool=True, is_flat=True):\n",
    "        self.files = files\n",
    "        self.is_train = is_train\n",
    "        self.global_train_data = {'x':[], 'y':[]}\n",
    "        self.global_test_data = {'x':[], 'y':[]}\n",
    "        \n",
    "        for idx, file in enumerate(self.files):\n",
    "            idx = str(idx)\n",
    "            with open(file) as f:\n",
    "                data = json.load(f)\n",
    "\n",
    "                for user in data['users']:  \n",
    "                    self.global_train_data['x'] = self.global_train_data['x'] + data['user_data'][user]['x']\n",
    "                    self.global_train_data['y'] = self.global_train_data['y'] + data['user_data'][user]['y']\n",
    "                    \n",
    "                if not self.is_train:                   \n",
    "                    for user in data['users']:\n",
    "                        self.global_test_data['x'] = self.global_test_data['x'] + data['user_data'][user]['x']\n",
    "                        self.global_test_data['y'] = self.global_test_data['y'] + data['user_data'][user]['y']\n",
    "\n",
    "        if not is_flat:\n",
    "            self.global_train_data['x'] = np.reshape(self.global_train_data['x'], (-1, 1, 28, 28))\n",
    "            if not self.is_train:\n",
    "                self.global_test_data['x'] = np.reshape(self.global_test_data['x'], (-1, 1, 28, 28))\n",
    "                \n",
    "class FEMNIST(Dataset):\n",
    "    def __init__(self, data:dict):\n",
    "        self.data = data\n",
    "        self.data['x'] = np.array(data['x'])\n",
    "        self.data['y'] = np.array(data['y'])\n",
    "        \n",
    "    def __getitem__(self, idx):\n",
    "        self.X = torch.tensor(self.data['x'][idx,:]).float()\n",
    "        self.Y = torch.tensor(self.data['y'][idx]).long()\n",
    "        return self.X, self.Y\n",
    "\n",
    "    def __len__(self):\n",
    "        return len(self.data['y'])\n",
    "    \n",
    "    "
   ]
  },
  {
   "cell_type": "code",
   "execution_count": 41,
   "metadata": {},
   "outputs": [],
   "source": [
    "class Args:\n",
    "    def __init__(self):\n",
    "        self.model = 'cnn'\n",
    "        self.T_type = 0\n",
    "        self.dataset = 'femnist'"
   ]
  },
  {
   "cell_type": "code",
   "execution_count": 42,
   "metadata": {},
   "outputs": [
    {
     "name": "stdout",
     "output_type": "stream",
     "text": [
      "DATA READY\n",
      "WORKING WITH cuda\n"
     ]
    }
   ],
   "source": [
    "args = Args()\n",
    "args_dict  = utils.args2dict(args)\n",
    "PATH       = cfg.DATAPATH['femnist']\n",
    "    \n",
    "file_dict  = get_files(PATH)\n",
    "TRAIN_DM   = DataManager(file_dict['train'], is_train=True, is_flat=args.model=='dnn')\n",
    "TEST_DM    = DataManager(file_dict['test'], is_train=False, is_flat=args.model=='dnn')\n",
    "\n",
    "print(\"DATA READY\")\n",
    "    \n",
    "print(f\"WORKING WITH {cfg.DEVICE}\")\n",
    "\n"
   ]
  },
  {
   "cell_type": "code",
   "execution_count": 44,
   "metadata": {},
   "outputs": [],
   "source": [
    "train_data = FEMNIST(TRAIN_DM.global_train_data)\n",
    "test_data  = FEMNIST(TEST_DM.global_test_data)"
   ]
  },
  {
   "cell_type": "code",
   "execution_count": 45,
   "metadata": {},
   "outputs": [],
   "source": [
    "train_loader = DataLoader(train_data, batch_size=256, shuffle=True, drop_last=True)\n",
    "test_loader = DataLoader(test_data, batch_size=256, shuffle=False, drop_last=False)\n",
    "    "
   ]
  },
  {
   "cell_type": "code",
   "execution_count": 53,
   "metadata": {},
   "outputs": [],
   "source": [
    "T      = 0.1\n",
    "EPOCHS = 200\n",
    "LR     = 0.001\n",
    "model = utils.get_model(args_dict['model'])\n",
    "optimizer = SGD(params=model.parameters(), lr=LR)\n",
    "criterion = nn.CrossEntropyLoss()"
   ]
  },
  {
   "cell_type": "code",
   "execution_count": 54,
   "metadata": {},
   "outputs": [
    {
     "name": "stderr",
     "output_type": "stream",
     "text": [
      "  0%|          | 1/200 [00:05<17:18,  5.22s/it]"
     ]
    },
    {
     "name": "stdout",
     "output_type": "stream",
     "text": [
      "1 epoch training loss = 3.9768\n",
      "1 epoch test loss     = 3.7243\n",
      "1 epoch test ACC      = 5.62\n"
     ]
    },
    {
     "name": "stderr",
     "output_type": "stream",
     "text": [
      "  1%|          | 2/200 [00:10<17:30,  5.31s/it]"
     ]
    },
    {
     "name": "stdout",
     "output_type": "stream",
     "text": [
      "2 epoch training loss = 3.7176\n",
      "2 epoch test loss     = 3.6557\n",
      "2 epoch test ACC      = 14.15\n"
     ]
    },
    {
     "name": "stderr",
     "output_type": "stream",
     "text": [
      "  2%|▏         | 3/200 [00:15<17:19,  5.28s/it]"
     ]
    },
    {
     "name": "stdout",
     "output_type": "stream",
     "text": [
      "3 epoch training loss = 3.6675\n",
      "3 epoch test loss     = 3.6123\n",
      "3 epoch test ACC      = 21.40\n"
     ]
    },
    {
     "name": "stderr",
     "output_type": "stream",
     "text": [
      "  2%|▏         | 4/200 [00:21<17:27,  5.35s/it]"
     ]
    },
    {
     "name": "stdout",
     "output_type": "stream",
     "text": [
      "4 epoch training loss = 3.6211\n",
      "4 epoch test loss     = 3.5538\n",
      "4 epoch test ACC      = 25.75\n"
     ]
    },
    {
     "name": "stderr",
     "output_type": "stream",
     "text": [
      "  2%|▎         | 5/200 [00:26<16:59,  5.23s/it]"
     ]
    },
    {
     "name": "stdout",
     "output_type": "stream",
     "text": [
      "5 epoch training loss = 3.5513\n",
      "5 epoch test loss     = 3.4569\n",
      "5 epoch test ACC      = 27.68\n"
     ]
    },
    {
     "name": "stderr",
     "output_type": "stream",
     "text": [
      "  3%|▎         | 6/200 [00:31<16:54,  5.23s/it]"
     ]
    },
    {
     "name": "stdout",
     "output_type": "stream",
     "text": [
      "6 epoch training loss = 3.4415\n",
      "6 epoch test loss     = 3.2993\n",
      "6 epoch test ACC      = 31.87\n"
     ]
    },
    {
     "name": "stderr",
     "output_type": "stream",
     "text": [
      "  4%|▎         | 7/200 [00:36<16:50,  5.24s/it]"
     ]
    },
    {
     "name": "stdout",
     "output_type": "stream",
     "text": [
      "7 epoch training loss = 3.2815\n",
      "7 epoch test loss     = 3.0923\n",
      "7 epoch test ACC      = 34.74\n"
     ]
    },
    {
     "name": "stderr",
     "output_type": "stream",
     "text": [
      "  4%|▍         | 8/200 [00:42<16:52,  5.27s/it]"
     ]
    },
    {
     "name": "stdout",
     "output_type": "stream",
     "text": [
      "8 epoch training loss = 3.0896\n",
      "8 epoch test loss     = 2.8679\n",
      "8 epoch test ACC      = 38.30\n"
     ]
    },
    {
     "name": "stderr",
     "output_type": "stream",
     "text": [
      "  4%|▍         | 9/200 [00:47<16:55,  5.32s/it]"
     ]
    },
    {
     "name": "stdout",
     "output_type": "stream",
     "text": [
      "9 epoch training loss = 2.8933\n",
      "9 epoch test loss     = 2.6515\n",
      "9 epoch test ACC      = 41.48\n"
     ]
    },
    {
     "name": "stderr",
     "output_type": "stream",
     "text": [
      "  5%|▌         | 10/200 [00:52<16:40,  5.27s/it]"
     ]
    },
    {
     "name": "stdout",
     "output_type": "stream",
     "text": [
      "10 epoch training loss = 2.7021\n",
      "10 epoch test loss     = 2.4487\n",
      "10 epoch test ACC      = 44.55\n"
     ]
    },
    {
     "name": "stderr",
     "output_type": "stream",
     "text": [
      "  6%|▌         | 11/200 [00:58<16:39,  5.29s/it]"
     ]
    },
    {
     "name": "stdout",
     "output_type": "stream",
     "text": [
      "11 epoch training loss = 2.5278\n",
      "11 epoch test loss     = 2.2639\n",
      "11 epoch test ACC      = 47.65\n"
     ]
    },
    {
     "name": "stderr",
     "output_type": "stream",
     "text": [
      "  6%|▌         | 12/200 [01:03<16:41,  5.33s/it]"
     ]
    },
    {
     "name": "stdout",
     "output_type": "stream",
     "text": [
      "12 epoch training loss = 2.3685\n",
      "12 epoch test loss     = 2.1040\n",
      "12 epoch test ACC      = 50.67\n"
     ]
    },
    {
     "name": "stderr",
     "output_type": "stream",
     "text": [
      "  6%|▋         | 13/200 [01:08<15:59,  5.13s/it]"
     ]
    },
    {
     "name": "stdout",
     "output_type": "stream",
     "text": [
      "13 epoch training loss = 2.2290\n",
      "13 epoch test loss     = 1.9633\n",
      "13 epoch test ACC      = 53.02\n"
     ]
    },
    {
     "name": "stderr",
     "output_type": "stream",
     "text": [
      "  7%|▋         | 14/200 [01:13<15:52,  5.12s/it]"
     ]
    },
    {
     "name": "stdout",
     "output_type": "stream",
     "text": [
      "14 epoch training loss = 2.1050\n",
      "14 epoch test loss     = 1.8404\n",
      "14 epoch test ACC      = 55.09\n"
     ]
    },
    {
     "name": "stderr",
     "output_type": "stream",
     "text": [
      "  8%|▊         | 15/200 [01:18<15:46,  5.12s/it]"
     ]
    },
    {
     "name": "stdout",
     "output_type": "stream",
     "text": [
      "15 epoch training loss = 1.9968\n",
      "15 epoch test loss     = 1.7326\n",
      "15 epoch test ACC      = 57.33\n"
     ]
    },
    {
     "name": "stderr",
     "output_type": "stream",
     "text": [
      "  8%|▊         | 16/200 [01:23<15:46,  5.14s/it]"
     ]
    },
    {
     "name": "stdout",
     "output_type": "stream",
     "text": [
      "16 epoch training loss = 1.8991\n",
      "16 epoch test loss     = 1.6371\n",
      "16 epoch test ACC      = 58.95\n"
     ]
    },
    {
     "name": "stderr",
     "output_type": "stream",
     "text": [
      "  8%|▊         | 17/200 [01:28<15:38,  5.13s/it]"
     ]
    },
    {
     "name": "stdout",
     "output_type": "stream",
     "text": [
      "17 epoch training loss = 1.8097\n",
      "17 epoch test loss     = 1.5538\n",
      "17 epoch test ACC      = 60.61\n"
     ]
    },
    {
     "name": "stderr",
     "output_type": "stream",
     "text": [
      "  9%|▉         | 18/200 [01:33<15:37,  5.15s/it]"
     ]
    },
    {
     "name": "stdout",
     "output_type": "stream",
     "text": [
      "18 epoch training loss = 1.7300\n",
      "18 epoch test loss     = 1.4770\n",
      "18 epoch test ACC      = 61.92\n"
     ]
    },
    {
     "name": "stderr",
     "output_type": "stream",
     "text": [
      " 10%|▉         | 19/200 [01:39<15:40,  5.19s/it]"
     ]
    },
    {
     "name": "stdout",
     "output_type": "stream",
     "text": [
      "19 epoch training loss = 1.6625\n",
      "19 epoch test loss     = 1.4097\n",
      "19 epoch test ACC      = 63.24\n"
     ]
    },
    {
     "name": "stderr",
     "output_type": "stream",
     "text": [
      " 10%|█         | 20/200 [01:44<15:45,  5.25s/it]"
     ]
    },
    {
     "name": "stdout",
     "output_type": "stream",
     "text": [
      "20 epoch training loss = 1.5928\n",
      "20 epoch test loss     = 1.3503\n",
      "20 epoch test ACC      = 64.27\n"
     ]
    },
    {
     "name": "stderr",
     "output_type": "stream",
     "text": [
      " 10%|█         | 21/200 [01:49<15:39,  5.25s/it]"
     ]
    },
    {
     "name": "stdout",
     "output_type": "stream",
     "text": [
      "21 epoch training loss = 1.5343\n",
      "21 epoch test loss     = 1.2958\n",
      "21 epoch test ACC      = 65.35\n"
     ]
    },
    {
     "name": "stderr",
     "output_type": "stream",
     "text": [
      " 11%|█         | 22/200 [01:54<15:27,  5.21s/it]"
     ]
    },
    {
     "name": "stdout",
     "output_type": "stream",
     "text": [
      "22 epoch training loss = 1.4843\n",
      "22 epoch test loss     = 1.2487\n",
      "22 epoch test ACC      = 66.28\n"
     ]
    },
    {
     "name": "stderr",
     "output_type": "stream",
     "text": [
      " 12%|█▏        | 23/200 [02:00<15:23,  5.22s/it]"
     ]
    },
    {
     "name": "stdout",
     "output_type": "stream",
     "text": [
      "23 epoch training loss = 1.4359\n",
      "23 epoch test loss     = 1.2070\n",
      "23 epoch test ACC      = 67.07\n"
     ]
    },
    {
     "name": "stderr",
     "output_type": "stream",
     "text": [
      " 12%|█▏        | 24/200 [02:05<15:20,  5.23s/it]"
     ]
    },
    {
     "name": "stdout",
     "output_type": "stream",
     "text": [
      "24 epoch training loss = 1.3909\n",
      "24 epoch test loss     = 1.1675\n",
      "24 epoch test ACC      = 67.76\n"
     ]
    },
    {
     "name": "stderr",
     "output_type": "stream",
     "text": [
      " 12%|█▎        | 25/200 [02:10<15:09,  5.20s/it]"
     ]
    },
    {
     "name": "stdout",
     "output_type": "stream",
     "text": [
      "25 epoch training loss = 1.3540\n",
      "25 epoch test loss     = 1.1348\n",
      "25 epoch test ACC      = 68.46\n"
     ]
    },
    {
     "name": "stderr",
     "output_type": "stream",
     "text": [
      " 13%|█▎        | 26/200 [02:15<15:07,  5.22s/it]"
     ]
    },
    {
     "name": "stdout",
     "output_type": "stream",
     "text": [
      "26 epoch training loss = 1.3211\n",
      "26 epoch test loss     = 1.1013\n",
      "26 epoch test ACC      = 69.40\n"
     ]
    },
    {
     "name": "stderr",
     "output_type": "stream",
     "text": [
      " 14%|█▎        | 27/200 [02:20<14:38,  5.08s/it]"
     ]
    },
    {
     "name": "stdout",
     "output_type": "stream",
     "text": [
      "27 epoch training loss = 1.2865\n",
      "27 epoch test loss     = 1.0761\n",
      "27 epoch test ACC      = 69.81\n"
     ]
    },
    {
     "name": "stderr",
     "output_type": "stream",
     "text": [
      " 14%|█▍        | 28/200 [02:26<15:01,  5.24s/it]"
     ]
    },
    {
     "name": "stdout",
     "output_type": "stream",
     "text": [
      "28 epoch training loss = 1.2582\n",
      "28 epoch test loss     = 1.0504\n",
      "28 epoch test ACC      = 70.47\n"
     ]
    },
    {
     "name": "stderr",
     "output_type": "stream",
     "text": [
      " 14%|█▍        | 29/200 [02:31<15:18,  5.37s/it]"
     ]
    },
    {
     "name": "stdout",
     "output_type": "stream",
     "text": [
      "29 epoch training loss = 1.2301\n",
      "29 epoch test loss     = 1.0289\n",
      "29 epoch test ACC      = 71.10\n"
     ]
    },
    {
     "name": "stderr",
     "output_type": "stream",
     "text": [
      " 15%|█▌        | 30/200 [02:36<14:56,  5.27s/it]"
     ]
    },
    {
     "name": "stdout",
     "output_type": "stream",
     "text": [
      "30 epoch training loss = 1.2044\n",
      "30 epoch test loss     = 1.0069\n",
      "30 epoch test ACC      = 71.56\n"
     ]
    },
    {
     "name": "stderr",
     "output_type": "stream",
     "text": [
      " 16%|█▌        | 31/200 [02:42<14:46,  5.24s/it]"
     ]
    },
    {
     "name": "stdout",
     "output_type": "stream",
     "text": [
      "31 epoch training loss = 1.1842\n",
      "31 epoch test loss     = 0.9886\n",
      "31 epoch test ACC      = 71.84\n"
     ]
    },
    {
     "name": "stderr",
     "output_type": "stream",
     "text": [
      " 16%|█▌        | 32/200 [02:47<14:30,  5.18s/it]"
     ]
    },
    {
     "name": "stdout",
     "output_type": "stream",
     "text": [
      "32 epoch training loss = 1.1617\n",
      "32 epoch test loss     = 0.9683\n",
      "32 epoch test ACC      = 72.26\n"
     ]
    },
    {
     "name": "stderr",
     "output_type": "stream",
     "text": [
      " 16%|█▋        | 33/200 [02:52<14:24,  5.18s/it]"
     ]
    },
    {
     "name": "stdout",
     "output_type": "stream",
     "text": [
      "33 epoch training loss = 1.1439\n",
      "33 epoch test loss     = 0.9546\n",
      "33 epoch test ACC      = 72.81\n"
     ]
    },
    {
     "name": "stderr",
     "output_type": "stream",
     "text": [
      " 17%|█▋        | 34/200 [02:57<14:12,  5.13s/it]"
     ]
    },
    {
     "name": "stdout",
     "output_type": "stream",
     "text": [
      "34 epoch training loss = 1.1305\n",
      "34 epoch test loss     = 0.9393\n",
      "34 epoch test ACC      = 73.16\n"
     ]
    },
    {
     "name": "stderr",
     "output_type": "stream",
     "text": [
      " 18%|█▊        | 35/200 [03:02<14:09,  5.15s/it]"
     ]
    },
    {
     "name": "stdout",
     "output_type": "stream",
     "text": [
      "35 epoch training loss = 1.1083\n",
      "35 epoch test loss     = 0.9242\n",
      "35 epoch test ACC      = 73.26\n"
     ]
    },
    {
     "name": "stderr",
     "output_type": "stream",
     "text": [
      " 18%|█▊        | 36/200 [03:07<14:04,  5.15s/it]"
     ]
    },
    {
     "name": "stdout",
     "output_type": "stream",
     "text": [
      "36 epoch training loss = 1.0975\n",
      "36 epoch test loss     = 0.9102\n",
      "36 epoch test ACC      = 73.95\n"
     ]
    },
    {
     "name": "stderr",
     "output_type": "stream",
     "text": [
      " 18%|█▊        | 37/200 [03:12<13:54,  5.12s/it]"
     ]
    },
    {
     "name": "stdout",
     "output_type": "stream",
     "text": [
      "37 epoch training loss = 1.0832\n",
      "37 epoch test loss     = 0.8973\n",
      "37 epoch test ACC      = 74.03\n"
     ]
    },
    {
     "name": "stderr",
     "output_type": "stream",
     "text": [
      " 19%|█▉        | 38/200 [03:17<13:59,  5.18s/it]"
     ]
    },
    {
     "name": "stdout",
     "output_type": "stream",
     "text": [
      "38 epoch training loss = 1.0688\n",
      "38 epoch test loss     = 0.8882\n",
      "38 epoch test ACC      = 74.40\n"
     ]
    },
    {
     "name": "stderr",
     "output_type": "stream",
     "text": [
      " 20%|█▉        | 39/200 [03:23<13:50,  5.16s/it]"
     ]
    },
    {
     "name": "stdout",
     "output_type": "stream",
     "text": [
      "39 epoch training loss = 1.0569\n",
      "39 epoch test loss     = 0.8781\n",
      "39 epoch test ACC      = 74.55\n"
     ]
    },
    {
     "name": "stderr",
     "output_type": "stream",
     "text": [
      " 20%|██        | 40/200 [03:28<14:01,  5.26s/it]"
     ]
    },
    {
     "name": "stdout",
     "output_type": "stream",
     "text": [
      "40 epoch training loss = 1.0407\n",
      "40 epoch test loss     = 0.8676\n",
      "40 epoch test ACC      = 74.69\n"
     ]
    },
    {
     "name": "stderr",
     "output_type": "stream",
     "text": [
      " 20%|██        | 41/200 [03:33<13:57,  5.27s/it]"
     ]
    },
    {
     "name": "stdout",
     "output_type": "stream",
     "text": [
      "41 epoch training loss = 1.0297\n",
      "41 epoch test loss     = 0.8582\n",
      "41 epoch test ACC      = 75.00\n"
     ]
    },
    {
     "name": "stderr",
     "output_type": "stream",
     "text": [
      " 21%|██        | 42/200 [03:38<13:41,  5.20s/it]"
     ]
    },
    {
     "name": "stdout",
     "output_type": "stream",
     "text": [
      "42 epoch training loss = 1.0219\n",
      "42 epoch test loss     = 0.8485\n",
      "42 epoch test ACC      = 75.38\n"
     ]
    },
    {
     "name": "stderr",
     "output_type": "stream",
     "text": [
      " 22%|██▏       | 43/200 [03:44<13:35,  5.20s/it]"
     ]
    },
    {
     "name": "stdout",
     "output_type": "stream",
     "text": [
      "43 epoch training loss = 1.0100\n",
      "43 epoch test loss     = 0.8399\n",
      "43 epoch test ACC      = 75.53\n"
     ]
    },
    {
     "name": "stderr",
     "output_type": "stream",
     "text": [
      " 22%|██▏       | 44/200 [03:49<13:23,  5.15s/it]"
     ]
    },
    {
     "name": "stdout",
     "output_type": "stream",
     "text": [
      "44 epoch training loss = 0.9993\n",
      "44 epoch test loss     = 0.8317\n",
      "44 epoch test ACC      = 75.61\n"
     ]
    },
    {
     "name": "stderr",
     "output_type": "stream",
     "text": [
      " 22%|██▎       | 45/200 [03:54<13:20,  5.16s/it]"
     ]
    },
    {
     "name": "stdout",
     "output_type": "stream",
     "text": [
      "45 epoch training loss = 0.9918\n",
      "45 epoch test loss     = 0.8251\n",
      "45 epoch test ACC      = 75.69\n"
     ]
    },
    {
     "name": "stderr",
     "output_type": "stream",
     "text": [
      " 23%|██▎       | 46/200 [03:59<13:16,  5.17s/it]"
     ]
    },
    {
     "name": "stdout",
     "output_type": "stream",
     "text": [
      "46 epoch training loss = 0.9803\n",
      "46 epoch test loss     = 0.8159\n",
      "46 epoch test ACC      = 75.84\n"
     ]
    },
    {
     "name": "stderr",
     "output_type": "stream",
     "text": [
      " 24%|██▎       | 47/200 [04:04<13:08,  5.15s/it]"
     ]
    },
    {
     "name": "stdout",
     "output_type": "stream",
     "text": [
      "47 epoch training loss = 0.9749\n",
      "47 epoch test loss     = 0.8092\n",
      "47 epoch test ACC      = 76.11\n"
     ]
    },
    {
     "name": "stderr",
     "output_type": "stream",
     "text": [
      " 24%|██▍       | 48/200 [04:09<13:05,  5.17s/it]"
     ]
    },
    {
     "name": "stdout",
     "output_type": "stream",
     "text": [
      "48 epoch training loss = 0.9646\n",
      "48 epoch test loss     = 0.8019\n",
      "48 epoch test ACC      = 76.22\n"
     ]
    },
    {
     "name": "stderr",
     "output_type": "stream",
     "text": [
      " 24%|██▍       | 49/200 [04:14<12:56,  5.14s/it]"
     ]
    },
    {
     "name": "stdout",
     "output_type": "stream",
     "text": [
      "49 epoch training loss = 0.9573\n",
      "49 epoch test loss     = 0.7949\n",
      "49 epoch test ACC      = 76.47\n"
     ]
    },
    {
     "name": "stderr",
     "output_type": "stream",
     "text": [
      " 25%|██▌       | 50/200 [04:20<12:53,  5.16s/it]"
     ]
    },
    {
     "name": "stdout",
     "output_type": "stream",
     "text": [
      "50 epoch training loss = 0.9514\n",
      "50 epoch test loss     = 0.7887\n",
      "50 epoch test ACC      = 76.64\n"
     ]
    },
    {
     "name": "stderr",
     "output_type": "stream",
     "text": [
      " 26%|██▌       | 51/200 [04:25<12:44,  5.13s/it]"
     ]
    },
    {
     "name": "stdout",
     "output_type": "stream",
     "text": [
      "51 epoch training loss = 0.9410\n",
      "51 epoch test loss     = 0.7853\n",
      "51 epoch test ACC      = 76.56\n"
     ]
    },
    {
     "name": "stderr",
     "output_type": "stream",
     "text": [
      " 26%|██▌       | 52/200 [04:30<12:43,  5.16s/it]"
     ]
    },
    {
     "name": "stdout",
     "output_type": "stream",
     "text": [
      "52 epoch training loss = 0.9339\n",
      "52 epoch test loss     = 0.7784\n",
      "52 epoch test ACC      = 76.91\n"
     ]
    },
    {
     "name": "stderr",
     "output_type": "stream",
     "text": [
      " 26%|██▋       | 53/200 [04:35<12:38,  5.16s/it]"
     ]
    },
    {
     "name": "stdout",
     "output_type": "stream",
     "text": [
      "53 epoch training loss = 0.9268\n",
      "53 epoch test loss     = 0.7756\n",
      "53 epoch test ACC      = 76.68\n"
     ]
    },
    {
     "name": "stderr",
     "output_type": "stream",
     "text": [
      " 27%|██▋       | 54/200 [04:40<12:28,  5.13s/it]"
     ]
    },
    {
     "name": "stdout",
     "output_type": "stream",
     "text": [
      "54 epoch training loss = 0.9207\n",
      "54 epoch test loss     = 0.7683\n",
      "54 epoch test ACC      = 76.92\n"
     ]
    },
    {
     "name": "stderr",
     "output_type": "stream",
     "text": [
      " 28%|██▊       | 55/200 [04:45<12:25,  5.14s/it]"
     ]
    },
    {
     "name": "stdout",
     "output_type": "stream",
     "text": [
      "55 epoch training loss = 0.9121\n",
      "55 epoch test loss     = 0.7653\n",
      "55 epoch test ACC      = 77.04\n"
     ]
    },
    {
     "name": "stderr",
     "output_type": "stream",
     "text": [
      " 28%|██▊       | 56/200 [04:50<12:16,  5.11s/it]"
     ]
    },
    {
     "name": "stdout",
     "output_type": "stream",
     "text": [
      "56 epoch training loss = 0.9069\n",
      "56 epoch test loss     = 0.7580\n",
      "56 epoch test ACC      = 77.38\n"
     ]
    },
    {
     "name": "stderr",
     "output_type": "stream",
     "text": [
      " 28%|██▊       | 57/200 [04:56<12:14,  5.14s/it]"
     ]
    },
    {
     "name": "stdout",
     "output_type": "stream",
     "text": [
      "57 epoch training loss = 0.9010\n",
      "57 epoch test loss     = 0.7519\n",
      "57 epoch test ACC      = 77.38\n"
     ]
    },
    {
     "name": "stderr",
     "output_type": "stream",
     "text": [
      " 29%|██▉       | 58/200 [05:01<12:09,  5.14s/it]"
     ]
    },
    {
     "name": "stdout",
     "output_type": "stream",
     "text": [
      "58 epoch training loss = 0.8956\n",
      "58 epoch test loss     = 0.7479\n",
      "58 epoch test ACC      = 77.42\n"
     ]
    },
    {
     "name": "stderr",
     "output_type": "stream",
     "text": [
      " 30%|██▉       | 59/200 [05:06<12:00,  5.11s/it]"
     ]
    },
    {
     "name": "stdout",
     "output_type": "stream",
     "text": [
      "59 epoch training loss = 0.8907\n",
      "59 epoch test loss     = 0.7420\n",
      "59 epoch test ACC      = 77.68\n"
     ]
    },
    {
     "name": "stderr",
     "output_type": "stream",
     "text": [
      " 30%|███       | 60/200 [05:11<11:58,  5.13s/it]"
     ]
    },
    {
     "name": "stdout",
     "output_type": "stream",
     "text": [
      "60 epoch training loss = 0.8862\n",
      "60 epoch test loss     = 0.7355\n",
      "60 epoch test ACC      = 77.79\n"
     ]
    },
    {
     "name": "stderr",
     "output_type": "stream",
     "text": [
      " 30%|███       | 61/200 [05:16<11:49,  5.11s/it]"
     ]
    },
    {
     "name": "stdout",
     "output_type": "stream",
     "text": [
      "61 epoch training loss = 0.8849\n",
      "61 epoch test loss     = 0.7363\n",
      "61 epoch test ACC      = 77.79\n"
     ]
    },
    {
     "name": "stderr",
     "output_type": "stream",
     "text": [
      " 31%|███       | 62/200 [05:21<11:47,  5.13s/it]"
     ]
    },
    {
     "name": "stdout",
     "output_type": "stream",
     "text": [
      "62 epoch training loss = 0.8754\n",
      "62 epoch test loss     = 0.7297\n",
      "62 epoch test ACC      = 77.94\n"
     ]
    },
    {
     "name": "stderr",
     "output_type": "stream",
     "text": [
      " 32%|███▏      | 63/200 [05:26<11:45,  5.15s/it]"
     ]
    },
    {
     "name": "stdout",
     "output_type": "stream",
     "text": [
      "63 epoch training loss = 0.8719\n",
      "63 epoch test loss     = 0.7272\n",
      "63 epoch test ACC      = 77.98\n"
     ]
    },
    {
     "name": "stderr",
     "output_type": "stream",
     "text": [
      " 32%|███▏      | 64/200 [05:31<11:37,  5.13s/it]"
     ]
    },
    {
     "name": "stdout",
     "output_type": "stream",
     "text": [
      "64 epoch training loss = 0.8658\n",
      "64 epoch test loss     = 0.7198\n",
      "64 epoch test ACC      = 78.46\n"
     ]
    },
    {
     "name": "stderr",
     "output_type": "stream",
     "text": [
      " 32%|███▎      | 65/200 [05:37<11:36,  5.16s/it]"
     ]
    },
    {
     "name": "stdout",
     "output_type": "stream",
     "text": [
      "65 epoch training loss = 0.8630\n",
      "65 epoch test loss     = 0.7176\n",
      "65 epoch test ACC      = 78.31\n"
     ]
    },
    {
     "name": "stderr",
     "output_type": "stream",
     "text": [
      " 33%|███▎      | 66/200 [05:42<11:28,  5.14s/it]"
     ]
    },
    {
     "name": "stdout",
     "output_type": "stream",
     "text": [
      "66 epoch training loss = 0.8587\n",
      "66 epoch test loss     = 0.7160\n",
      "66 epoch test ACC      = 78.28\n"
     ]
    },
    {
     "name": "stderr",
     "output_type": "stream",
     "text": [
      " 34%|███▎      | 67/200 [05:47<11:26,  5.17s/it]"
     ]
    },
    {
     "name": "stdout",
     "output_type": "stream",
     "text": [
      "67 epoch training loss = 0.8528\n",
      "67 epoch test loss     = 0.7117\n",
      "67 epoch test ACC      = 78.39\n"
     ]
    },
    {
     "name": "stderr",
     "output_type": "stream",
     "text": [
      " 34%|███▍      | 68/200 [05:52<11:18,  5.14s/it]"
     ]
    },
    {
     "name": "stdout",
     "output_type": "stream",
     "text": [
      "68 epoch training loss = 0.8496\n",
      "68 epoch test loss     = 0.7087\n",
      "68 epoch test ACC      = 78.41\n"
     ]
    },
    {
     "name": "stderr",
     "output_type": "stream",
     "text": [
      " 34%|███▍      | 69/200 [05:57<11:14,  5.15s/it]"
     ]
    },
    {
     "name": "stdout",
     "output_type": "stream",
     "text": [
      "69 epoch training loss = 0.8449\n",
      "69 epoch test loss     = 0.7025\n",
      "69 epoch test ACC      = 78.65\n"
     ]
    },
    {
     "name": "stderr",
     "output_type": "stream",
     "text": [
      " 35%|███▌      | 70/200 [06:02<11:11,  5.16s/it]"
     ]
    },
    {
     "name": "stdout",
     "output_type": "stream",
     "text": [
      "70 epoch training loss = 0.8391\n",
      "70 epoch test loss     = 0.7011\n",
      "70 epoch test ACC      = 78.64\n"
     ]
    },
    {
     "name": "stderr",
     "output_type": "stream",
     "text": [
      " 36%|███▌      | 71/200 [06:07<11:01,  5.13s/it]"
     ]
    },
    {
     "name": "stdout",
     "output_type": "stream",
     "text": [
      "71 epoch training loss = 0.8366\n",
      "71 epoch test loss     = 0.6985\n",
      "71 epoch test ACC      = 78.68\n"
     ]
    },
    {
     "name": "stderr",
     "output_type": "stream",
     "text": [
      " 36%|███▌      | 72/200 [06:13<10:57,  5.14s/it]"
     ]
    },
    {
     "name": "stdout",
     "output_type": "stream",
     "text": [
      "72 epoch training loss = 0.8348\n",
      "72 epoch test loss     = 0.6929\n",
      "72 epoch test ACC      = 78.89\n"
     ]
    },
    {
     "name": "stderr",
     "output_type": "stream",
     "text": [
      " 36%|███▋      | 73/200 [06:18<10:49,  5.11s/it]"
     ]
    },
    {
     "name": "stdout",
     "output_type": "stream",
     "text": [
      "73 epoch training loss = 0.8295\n",
      "73 epoch test loss     = 0.6910\n",
      "73 epoch test ACC      = 78.72\n"
     ]
    },
    {
     "name": "stderr",
     "output_type": "stream",
     "text": [
      " 37%|███▋      | 74/200 [06:23<10:46,  5.13s/it]"
     ]
    },
    {
     "name": "stdout",
     "output_type": "stream",
     "text": [
      "74 epoch training loss = 0.8268\n",
      "74 epoch test loss     = 0.6885\n",
      "74 epoch test ACC      = 79.00\n"
     ]
    },
    {
     "name": "stderr",
     "output_type": "stream",
     "text": [
      " 38%|███▊      | 75/200 [06:28<10:43,  5.15s/it]"
     ]
    },
    {
     "name": "stdout",
     "output_type": "stream",
     "text": [
      "75 epoch training loss = 0.8239\n",
      "75 epoch test loss     = 0.6858\n",
      "75 epoch test ACC      = 79.03\n"
     ]
    },
    {
     "name": "stderr",
     "output_type": "stream",
     "text": [
      " 38%|███▊      | 76/200 [06:33<10:35,  5.13s/it]"
     ]
    },
    {
     "name": "stdout",
     "output_type": "stream",
     "text": [
      "76 epoch training loss = 0.8159\n",
      "76 epoch test loss     = 0.6849\n",
      "76 epoch test ACC      = 79.05\n"
     ]
    },
    {
     "name": "stderr",
     "output_type": "stream",
     "text": [
      " 38%|███▊      | 77/200 [06:38<10:33,  5.15s/it]"
     ]
    },
    {
     "name": "stdout",
     "output_type": "stream",
     "text": [
      "77 epoch training loss = 0.8155\n",
      "77 epoch test loss     = 0.6808\n",
      "77 epoch test ACC      = 79.10\n"
     ]
    },
    {
     "name": "stderr",
     "output_type": "stream",
     "text": [
      " 39%|███▉      | 78/200 [06:43<10:25,  5.12s/it]"
     ]
    },
    {
     "name": "stdout",
     "output_type": "stream",
     "text": [
      "78 epoch training loss = 0.8127\n",
      "78 epoch test loss     = 0.6767\n",
      "78 epoch test ACC      = 79.32\n"
     ]
    },
    {
     "name": "stderr",
     "output_type": "stream",
     "text": [
      " 40%|███▉      | 79/200 [06:49<10:23,  5.15s/it]"
     ]
    },
    {
     "name": "stdout",
     "output_type": "stream",
     "text": [
      "79 epoch training loss = 0.8111\n",
      "79 epoch test loss     = 0.6761\n",
      "79 epoch test ACC      = 79.34\n"
     ]
    },
    {
     "name": "stderr",
     "output_type": "stream",
     "text": [
      " 40%|████      | 80/200 [06:54<10:19,  5.16s/it]"
     ]
    },
    {
     "name": "stdout",
     "output_type": "stream",
     "text": [
      "80 epoch training loss = 0.8046\n",
      "80 epoch test loss     = 0.6735\n",
      "80 epoch test ACC      = 79.25\n"
     ]
    },
    {
     "name": "stderr",
     "output_type": "stream",
     "text": [
      " 40%|████      | 81/200 [06:59<10:10,  5.13s/it]"
     ]
    },
    {
     "name": "stdout",
     "output_type": "stream",
     "text": [
      "81 epoch training loss = 0.8053\n",
      "81 epoch test loss     = 0.6713\n",
      "81 epoch test ACC      = 79.44\n"
     ]
    },
    {
     "name": "stderr",
     "output_type": "stream",
     "text": [
      " 41%|████      | 82/200 [07:04<10:22,  5.28s/it]"
     ]
    },
    {
     "name": "stdout",
     "output_type": "stream",
     "text": [
      "82 epoch training loss = 0.7982\n",
      "82 epoch test loss     = 0.6677\n",
      "82 epoch test ACC      = 79.45\n"
     ]
    },
    {
     "name": "stderr",
     "output_type": "stream",
     "text": [
      " 42%|████▏     | 83/200 [07:10<10:10,  5.22s/it]"
     ]
    },
    {
     "name": "stdout",
     "output_type": "stream",
     "text": [
      "83 epoch training loss = 0.7983\n",
      "83 epoch test loss     = 0.6652\n",
      "83 epoch test ACC      = 79.56\n"
     ]
    },
    {
     "name": "stderr",
     "output_type": "stream",
     "text": [
      " 42%|████▏     | 84/200 [07:15<10:02,  5.19s/it]"
     ]
    },
    {
     "name": "stdout",
     "output_type": "stream",
     "text": [
      "84 epoch training loss = 0.7940\n",
      "84 epoch test loss     = 0.6638\n",
      "84 epoch test ACC      = 79.58\n"
     ]
    },
    {
     "name": "stderr",
     "output_type": "stream",
     "text": [
      " 42%|████▎     | 85/200 [07:20<09:56,  5.19s/it]"
     ]
    },
    {
     "name": "stdout",
     "output_type": "stream",
     "text": [
      "85 epoch training loss = 0.7902\n",
      "85 epoch test loss     = 0.6633\n",
      "85 epoch test ACC      = 79.61\n"
     ]
    },
    {
     "name": "stderr",
     "output_type": "stream",
     "text": [
      " 43%|████▎     | 86/200 [07:25<09:55,  5.22s/it]"
     ]
    },
    {
     "name": "stdout",
     "output_type": "stream",
     "text": [
      "86 epoch training loss = 0.7886\n",
      "86 epoch test loss     = 0.6593\n",
      "86 epoch test ACC      = 79.68\n"
     ]
    },
    {
     "name": "stderr",
     "output_type": "stream",
     "text": [
      " 44%|████▎     | 87/200 [07:30<09:53,  5.25s/it]"
     ]
    },
    {
     "name": "stdout",
     "output_type": "stream",
     "text": [
      "87 epoch training loss = 0.7860\n",
      "87 epoch test loss     = 0.6580\n",
      "87 epoch test ACC      = 79.66\n"
     ]
    },
    {
     "name": "stderr",
     "output_type": "stream",
     "text": [
      " 44%|████▍     | 88/200 [07:36<09:43,  5.21s/it]"
     ]
    },
    {
     "name": "stdout",
     "output_type": "stream",
     "text": [
      "88 epoch training loss = 0.7847\n",
      "88 epoch test loss     = 0.6559\n",
      "88 epoch test ACC      = 79.70\n"
     ]
    },
    {
     "name": "stderr",
     "output_type": "stream",
     "text": [
      " 44%|████▍     | 89/200 [07:40<09:26,  5.11s/it]"
     ]
    },
    {
     "name": "stdout",
     "output_type": "stream",
     "text": [
      "89 epoch training loss = 0.7790\n",
      "89 epoch test loss     = 0.6537\n",
      "89 epoch test ACC      = 79.92\n"
     ]
    },
    {
     "name": "stderr",
     "output_type": "stream",
     "text": [
      " 45%|████▌     | 90/200 [07:46<09:21,  5.10s/it]"
     ]
    },
    {
     "name": "stdout",
     "output_type": "stream",
     "text": [
      "90 epoch training loss = 0.7798\n",
      "90 epoch test loss     = 0.6517\n",
      "90 epoch test ACC      = 79.83\n"
     ]
    },
    {
     "name": "stderr",
     "output_type": "stream",
     "text": [
      " 46%|████▌     | 91/200 [07:51<09:17,  5.12s/it]"
     ]
    },
    {
     "name": "stdout",
     "output_type": "stream",
     "text": [
      "91 epoch training loss = 0.7741\n",
      "91 epoch test loss     = 0.6508\n",
      "91 epoch test ACC      = 79.78\n"
     ]
    },
    {
     "name": "stderr",
     "output_type": "stream",
     "text": [
      " 46%|████▌     | 92/200 [07:56<09:14,  5.13s/it]"
     ]
    },
    {
     "name": "stdout",
     "output_type": "stream",
     "text": [
      "92 epoch training loss = 0.7704\n",
      "92 epoch test loss     = 0.6448\n",
      "92 epoch test ACC      = 80.19\n"
     ]
    },
    {
     "name": "stderr",
     "output_type": "stream",
     "text": [
      " 46%|████▋     | 93/200 [08:01<09:05,  5.10s/it]"
     ]
    },
    {
     "name": "stdout",
     "output_type": "stream",
     "text": [
      "93 epoch training loss = 0.7709\n",
      "93 epoch test loss     = 0.6459\n",
      "93 epoch test ACC      = 80.06\n"
     ]
    },
    {
     "name": "stderr",
     "output_type": "stream",
     "text": [
      " 47%|████▋     | 94/200 [08:06<09:02,  5.11s/it]"
     ]
    },
    {
     "name": "stdout",
     "output_type": "stream",
     "text": [
      "94 epoch training loss = 0.7686\n",
      "94 epoch test loss     = 0.6436\n",
      "94 epoch test ACC      = 80.20\n"
     ]
    },
    {
     "name": "stderr",
     "output_type": "stream",
     "text": [
      " 48%|████▊     | 95/200 [08:11<08:54,  5.09s/it]"
     ]
    },
    {
     "name": "stdout",
     "output_type": "stream",
     "text": [
      "95 epoch training loss = 0.7673\n",
      "95 epoch test loss     = 0.6417\n",
      "95 epoch test ACC      = 80.18\n"
     ]
    },
    {
     "name": "stderr",
     "output_type": "stream",
     "text": [
      " 48%|████▊     | 96/200 [08:16<08:51,  5.11s/it]"
     ]
    },
    {
     "name": "stdout",
     "output_type": "stream",
     "text": [
      "96 epoch training loss = 0.7632\n",
      "96 epoch test loss     = 0.6401\n",
      "96 epoch test ACC      = 80.20\n"
     ]
    },
    {
     "name": "stderr",
     "output_type": "stream",
     "text": [
      " 48%|████▊     | 97/200 [08:21<08:47,  5.12s/it]"
     ]
    },
    {
     "name": "stdout",
     "output_type": "stream",
     "text": [
      "97 epoch training loss = 0.7611\n",
      "97 epoch test loss     = 0.6382\n",
      "97 epoch test ACC      = 80.07\n"
     ]
    },
    {
     "name": "stderr",
     "output_type": "stream",
     "text": [
      " 49%|████▉     | 98/200 [08:26<08:39,  5.10s/it]"
     ]
    },
    {
     "name": "stdout",
     "output_type": "stream",
     "text": [
      "98 epoch training loss = 0.7598\n",
      "98 epoch test loss     = 0.6358\n",
      "98 epoch test ACC      = 80.35\n"
     ]
    },
    {
     "name": "stderr",
     "output_type": "stream",
     "text": [
      " 50%|████▉     | 99/200 [08:32<08:36,  5.11s/it]"
     ]
    },
    {
     "name": "stdout",
     "output_type": "stream",
     "text": [
      "99 epoch training loss = 0.7586\n",
      "99 epoch test loss     = 0.6338\n",
      "99 epoch test ACC      = 80.38\n"
     ]
    },
    {
     "name": "stderr",
     "output_type": "stream",
     "text": [
      " 50%|█████     | 100/200 [08:37<08:27,  5.08s/it]"
     ]
    },
    {
     "name": "stdout",
     "output_type": "stream",
     "text": [
      "100 epoch training loss = 0.7555\n",
      "100 epoch test loss     = 0.6348\n",
      "100 epoch test ACC      = 80.19\n"
     ]
    },
    {
     "name": "stderr",
     "output_type": "stream",
     "text": [
      " 50%|█████     | 101/200 [08:42<08:23,  5.09s/it]"
     ]
    },
    {
     "name": "stdout",
     "output_type": "stream",
     "text": [
      "101 epoch training loss = 0.7519\n",
      "101 epoch test loss     = 0.6326\n",
      "101 epoch test ACC      = 80.21\n"
     ]
    },
    {
     "name": "stderr",
     "output_type": "stream",
     "text": [
      " 51%|█████     | 102/200 [08:47<08:16,  5.06s/it]"
     ]
    },
    {
     "name": "stdout",
     "output_type": "stream",
     "text": [
      "102 epoch training loss = 0.7524\n",
      "102 epoch test loss     = 0.6319\n",
      "102 epoch test ACC      = 80.56\n"
     ]
    },
    {
     "name": "stderr",
     "output_type": "stream",
     "text": [
      " 52%|█████▏    | 103/200 [08:52<08:13,  5.09s/it]"
     ]
    },
    {
     "name": "stdout",
     "output_type": "stream",
     "text": [
      "103 epoch training loss = 0.7484\n",
      "103 epoch test loss     = 0.6301\n",
      "103 epoch test ACC      = 80.54\n"
     ]
    },
    {
     "name": "stderr",
     "output_type": "stream",
     "text": [
      " 52%|█████▏    | 104/200 [08:57<08:10,  5.11s/it]"
     ]
    },
    {
     "name": "stdout",
     "output_type": "stream",
     "text": [
      "104 epoch training loss = 0.7509\n",
      "104 epoch test loss     = 0.6278\n",
      "104 epoch test ACC      = 80.44\n"
     ]
    },
    {
     "name": "stderr",
     "output_type": "stream",
     "text": [
      " 52%|█████▎    | 105/200 [09:02<08:05,  5.11s/it]"
     ]
    },
    {
     "name": "stdout",
     "output_type": "stream",
     "text": [
      "105 epoch training loss = 0.7455\n",
      "105 epoch test loss     = 0.6271\n",
      "105 epoch test ACC      = 80.54\n"
     ]
    },
    {
     "name": "stderr",
     "output_type": "stream",
     "text": [
      " 53%|█████▎    | 106/200 [09:07<08:02,  5.13s/it]"
     ]
    },
    {
     "name": "stdout",
     "output_type": "stream",
     "text": [
      "106 epoch training loss = 0.7431\n",
      "106 epoch test loss     = 0.6259\n",
      "106 epoch test ACC      = 80.45\n"
     ]
    },
    {
     "name": "stderr",
     "output_type": "stream",
     "text": [
      " 54%|█████▎    | 107/200 [09:12<07:58,  5.14s/it]"
     ]
    },
    {
     "name": "stdout",
     "output_type": "stream",
     "text": [
      "107 epoch training loss = 0.7430\n",
      "107 epoch test loss     = 0.6234\n",
      "107 epoch test ACC      = 80.66\n"
     ]
    },
    {
     "name": "stderr",
     "output_type": "stream",
     "text": [
      " 54%|█████▍    | 108/200 [09:18<07:54,  5.16s/it]"
     ]
    },
    {
     "name": "stdout",
     "output_type": "stream",
     "text": [
      "108 epoch training loss = 0.7415\n",
      "108 epoch test loss     = 0.6204\n",
      "108 epoch test ACC      = 80.74\n"
     ]
    },
    {
     "name": "stderr",
     "output_type": "stream",
     "text": [
      " 55%|█████▍    | 109/200 [09:23<07:51,  5.18s/it]"
     ]
    },
    {
     "name": "stdout",
     "output_type": "stream",
     "text": [
      "109 epoch training loss = 0.7393\n",
      "109 epoch test loss     = 0.6192\n",
      "109 epoch test ACC      = 80.72\n"
     ]
    },
    {
     "name": "stderr",
     "output_type": "stream",
     "text": [
      " 55%|█████▌    | 110/200 [09:28<07:45,  5.18s/it]"
     ]
    },
    {
     "name": "stdout",
     "output_type": "stream",
     "text": [
      "110 epoch training loss = 0.7379\n",
      "110 epoch test loss     = 0.6187\n",
      "110 epoch test ACC      = 80.80\n"
     ]
    },
    {
     "name": "stderr",
     "output_type": "stream",
     "text": [
      " 56%|█████▌    | 111/200 [09:33<07:43,  5.21s/it]"
     ]
    },
    {
     "name": "stdout",
     "output_type": "stream",
     "text": [
      "111 epoch training loss = 0.7349\n",
      "111 epoch test loss     = 0.6188\n",
      "111 epoch test ACC      = 80.66\n"
     ]
    },
    {
     "name": "stderr",
     "output_type": "stream",
     "text": [
      " 56%|█████▌    | 112/200 [09:38<07:35,  5.18s/it]"
     ]
    },
    {
     "name": "stdout",
     "output_type": "stream",
     "text": [
      "112 epoch training loss = 0.7331\n",
      "112 epoch test loss     = 0.6168\n",
      "112 epoch test ACC      = 80.84\n"
     ]
    },
    {
     "name": "stderr",
     "output_type": "stream",
     "text": [
      " 56%|█████▋    | 113/200 [09:44<07:30,  5.18s/it]"
     ]
    },
    {
     "name": "stdout",
     "output_type": "stream",
     "text": [
      "113 epoch training loss = 0.7320\n",
      "113 epoch test loss     = 0.6148\n",
      "113 epoch test ACC      = 80.89\n"
     ]
    },
    {
     "name": "stderr",
     "output_type": "stream",
     "text": [
      " 57%|█████▋    | 114/200 [09:49<07:26,  5.19s/it]"
     ]
    },
    {
     "name": "stdout",
     "output_type": "stream",
     "text": [
      "114 epoch training loss = 0.7292\n",
      "114 epoch test loss     = 0.6150\n",
      "114 epoch test ACC      = 80.75\n"
     ]
    },
    {
     "name": "stderr",
     "output_type": "stream",
     "text": [
      " 57%|█████▊    | 115/200 [09:54<07:17,  5.15s/it]"
     ]
    },
    {
     "name": "stdout",
     "output_type": "stream",
     "text": [
      "115 epoch training loss = 0.7288\n",
      "115 epoch test loss     = 0.6136\n",
      "115 epoch test ACC      = 80.99\n"
     ]
    },
    {
     "name": "stderr",
     "output_type": "stream",
     "text": [
      " 58%|█████▊    | 116/200 [09:59<07:17,  5.21s/it]"
     ]
    },
    {
     "name": "stdout",
     "output_type": "stream",
     "text": [
      "116 epoch training loss = 0.7280\n",
      "116 epoch test loss     = 0.6124\n",
      "116 epoch test ACC      = 80.92\n"
     ]
    },
    {
     "name": "stderr",
     "output_type": "stream",
     "text": [
      " 58%|█████▊    | 117/200 [10:04<07:08,  5.17s/it]"
     ]
    },
    {
     "name": "stdout",
     "output_type": "stream",
     "text": [
      "117 epoch training loss = 0.7263\n",
      "117 epoch test loss     = 0.6115\n",
      "117 epoch test ACC      = 80.95\n"
     ]
    },
    {
     "name": "stderr",
     "output_type": "stream",
     "text": [
      " 59%|█████▉    | 118/200 [10:09<07:03,  5.17s/it]"
     ]
    },
    {
     "name": "stdout",
     "output_type": "stream",
     "text": [
      "118 epoch training loss = 0.7263\n",
      "118 epoch test loss     = 0.6099\n",
      "118 epoch test ACC      = 80.98\n"
     ]
    },
    {
     "name": "stderr",
     "output_type": "stream",
     "text": [
      " 60%|█████▉    | 119/200 [10:15<06:56,  5.14s/it]"
     ]
    },
    {
     "name": "stdout",
     "output_type": "stream",
     "text": [
      "119 epoch training loss = 0.7236\n",
      "119 epoch test loss     = 0.6082\n",
      "119 epoch test ACC      = 81.02\n"
     ]
    },
    {
     "name": "stderr",
     "output_type": "stream",
     "text": [
      " 60%|██████    | 120/200 [10:20<06:53,  5.16s/it]"
     ]
    },
    {
     "name": "stdout",
     "output_type": "stream",
     "text": [
      "120 epoch training loss = 0.7215\n",
      "120 epoch test loss     = 0.6054\n",
      "120 epoch test ACC      = 81.02\n"
     ]
    },
    {
     "name": "stderr",
     "output_type": "stream",
     "text": [
      " 60%|██████    | 121/200 [10:25<06:48,  5.17s/it]"
     ]
    },
    {
     "name": "stdout",
     "output_type": "stream",
     "text": [
      "121 epoch training loss = 0.7188\n",
      "121 epoch test loss     = 0.6063\n",
      "121 epoch test ACC      = 81.08\n"
     ]
    },
    {
     "name": "stderr",
     "output_type": "stream",
     "text": [
      " 61%|██████    | 122/200 [10:30<06:40,  5.14s/it]"
     ]
    },
    {
     "name": "stdout",
     "output_type": "stream",
     "text": [
      "122 epoch training loss = 0.7197\n",
      "122 epoch test loss     = 0.6066\n",
      "122 epoch test ACC      = 80.98\n"
     ]
    },
    {
     "name": "stderr",
     "output_type": "stream",
     "text": [
      " 62%|██████▏   | 123/200 [10:35<06:35,  5.14s/it]"
     ]
    },
    {
     "name": "stdout",
     "output_type": "stream",
     "text": [
      "123 epoch training loss = 0.7176\n",
      "123 epoch test loss     = 0.6045\n",
      "123 epoch test ACC      = 81.03\n"
     ]
    },
    {
     "name": "stderr",
     "output_type": "stream",
     "text": [
      " 62%|██████▏   | 124/200 [10:40<06:29,  5.12s/it]"
     ]
    },
    {
     "name": "stdout",
     "output_type": "stream",
     "text": [
      "124 epoch training loss = 0.7161\n",
      "124 epoch test loss     = 0.6010\n",
      "124 epoch test ACC      = 81.37\n"
     ]
    },
    {
     "name": "stderr",
     "output_type": "stream",
     "text": [
      " 62%|██████▎   | 125/200 [10:45<06:24,  5.13s/it]"
     ]
    },
    {
     "name": "stdout",
     "output_type": "stream",
     "text": [
      "125 epoch training loss = 0.7158\n",
      "125 epoch test loss     = 0.6011\n",
      "125 epoch test ACC      = 81.23\n"
     ]
    },
    {
     "name": "stderr",
     "output_type": "stream",
     "text": [
      " 63%|██████▎   | 126/200 [10:51<06:21,  5.16s/it]"
     ]
    },
    {
     "name": "stdout",
     "output_type": "stream",
     "text": [
      "126 epoch training loss = 0.7109\n",
      "126 epoch test loss     = 0.5989\n",
      "126 epoch test ACC      = 81.26\n"
     ]
    },
    {
     "name": "stderr",
     "output_type": "stream",
     "text": [
      " 64%|██████▎   | 127/200 [10:56<06:18,  5.19s/it]"
     ]
    },
    {
     "name": "stdout",
     "output_type": "stream",
     "text": [
      "127 epoch training loss = 0.7088\n",
      "127 epoch test loss     = 0.5977\n",
      "127 epoch test ACC      = 81.26\n"
     ]
    },
    {
     "name": "stderr",
     "output_type": "stream",
     "text": [
      " 64%|██████▍   | 128/200 [11:01<06:05,  5.07s/it]"
     ]
    },
    {
     "name": "stdout",
     "output_type": "stream",
     "text": [
      "128 epoch training loss = 0.7109\n",
      "128 epoch test loss     = 0.5977\n",
      "128 epoch test ACC      = 81.22\n"
     ]
    },
    {
     "name": "stderr",
     "output_type": "stream",
     "text": [
      " 64%|██████▍   | 129/200 [11:05<05:51,  4.95s/it]"
     ]
    },
    {
     "name": "stdout",
     "output_type": "stream",
     "text": [
      "129 epoch training loss = 0.7074\n",
      "129 epoch test loss     = 0.5987\n",
      "129 epoch test ACC      = 81.29\n"
     ]
    },
    {
     "name": "stderr",
     "output_type": "stream",
     "text": [
      " 65%|██████▌   | 130/200 [11:10<05:43,  4.90s/it]"
     ]
    },
    {
     "name": "stdout",
     "output_type": "stream",
     "text": [
      "130 epoch training loss = 0.7066\n",
      "130 epoch test loss     = 0.5953\n",
      "130 epoch test ACC      = 81.24\n"
     ]
    },
    {
     "name": "stderr",
     "output_type": "stream",
     "text": [
      " 66%|██████▌   | 131/200 [11:15<05:41,  4.95s/it]"
     ]
    },
    {
     "name": "stdout",
     "output_type": "stream",
     "text": [
      "131 epoch training loss = 0.7041\n",
      "131 epoch test loss     = 0.5950\n",
      "131 epoch test ACC      = 81.34\n"
     ]
    },
    {
     "name": "stderr",
     "output_type": "stream",
     "text": [
      " 66%|██████▌   | 132/200 [11:20<05:36,  4.94s/it]"
     ]
    },
    {
     "name": "stdout",
     "output_type": "stream",
     "text": [
      "132 epoch training loss = 0.7043\n",
      "132 epoch test loss     = 0.5946\n",
      "132 epoch test ACC      = 81.30\n"
     ]
    },
    {
     "name": "stderr",
     "output_type": "stream",
     "text": [
      " 66%|██████▋   | 133/200 [11:25<05:28,  4.91s/it]"
     ]
    },
    {
     "name": "stdout",
     "output_type": "stream",
     "text": [
      "133 epoch training loss = 0.7032\n",
      "133 epoch test loss     = 0.5923\n",
      "133 epoch test ACC      = 81.43\n"
     ]
    },
    {
     "name": "stderr",
     "output_type": "stream",
     "text": [
      " 67%|██████▋   | 134/200 [11:30<05:27,  4.96s/it]"
     ]
    },
    {
     "name": "stdout",
     "output_type": "stream",
     "text": [
      "134 epoch training loss = 0.7023\n",
      "134 epoch test loss     = 0.5935\n",
      "134 epoch test ACC      = 81.40\n"
     ]
    },
    {
     "name": "stderr",
     "output_type": "stream",
     "text": [
      " 68%|██████▊   | 135/200 [11:35<05:26,  5.02s/it]"
     ]
    },
    {
     "name": "stdout",
     "output_type": "stream",
     "text": [
      "135 epoch training loss = 0.7004\n",
      "135 epoch test loss     = 0.5912\n",
      "135 epoch test ACC      = 81.44\n"
     ]
    },
    {
     "name": "stderr",
     "output_type": "stream",
     "text": [
      " 68%|██████▊   | 136/200 [11:40<05:13,  4.90s/it]"
     ]
    },
    {
     "name": "stdout",
     "output_type": "stream",
     "text": [
      "136 epoch training loss = 0.7004\n",
      "136 epoch test loss     = 0.5925\n",
      "136 epoch test ACC      = 81.34\n"
     ]
    },
    {
     "name": "stderr",
     "output_type": "stream",
     "text": [
      " 68%|██████▊   | 137/200 [11:45<05:07,  4.88s/it]"
     ]
    },
    {
     "name": "stdout",
     "output_type": "stream",
     "text": [
      "137 epoch training loss = 0.6985\n",
      "137 epoch test loss     = 0.5894\n",
      "137 epoch test ACC      = 81.52\n"
     ]
    },
    {
     "name": "stderr",
     "output_type": "stream",
     "text": [
      " 69%|██████▉   | 138/200 [11:49<05:01,  4.86s/it]"
     ]
    },
    {
     "name": "stdout",
     "output_type": "stream",
     "text": [
      "138 epoch training loss = 0.6940\n",
      "138 epoch test loss     = 0.5891\n",
      "138 epoch test ACC      = 81.42\n"
     ]
    },
    {
     "name": "stderr",
     "output_type": "stream",
     "text": [
      " 70%|██████▉   | 139/200 [11:54<04:53,  4.81s/it]"
     ]
    },
    {
     "name": "stdout",
     "output_type": "stream",
     "text": [
      "139 epoch training loss = 0.6929\n",
      "139 epoch test loss     = 0.5878\n",
      "139 epoch test ACC      = 81.58\n"
     ]
    },
    {
     "name": "stderr",
     "output_type": "stream",
     "text": [
      " 70%|███████   | 140/200 [11:59<04:48,  4.81s/it]"
     ]
    },
    {
     "name": "stdout",
     "output_type": "stream",
     "text": [
      "140 epoch training loss = 0.6932\n",
      "140 epoch test loss     = 0.5865\n",
      "140 epoch test ACC      = 81.61\n"
     ]
    },
    {
     "name": "stderr",
     "output_type": "stream",
     "text": [
      " 70%|███████   | 141/200 [12:04<04:47,  4.87s/it]"
     ]
    },
    {
     "name": "stdout",
     "output_type": "stream",
     "text": [
      "141 epoch training loss = 0.6933\n",
      "141 epoch test loss     = 0.5863\n",
      "141 epoch test ACC      = 81.71\n"
     ]
    },
    {
     "name": "stderr",
     "output_type": "stream",
     "text": [
      " 71%|███████   | 142/200 [12:09<04:46,  4.94s/it]"
     ]
    },
    {
     "name": "stdout",
     "output_type": "stream",
     "text": [
      "142 epoch training loss = 0.6931\n",
      "142 epoch test loss     = 0.5841\n",
      "142 epoch test ACC      = 81.62\n"
     ]
    },
    {
     "name": "stderr",
     "output_type": "stream",
     "text": [
      " 72%|███████▏  | 143/200 [12:14<04:38,  4.89s/it]"
     ]
    },
    {
     "name": "stdout",
     "output_type": "stream",
     "text": [
      "143 epoch training loss = 0.6926\n",
      "143 epoch test loss     = 0.5850\n",
      "143 epoch test ACC      = 81.49\n"
     ]
    },
    {
     "name": "stderr",
     "output_type": "stream",
     "text": [
      " 72%|███████▏  | 144/200 [12:18<04:29,  4.81s/it]"
     ]
    },
    {
     "name": "stdout",
     "output_type": "stream",
     "text": [
      "144 epoch training loss = 0.6921\n",
      "144 epoch test loss     = 0.5854\n",
      "144 epoch test ACC      = 81.50\n"
     ]
    },
    {
     "name": "stderr",
     "output_type": "stream",
     "text": [
      " 72%|███████▎  | 145/200 [12:23<04:23,  4.80s/it]"
     ]
    },
    {
     "name": "stdout",
     "output_type": "stream",
     "text": [
      "145 epoch training loss = 0.6885\n",
      "145 epoch test loss     = 0.5820\n",
      "145 epoch test ACC      = 81.79\n"
     ]
    },
    {
     "name": "stderr",
     "output_type": "stream",
     "text": [
      " 73%|███████▎  | 146/200 [12:28<04:15,  4.74s/it]"
     ]
    },
    {
     "name": "stdout",
     "output_type": "stream",
     "text": [
      "146 epoch training loss = 0.6877\n",
      "146 epoch test loss     = 0.5834\n",
      "146 epoch test ACC      = 81.67\n"
     ]
    },
    {
     "name": "stderr",
     "output_type": "stream",
     "text": [
      " 74%|███████▎  | 147/200 [12:33<04:15,  4.81s/it]"
     ]
    },
    {
     "name": "stdout",
     "output_type": "stream",
     "text": [
      "147 epoch training loss = 0.6890\n",
      "147 epoch test loss     = 0.5812\n",
      "147 epoch test ACC      = 81.73\n"
     ]
    },
    {
     "name": "stderr",
     "output_type": "stream",
     "text": [
      " 74%|███████▍  | 148/200 [12:38<04:16,  4.92s/it]"
     ]
    },
    {
     "name": "stdout",
     "output_type": "stream",
     "text": [
      "148 epoch training loss = 0.6851\n",
      "148 epoch test loss     = 0.5801\n",
      "148 epoch test ACC      = 81.65\n"
     ]
    },
    {
     "name": "stderr",
     "output_type": "stream",
     "text": [
      " 74%|███████▍  | 149/200 [12:43<04:12,  4.96s/it]"
     ]
    },
    {
     "name": "stdout",
     "output_type": "stream",
     "text": [
      "149 epoch training loss = 0.6829\n",
      "149 epoch test loss     = 0.5812\n",
      "149 epoch test ACC      = 81.71\n"
     ]
    },
    {
     "name": "stderr",
     "output_type": "stream",
     "text": [
      " 75%|███████▌  | 150/200 [12:48<04:10,  5.01s/it]"
     ]
    },
    {
     "name": "stdout",
     "output_type": "stream",
     "text": [
      "150 epoch training loss = 0.6839\n",
      "150 epoch test loss     = 0.5771\n",
      "150 epoch test ACC      = 81.84\n"
     ]
    },
    {
     "name": "stderr",
     "output_type": "stream",
     "text": [
      " 76%|███████▌  | 151/200 [12:53<04:05,  5.02s/it]"
     ]
    },
    {
     "name": "stdout",
     "output_type": "stream",
     "text": [
      "151 epoch training loss = 0.6818\n",
      "151 epoch test loss     = 0.5780\n",
      "151 epoch test ACC      = 81.73\n"
     ]
    },
    {
     "name": "stderr",
     "output_type": "stream",
     "text": [
      " 76%|███████▌  | 152/200 [12:58<04:02,  5.06s/it]"
     ]
    },
    {
     "name": "stdout",
     "output_type": "stream",
     "text": [
      "152 epoch training loss = 0.6839\n",
      "152 epoch test loss     = 0.5770\n",
      "152 epoch test ACC      = 81.89\n"
     ]
    },
    {
     "name": "stderr",
     "output_type": "stream",
     "text": [
      " 76%|███████▋  | 153/200 [13:03<03:56,  5.03s/it]"
     ]
    },
    {
     "name": "stdout",
     "output_type": "stream",
     "text": [
      "153 epoch training loss = 0.6788\n",
      "153 epoch test loss     = 0.5767\n",
      "153 epoch test ACC      = 81.64\n"
     ]
    },
    {
     "name": "stderr",
     "output_type": "stream",
     "text": [
      " 77%|███████▋  | 154/200 [13:08<03:47,  4.95s/it]"
     ]
    },
    {
     "name": "stdout",
     "output_type": "stream",
     "text": [
      "154 epoch training loss = 0.6795\n",
      "154 epoch test loss     = 0.5759\n",
      "154 epoch test ACC      = 81.74\n"
     ]
    },
    {
     "name": "stderr",
     "output_type": "stream",
     "text": [
      " 78%|███████▊  | 155/200 [13:13<03:40,  4.89s/it]"
     ]
    },
    {
     "name": "stdout",
     "output_type": "stream",
     "text": [
      "155 epoch training loss = 0.6791\n",
      "155 epoch test loss     = 0.5735\n",
      "155 epoch test ACC      = 82.04\n"
     ]
    },
    {
     "name": "stderr",
     "output_type": "stream",
     "text": [
      " 78%|███████▊  | 156/200 [13:18<03:35,  4.90s/it]"
     ]
    },
    {
     "name": "stdout",
     "output_type": "stream",
     "text": [
      "156 epoch training loss = 0.6774\n",
      "156 epoch test loss     = 0.5739\n",
      "156 epoch test ACC      = 81.91\n"
     ]
    },
    {
     "name": "stderr",
     "output_type": "stream",
     "text": [
      " 78%|███████▊  | 157/200 [13:23<03:34,  4.99s/it]"
     ]
    },
    {
     "name": "stdout",
     "output_type": "stream",
     "text": [
      "157 epoch training loss = 0.6751\n",
      "157 epoch test loss     = 0.5734\n",
      "157 epoch test ACC      = 82.01\n"
     ]
    },
    {
     "name": "stderr",
     "output_type": "stream",
     "text": [
      " 79%|███████▉  | 158/200 [13:28<03:28,  4.97s/it]"
     ]
    },
    {
     "name": "stdout",
     "output_type": "stream",
     "text": [
      "158 epoch training loss = 0.6762\n",
      "158 epoch test loss     = 0.5725\n",
      "158 epoch test ACC      = 81.95\n"
     ]
    },
    {
     "name": "stderr",
     "output_type": "stream",
     "text": [
      " 80%|███████▉  | 159/200 [13:33<03:20,  4.89s/it]"
     ]
    },
    {
     "name": "stdout",
     "output_type": "stream",
     "text": [
      "159 epoch training loss = 0.6755\n",
      "159 epoch test loss     = 0.5728\n",
      "159 epoch test ACC      = 81.84\n"
     ]
    },
    {
     "name": "stderr",
     "output_type": "stream",
     "text": [
      " 80%|████████  | 160/200 [13:37<03:13,  4.84s/it]"
     ]
    },
    {
     "name": "stdout",
     "output_type": "stream",
     "text": [
      "160 epoch training loss = 0.6722\n",
      "160 epoch test loss     = 0.5711\n",
      "160 epoch test ACC      = 81.92\n"
     ]
    },
    {
     "name": "stderr",
     "output_type": "stream",
     "text": [
      " 80%|████████  | 161/200 [13:42<03:05,  4.77s/it]"
     ]
    },
    {
     "name": "stdout",
     "output_type": "stream",
     "text": [
      "161 epoch training loss = 0.6739\n",
      "161 epoch test loss     = 0.5685\n",
      "161 epoch test ACC      = 81.95\n"
     ]
    },
    {
     "name": "stderr",
     "output_type": "stream",
     "text": [
      " 81%|████████  | 162/200 [13:47<03:00,  4.76s/it]"
     ]
    },
    {
     "name": "stdout",
     "output_type": "stream",
     "text": [
      "162 epoch training loss = 0.6737\n",
      "162 epoch test loss     = 0.5689\n",
      "162 epoch test ACC      = 82.04\n"
     ]
    },
    {
     "name": "stderr",
     "output_type": "stream",
     "text": [
      " 82%|████████▏ | 163/200 [13:51<02:54,  4.72s/it]"
     ]
    },
    {
     "name": "stdout",
     "output_type": "stream",
     "text": [
      "163 epoch training loss = 0.6712\n",
      "163 epoch test loss     = 0.5674\n",
      "163 epoch test ACC      = 81.98\n"
     ]
    },
    {
     "name": "stderr",
     "output_type": "stream",
     "text": [
      " 82%|████████▏ | 164/200 [13:56<02:50,  4.74s/it]"
     ]
    },
    {
     "name": "stdout",
     "output_type": "stream",
     "text": [
      "164 epoch training loss = 0.6688\n",
      "164 epoch test loss     = 0.5678\n",
      "164 epoch test ACC      = 81.92\n"
     ]
    },
    {
     "name": "stderr",
     "output_type": "stream",
     "text": [
      " 82%|████████▎ | 165/200 [14:01<02:45,  4.74s/it]"
     ]
    },
    {
     "name": "stdout",
     "output_type": "stream",
     "text": [
      "165 epoch training loss = 0.6702\n",
      "165 epoch test loss     = 0.5681\n",
      "165 epoch test ACC      = 82.07\n"
     ]
    },
    {
     "name": "stderr",
     "output_type": "stream",
     "text": [
      " 83%|████████▎ | 166/200 [14:06<02:44,  4.84s/it]"
     ]
    },
    {
     "name": "stdout",
     "output_type": "stream",
     "text": [
      "166 epoch training loss = 0.6712\n",
      "166 epoch test loss     = 0.5684\n",
      "166 epoch test ACC      = 81.94\n"
     ]
    },
    {
     "name": "stderr",
     "output_type": "stream",
     "text": [
      " 84%|████████▎ | 167/200 [14:11<02:46,  5.04s/it]"
     ]
    },
    {
     "name": "stdout",
     "output_type": "stream",
     "text": [
      "167 epoch training loss = 0.6691\n",
      "167 epoch test loss     = 0.5653\n",
      "167 epoch test ACC      = 82.12\n"
     ]
    },
    {
     "name": "stderr",
     "output_type": "stream",
     "text": [
      " 84%|████████▍ | 168/200 [14:16<02:41,  5.04s/it]"
     ]
    },
    {
     "name": "stdout",
     "output_type": "stream",
     "text": [
      "168 epoch training loss = 0.6669\n",
      "168 epoch test loss     = 0.5661\n",
      "168 epoch test ACC      = 82.08\n"
     ]
    },
    {
     "name": "stderr",
     "output_type": "stream",
     "text": [
      " 84%|████████▍ | 169/200 [14:22<02:37,  5.07s/it]"
     ]
    },
    {
     "name": "stdout",
     "output_type": "stream",
     "text": [
      "169 epoch training loss = 0.6652\n",
      "169 epoch test loss     = 0.5654\n",
      "169 epoch test ACC      = 81.98\n"
     ]
    },
    {
     "name": "stderr",
     "output_type": "stream",
     "text": [
      " 85%|████████▌ | 170/200 [14:27<02:32,  5.07s/it]"
     ]
    },
    {
     "name": "stdout",
     "output_type": "stream",
     "text": [
      "170 epoch training loss = 0.6658\n",
      "170 epoch test loss     = 0.5642\n",
      "170 epoch test ACC      = 81.99\n"
     ]
    },
    {
     "name": "stderr",
     "output_type": "stream",
     "text": [
      " 86%|████████▌ | 171/200 [14:32<02:27,  5.08s/it]"
     ]
    },
    {
     "name": "stdout",
     "output_type": "stream",
     "text": [
      "171 epoch training loss = 0.6650\n",
      "171 epoch test loss     = 0.5650\n",
      "171 epoch test ACC      = 82.09\n"
     ]
    },
    {
     "name": "stderr",
     "output_type": "stream",
     "text": [
      " 86%|████████▌ | 172/200 [14:37<02:22,  5.09s/it]"
     ]
    },
    {
     "name": "stdout",
     "output_type": "stream",
     "text": [
      "172 epoch training loss = 0.6639\n",
      "172 epoch test loss     = 0.5646\n",
      "172 epoch test ACC      = 82.06\n"
     ]
    },
    {
     "name": "stderr",
     "output_type": "stream",
     "text": [
      " 86%|████████▋ | 173/200 [14:42<02:17,  5.09s/it]"
     ]
    },
    {
     "name": "stdout",
     "output_type": "stream",
     "text": [
      "173 epoch training loss = 0.6631\n",
      "173 epoch test loss     = 0.5606\n",
      "173 epoch test ACC      = 82.22\n"
     ]
    },
    {
     "name": "stderr",
     "output_type": "stream",
     "text": [
      " 87%|████████▋ | 174/200 [14:47<02:12,  5.12s/it]"
     ]
    },
    {
     "name": "stdout",
     "output_type": "stream",
     "text": [
      "174 epoch training loss = 0.6616\n",
      "174 epoch test loss     = 0.5601\n",
      "174 epoch test ACC      = 82.28\n"
     ]
    },
    {
     "name": "stderr",
     "output_type": "stream",
     "text": [
      " 88%|████████▊ | 175/200 [14:52<02:07,  5.10s/it]"
     ]
    },
    {
     "name": "stdout",
     "output_type": "stream",
     "text": [
      "175 epoch training loss = 0.6596\n",
      "175 epoch test loss     = 0.5610\n",
      "175 epoch test ACC      = 82.30\n"
     ]
    },
    {
     "name": "stderr",
     "output_type": "stream",
     "text": [
      " 88%|████████▊ | 176/200 [14:57<02:02,  5.11s/it]"
     ]
    },
    {
     "name": "stdout",
     "output_type": "stream",
     "text": [
      "176 epoch training loss = 0.6594\n",
      "176 epoch test loss     = 0.5596\n",
      "176 epoch test ACC      = 82.24\n"
     ]
    },
    {
     "name": "stderr",
     "output_type": "stream",
     "text": [
      " 88%|████████▊ | 177/200 [15:02<01:58,  5.13s/it]"
     ]
    },
    {
     "name": "stdout",
     "output_type": "stream",
     "text": [
      "177 epoch training loss = 0.6590\n",
      "177 epoch test loss     = 0.5605\n",
      "177 epoch test ACC      = 82.16\n"
     ]
    },
    {
     "name": "stderr",
     "output_type": "stream",
     "text": [
      " 89%|████████▉ | 178/200 [15:08<01:52,  5.11s/it]"
     ]
    },
    {
     "name": "stdout",
     "output_type": "stream",
     "text": [
      "178 epoch training loss = 0.6595\n",
      "178 epoch test loss     = 0.5588\n",
      "178 epoch test ACC      = 82.34\n"
     ]
    },
    {
     "name": "stderr",
     "output_type": "stream",
     "text": [
      " 90%|████████▉ | 179/200 [15:13<01:47,  5.13s/it]"
     ]
    },
    {
     "name": "stdout",
     "output_type": "stream",
     "text": [
      "179 epoch training loss = 0.6576\n",
      "179 epoch test loss     = 0.5588\n",
      "179 epoch test ACC      = 82.31\n"
     ]
    },
    {
     "name": "stderr",
     "output_type": "stream",
     "text": [
      " 90%|█████████ | 180/200 [15:18<01:42,  5.11s/it]"
     ]
    },
    {
     "name": "stdout",
     "output_type": "stream",
     "text": [
      "180 epoch training loss = 0.6581\n",
      "180 epoch test loss     = 0.5566\n",
      "180 epoch test ACC      = 82.39\n"
     ]
    },
    {
     "name": "stderr",
     "output_type": "stream",
     "text": [
      " 90%|█████████ | 181/200 [15:23<01:37,  5.12s/it]"
     ]
    },
    {
     "name": "stdout",
     "output_type": "stream",
     "text": [
      "181 epoch training loss = 0.6546\n",
      "181 epoch test loss     = 0.5602\n",
      "181 epoch test ACC      = 82.16\n"
     ]
    },
    {
     "name": "stderr",
     "output_type": "stream",
     "text": [
      " 91%|█████████ | 182/200 [15:28<01:32,  5.14s/it]"
     ]
    },
    {
     "name": "stdout",
     "output_type": "stream",
     "text": [
      "182 epoch training loss = 0.6550\n",
      "182 epoch test loss     = 0.5571\n",
      "182 epoch test ACC      = 82.37\n"
     ]
    },
    {
     "name": "stderr",
     "output_type": "stream",
     "text": [
      " 92%|█████████▏| 183/200 [15:33<01:26,  5.11s/it]"
     ]
    },
    {
     "name": "stdout",
     "output_type": "stream",
     "text": [
      "183 epoch training loss = 0.6570\n",
      "183 epoch test loss     = 0.5568\n",
      "183 epoch test ACC      = 82.23\n"
     ]
    },
    {
     "name": "stderr",
     "output_type": "stream",
     "text": [
      " 92%|█████████▏| 184/200 [15:38<01:21,  5.12s/it]"
     ]
    },
    {
     "name": "stdout",
     "output_type": "stream",
     "text": [
      "184 epoch training loss = 0.6537\n",
      "184 epoch test loss     = 0.5540\n",
      "184 epoch test ACC      = 82.41\n"
     ]
    },
    {
     "name": "stderr",
     "output_type": "stream",
     "text": [
      " 92%|█████████▎| 185/200 [15:43<01:16,  5.10s/it]"
     ]
    },
    {
     "name": "stdout",
     "output_type": "stream",
     "text": [
      "185 epoch training loss = 0.6526\n",
      "185 epoch test loss     = 0.5562\n",
      "185 epoch test ACC      = 82.25\n"
     ]
    },
    {
     "name": "stderr",
     "output_type": "stream",
     "text": [
      " 93%|█████████▎| 186/200 [15:48<01:11,  5.12s/it]"
     ]
    },
    {
     "name": "stdout",
     "output_type": "stream",
     "text": [
      "186 epoch training loss = 0.6515\n",
      "186 epoch test loss     = 0.5539\n",
      "186 epoch test ACC      = 82.36\n"
     ]
    },
    {
     "name": "stderr",
     "output_type": "stream",
     "text": [
      " 94%|█████████▎| 187/200 [15:53<01:06,  5.09s/it]"
     ]
    },
    {
     "name": "stdout",
     "output_type": "stream",
     "text": [
      "187 epoch training loss = 0.6532\n",
      "187 epoch test loss     = 0.5530\n",
      "187 epoch test ACC      = 82.33\n"
     ]
    },
    {
     "name": "stderr",
     "output_type": "stream",
     "text": [
      " 94%|█████████▍| 188/200 [15:59<01:01,  5.11s/it]"
     ]
    },
    {
     "name": "stdout",
     "output_type": "stream",
     "text": [
      "188 epoch training loss = 0.6510\n",
      "188 epoch test loss     = 0.5526\n",
      "188 epoch test ACC      = 82.41\n"
     ]
    },
    {
     "name": "stderr",
     "output_type": "stream",
     "text": [
      " 94%|█████████▍| 189/200 [16:04<00:56,  5.12s/it]"
     ]
    },
    {
     "name": "stdout",
     "output_type": "stream",
     "text": [
      "189 epoch training loss = 0.6505\n",
      "189 epoch test loss     = 0.5515\n",
      "189 epoch test ACC      = 82.53\n"
     ]
    },
    {
     "name": "stderr",
     "output_type": "stream",
     "text": [
      " 95%|█████████▌| 190/200 [16:09<00:51,  5.10s/it]"
     ]
    },
    {
     "name": "stdout",
     "output_type": "stream",
     "text": [
      "190 epoch training loss = 0.6507\n",
      "190 epoch test loss     = 0.5514\n",
      "190 epoch test ACC      = 82.46\n"
     ]
    },
    {
     "name": "stderr",
     "output_type": "stream",
     "text": [
      " 96%|█████████▌| 191/200 [16:14<00:46,  5.13s/it]"
     ]
    },
    {
     "name": "stdout",
     "output_type": "stream",
     "text": [
      "191 epoch training loss = 0.6494\n",
      "191 epoch test loss     = 0.5531\n",
      "191 epoch test ACC      = 82.54\n"
     ]
    },
    {
     "name": "stderr",
     "output_type": "stream",
     "text": [
      " 96%|█████████▌| 192/200 [16:19<00:40,  5.10s/it]"
     ]
    },
    {
     "name": "stdout",
     "output_type": "stream",
     "text": [
      "192 epoch training loss = 0.6488\n",
      "192 epoch test loss     = 0.5518\n",
      "192 epoch test ACC      = 82.35\n"
     ]
    },
    {
     "name": "stderr",
     "output_type": "stream",
     "text": [
      " 96%|█████████▋| 193/200 [16:24<00:35,  5.11s/it]"
     ]
    },
    {
     "name": "stdout",
     "output_type": "stream",
     "text": [
      "193 epoch training loss = 0.6469\n",
      "193 epoch test loss     = 0.5523\n",
      "193 epoch test ACC      = 82.42\n"
     ]
    },
    {
     "name": "stderr",
     "output_type": "stream",
     "text": [
      " 97%|█████████▋| 194/200 [16:29<00:30,  5.12s/it]"
     ]
    },
    {
     "name": "stdout",
     "output_type": "stream",
     "text": [
      "194 epoch training loss = 0.6476\n",
      "194 epoch test loss     = 0.5489\n",
      "194 epoch test ACC      = 82.44\n"
     ]
    },
    {
     "name": "stderr",
     "output_type": "stream",
     "text": [
      " 98%|█████████▊| 195/200 [16:34<00:25,  5.10s/it]"
     ]
    },
    {
     "name": "stdout",
     "output_type": "stream",
     "text": [
      "195 epoch training loss = 0.6444\n",
      "195 epoch test loss     = 0.5505\n",
      "195 epoch test ACC      = 82.43\n"
     ]
    },
    {
     "name": "stderr",
     "output_type": "stream",
     "text": [
      " 98%|█████████▊| 196/200 [16:40<00:20,  5.12s/it]"
     ]
    },
    {
     "name": "stdout",
     "output_type": "stream",
     "text": [
      "196 epoch training loss = 0.6444\n",
      "196 epoch test loss     = 0.5489\n",
      "196 epoch test ACC      = 82.39\n"
     ]
    },
    {
     "name": "stderr",
     "output_type": "stream",
     "text": [
      " 98%|█████████▊| 197/200 [16:45<00:15,  5.09s/it]"
     ]
    },
    {
     "name": "stdout",
     "output_type": "stream",
     "text": [
      "197 epoch training loss = 0.6445\n",
      "197 epoch test loss     = 0.5502\n",
      "197 epoch test ACC      = 82.37\n"
     ]
    },
    {
     "name": "stderr",
     "output_type": "stream",
     "text": [
      " 99%|█████████▉| 198/200 [16:50<00:10,  5.11s/it]"
     ]
    },
    {
     "name": "stdout",
     "output_type": "stream",
     "text": [
      "198 epoch training loss = 0.6418\n",
      "198 epoch test loss     = 0.5476\n",
      "198 epoch test ACC      = 82.56\n"
     ]
    },
    {
     "name": "stderr",
     "output_type": "stream",
     "text": [
      "100%|█████████▉| 199/200 [16:55<00:05,  5.13s/it]"
     ]
    },
    {
     "name": "stdout",
     "output_type": "stream",
     "text": [
      "199 epoch training loss = 0.6448\n",
      "199 epoch test loss     = 0.5484\n",
      "199 epoch test ACC      = 82.31\n"
     ]
    },
    {
     "name": "stderr",
     "output_type": "stream",
     "text": [
      "100%|██████████| 200/200 [17:00<00:00,  5.10s/it]"
     ]
    },
    {
     "name": "stdout",
     "output_type": "stream",
     "text": [
      "200 epoch training loss = 0.6415\n",
      "200 epoch test loss     = 0.5475\n",
      "200 epoch test ACC      = 82.49\n"
     ]
    },
    {
     "name": "stderr",
     "output_type": "stream",
     "text": [
      "\n"
     ]
    }
   ],
   "source": [
    "model.to(cfg.DEVICE)\n",
    "for epoch in tqdm(range(EPOCHS)):\n",
    "    train_loss_trace = []\n",
    "    model.train()\n",
    "    for idx, batch in enumerate(train_loader):\n",
    "        optimizer.zero_grad()\n",
    "        X, Y = batch\n",
    "        X, Y = X.to(cfg.DEVICE), Y.to(cfg.DEVICE)\n",
    "        pred = model(X) / T\n",
    "        loss = criterion(pred, Y)\n",
    "        loss.backward()\n",
    "        train_loss_trace.append(loss.to('cpu').detach().numpy())\n",
    "        optimizer.step()\n",
    "    \n",
    "    model.eval()\n",
    "    with torch.no_grad():\n",
    "        loss_trace, result_pred, result_anno = [], [], []\n",
    "        for idx, batch in enumerate(test_loader):\n",
    "            X, Y = batch\n",
    "            X, Y = X.to(cfg.DEVICE), Y.to(cfg.DEVICE)\n",
    "            pred = model(X) / T\n",
    "            loss = criterion(pred, Y)\n",
    "            loss_trace.append(loss.to('cpu').detach().numpy())\n",
    "            pred_np  = pred.to('cpu').detach().numpy()\n",
    "            pred_np  = np.argmax(pred_np, axis=1).squeeze()\n",
    "            Y_np     = Y.to('cpu').detach().numpy().reshape(-1, 1).squeeze()\n",
    "            result_pred = np.hstack((result_pred, pred_np))\n",
    "            result_anno = np.hstack((result_anno, Y_np))\n",
    "        \n",
    "        acc = metrics.accuracy_score(y_true=result_anno, y_pred=result_pred)\n",
    "        \n",
    "    print(f'{epoch+1} epoch training loss = {np.average(train_loss_trace):.4f}')\n",
    "    print(f'{epoch+1} epoch test loss     = {np.average(loss_trace):.4f}')\n",
    "    print(f'{epoch+1} epoch test ACC      = {acc*100:.2f}')"
   ]
  },
  {
   "attachments": {},
   "cell_type": "markdown",
   "metadata": {},
   "source": [
    "T=1 200 epoch -> 74.63"
   ]
  }
 ],
 "metadata": {
  "kernelspec": {
   "display_name": "FL",
   "language": "python",
   "name": "python3"
  },
  "language_info": {
   "codemirror_mode": {
    "name": "ipython",
    "version": 3
   },
   "file_extension": ".py",
   "mimetype": "text/x-python",
   "name": "python",
   "nbconvert_exporter": "python",
   "pygments_lexer": "ipython3",
   "version": "3.10.9"
  },
  "orig_nbformat": 4,
  "vscode": {
   "interpreter": {
    "hash": "dddc5845f2b84d498594d269cf9a8120397fd32f7d2714ea40b7f80ce5cdf06a"
   }
  }
 },
 "nbformat": 4,
 "nbformat_minor": 2
}
