{
 "cells": [
  {
   "cell_type": "code",
   "execution_count": 60,
   "metadata": {},
   "outputs": [],
   "source": [
    "import os\n",
    "import copy\n",
    "import torch\n",
    "import numpy as np\n",
    "import config as cfg\n",
    "import torch.nn as nn\n",
    "from tqdm import tqdm\n",
    "from torch.utils.data import DataLoader\n",
    "from models.simpleNet import Net\n",
    "from datamanager import *\n",
    "from Fed_Algorithms import FedAvg\n",
    "import sklearn.metrics as metrics\n",
    "from collections import OrderedDict\n",
    "from multiprocessing import pool, cpu_count\n",
    "from multiprocessing import Process\n",
    "from torch.optim import SGD\n",
    "\n",
    "class Client():\n",
    "    def __init__(self, client_id:str, model:nn.Module, data_info:dict=None, device:str=cfg.DEVICE):\n",
    "        self.id = client_id\n",
    "        #self.cfg = cfg\n",
    "        \n",
    "        self.__model = None\n",
    "        self.device = device\n",
    "        \n",
    "        self.train_info, self.test_info = data_info['train'], data_info['test'] # 함수화하기\n",
    "        self.trainset, self.testset = FEMNIST(self.train_info), FEMNIST(self.test_info)\n",
    "        \n",
    "    @property\n",
    "    def model(self):             \n",
    "        return self.__model\n",
    "\n",
    "    @model.setter\n",
    "    def model(self, model):\n",
    "        self.__model = model\n",
    "    \n",
    "    def __len__(self):\n",
    "        return len(self.trainset)\n",
    "    \n",
    "    def setup(self):\n",
    "        self.train_loader = DataLoader(self.trainset, batch_size=16, shuffle=True)\n",
    "        self.test_loader = DataLoader(self.testset, batch_size=16, shuffle=False)\n",
    "        self.optimizer = SGD(self.model.parameters(), lr=0.01)     # TODO: utils.get_optimizer(cfg['optim']:str)\n",
    "        self.criterion = nn.CrossEntropyLoss()                     # TODO: utils.get_loss(cfg['loss']:str)\n",
    "        self.epochs = 10\n",
    "    \n",
    "    def local_train(self)->None:\n",
    "        self.model.train()\n",
    "        self.model.to(self.device)\n",
    "        # TRAINING\n",
    "        for epoch in range(self.epochs):\n",
    "            for idx, batch in enumerate(self.train_loader):\n",
    "                self.optimizer.zero_grad()\n",
    "                X, Y = batch\n",
    "                X, Y = X.to(self.device), Y.to(self.device)\n",
    "                pred = self.model(X)\n",
    "                loss = self.criterion(pred, Y)\n",
    "                loss.backward()\n",
    "                self.optimizer.step()\n",
    "                if \"cuda\" in self.device : torch.cuda.empty_cache()\n",
    "        # TESTING\n",
    "        self.model.eval()\n",
    "        self.model.to(self.device)\n",
    "        with torch.no_grad():\n",
    "            loss_trace, result_pred, result_anno = [], [], []\n",
    "            for idx, batch in enumerate(self.train_loader):\n",
    "                X, Y = batch\n",
    "                X, Y = X.to(self.device), Y.to(self.device)\n",
    "                pred = self.model(X)\n",
    "                loss = self.criterion(pred, Y)\n",
    "                loss_trace.append(loss.to('cpu').detach().numpy())\n",
    "                pred_np  = pred.to('cpu').detach().numpy()\n",
    "                pred_np  = np.argmax(pred_np, axis=1).squeeze()\n",
    "                Y_np     = Y.to('cpu').detach().numpy().reshape(-1, 1).squeeze()\n",
    "                result_pred = np.hstack((result_pred, pred_np))\n",
    "                result_anno = np.hstack((result_anno, Y_np))\n",
    "                if \"cuda\" in self.device : torch.cuda.empty_cache()\n",
    "            train_acc = metrics.accuracy_score(y_true=result_anno, y_pred=result_pred)\n",
    "            train_loss = np.average(loss_trace)\n",
    "            self.model.to('cpu')\n",
    "        \n",
    "        print(f'=== Client {self.id} Finished Training {len(self)} samples ===')\n",
    "        print(f'client:{self.id} | Train Acc:{train_acc*100:.2f} | Train Loss:{train_loss:.4f}')\n",
    "    \n",
    "    def local_test(self):\n",
    "        self.model.eval()\n",
    "        self.model.to(self.device)\n",
    "        with torch.no_grad():\n",
    "            loss_trace, result_pred, result_anno = [], [], []\n",
    "            for idx, batch in enumerate(self.test_loader):\n",
    "                X, Y = batch\n",
    "                X, Y = X.to(self.device), Y.to(self.device)\n",
    "                pred = self.model(X)\n",
    "                loss = self.criterion(pred, Y)\n",
    "                loss_trace.append(loss.to('cpu').detach().numpy())\n",
    "                pred_np  = pred.to('cpu').detach().numpy()\n",
    "                pred_np  = np.argmax(pred_np, axis=1).squeeze()\n",
    "                Y_np     = Y.to('cpu').detach().numpy().reshape(-1, 1).squeeze()\n",
    "                result_pred = np.hstack((result_pred, pred_np))\n",
    "                result_anno = np.hstack((result_anno, Y_np))\n",
    "                \n",
    "                if \"cuda\" in self.device : torch.cuda.empty_cache()\n",
    "                \n",
    "            test_acc = metrics.accuracy_score(y_true=result_anno, y_pred=result_pred)\n",
    "            test_loss = np.average(loss_trace)\n",
    "            print(f'client:{self.id} | Test Acc:{test_acc*100:.2f} | Test Loss:{test_loss:.4f}')\n",
    "            self.model.to('cpu')\n",
    "\n",
    "class Server():\n",
    "    def __init__(self, DM_dict:dict, algorithm:str=None):\n",
    "        self.train_DM = DM_dict['train']\n",
    "        self.test_DM = DM_dict['test']\n",
    "        \n",
    "        self.clients = None\n",
    "        self.device = cfg.DEVICE\n",
    "        \n",
    "        self.global_model = Net()\n",
    "        \n",
    "        self.criterion = nn.CrossEntropyLoss()              # TODO: utils.get_loss(cfg['loss']:str)\n",
    "        \n",
    "        self.Algorithm = FedAvg.FedAvg                      # FedAVG 같은 aggrrgation method 들어감 TODO: utils.get_algortihm() 작성\n",
    "        \n",
    "        self.mp_flag = False\n",
    "\n",
    "    def setup(self):\n",
    "        self.clients = self.create_clients()\n",
    "        self.data = FEMNIST(self.test_DM.global_test_data)\n",
    "        self.dataloader = DataLoader(self.data, batch_size=256, shuffle=False)\n",
    "        self.transmit_model()\n",
    "        self.setup_clients()\n",
    "        \n",
    "        \n",
    "    def create_clients(self, n_users:int=35):\n",
    "        self.user_ids = self.test_DM.users\n",
    "        self.user_ids = np.random.choice(self.user_ids, n_users, replace=False)\n",
    "        clients = {}\n",
    "        for user in self.user_ids:\n",
    "            data_info = {'train':self.train_DM.data[user],\\\n",
    "                         'test':self.test_DM.data[user]}\n",
    "            clients[user] = Client(client_id=user, model=self.global_model, data_info=data_info, device=self.device)\n",
    "            clients[user].model = copy.deepcopy(self.global_model)\n",
    "        return clients\n",
    "    \n",
    "    def setup_clients(self)->None:\n",
    "        for k, client in tqdm(enumerate(self.clients), leave=False):\n",
    "            self.clients[client].setup()\n",
    "    \n",
    "    def transmit_model(self, sampled_clients:list=None)->None:\n",
    "        if sampled_clients == None:\n",
    "            for client in tqdm(self.clients, leave=False):\n",
    "                self.clients[client].model.load_state_dict(copy.deepcopy(self.global_model.state_dict()))\n",
    "                # self.clients[client].model = copy.deepcopy(self.global_model)\n",
    "        else:\n",
    "            for client in tqdm(sampled_clients, leave=False):\n",
    "                self.clients[client].model.load_state_dict(copy.deepcopy(self.global_model.state_dict()))\n",
    "                # self.clients[client].model = copy.deepcopy(self.global_model)\n",
    "\n",
    "        \n",
    "    def sample_clients(self, n_participant:int=10)->np.array:\n",
    "        assert n_participant <= len(self.user_ids), \"Check 'n_participant <= len(self.clients)'\"\n",
    "        return np.random.choice(self.user_ids, n_participant, replace=False) # 입력된 수의 유저를 추출해서 반환\n",
    "\n",
    "    def train_selected_clients(self, sampled_clients:list)->None:\n",
    "        total_sample = 0\n",
    "        for client in tqdm(sampled_clients, leave=False):\n",
    "            self.clients[client].local_train()\n",
    "            total_sample += len(self.clients[client])\n",
    "        return total_sample\n",
    "    \n",
    "    def mp_train_selected_clients(self, procnum:int, client:str)->None:\n",
    "        self.clients[client].local_train()\n",
    "    \n",
    "    def test_selected_models(self, sampled_clients):\n",
    "        for client in sampled_clients:\n",
    "            self.clients[client].local_test()\n",
    "\n",
    "    def mp_test_selected_models(self, procnum:int, client:str):\n",
    "        self.clients[client].local_test()\n",
    "    \n",
    "    def average_model(self, sampled_clients, coefficients):\n",
    "        averaged_weights = OrderedDict()\n",
    "        for it, client in tqdm(enumerate(sampled_clients), leave=False):\n",
    "            local_weights = self.clients[client].model.state_dict()\n",
    "            for key in self.global_model.state_dict().keys():\n",
    "                if it == 0:\n",
    "                    averaged_weights[key] = coefficients[it] * local_weights[key]\n",
    "                else:\n",
    "                    averaged_weights[key] += coefficients[it] * local_weights[key]\n",
    "        self.global_model.load_state_dict(averaged_weights)\n",
    "    \n",
    "    def update_model(self, train_result:dict, layers:list=None):\n",
    "        self.received_models, num_samples = [], []\n",
    "        for result in train_result:\n",
    "            self.received_models.append(result['model'])\n",
    "            num_samples.append(result['num_sample'])\n",
    "        state = self.Algorithm(self.received_models, num_samples, layers)\n",
    "        self.global_model.load_state_dict(state)\n",
    "\n",
    "    def train_federated_model(self):\n",
    "        sampled_clients = self.sample_clients()\n",
    "        print(f\"CLIENTS {sampled_clients} ARE SELECTED!\\n\")\n",
    "        \n",
    "        if self.mp_flag:\n",
    "            print(\"TRAIN WITH MP!\\n\")\n",
    "            procs = []\n",
    "            selected_total_size = []\n",
    "            for idx, c in enumerate(sampled_clients):\n",
    "                selected_total_size.append(len(self.clients[c]))\n",
    "                proc = Process(target=self.mp_train_selected_clients, args=(idx, c))\n",
    "                proc.start()\n",
    "                procs.append(proc)\n",
    "            for proc in procs:\n",
    "                proc.join()\n",
    "            selected_total_size = sum(selected_total_size)\n",
    "            # with pool.ThreadPool(processes=cpu_count() - 1) as workhorse:\n",
    "            #     selected_total_size = workhorse.map(self.mp_train_selected_clients, sampled_clients)\n",
    "            \n",
    "        else:\n",
    "            print(\"TRAIN WITH SP!\\n\")\n",
    "            selected_total_size = self.train_selected_clients(sampled_clients)\n",
    "\n",
    "        # if not self.mp_flag:\n",
    "        #     print(\"TEST WITH MP!\\n\")\n",
    "        #     procs = []\n",
    "        #     for idx, c in enumerate(sampled_clients):\n",
    "        #         proc = Process(target=self.mp_test_selected_models, args=(idx, c))\n",
    "        #         proc.start()\n",
    "        #         procs.append(proc)\n",
    "        #     for proc in procs:\n",
    "        #         proc.join()\n",
    "        #     # with pool.ThreadPool(processes=cpu_count() - 1) as workhorse:\n",
    "        #     #     workhorse.map(self.mp_test_selected_models, sampled_clients)\n",
    "        # else:\n",
    "        print(\"TEST WITH SP!\\n\")\n",
    "        self.test_selected_models(sampled_clients)\n",
    "                \n",
    "        mixing_coefficients = [len(self.clients[client]) / selected_total_size for client in sampled_clients]\n",
    "        \n",
    "        # print(f\"mixing_coefficients:{mixing_coefficients}\")\n",
    "        # print(f'CLIENT {sampled_clients[0]} WEIGHT')\n",
    "        # print(f'CLIENT {self.clients[sampled_clients[0]].model.state_dict()[\"fc1.weight\"]} WEIGHT')\n",
    "        # print(f'CLIENT {sampled_clients[1]} WEIGHT')\n",
    "        # print(f'CLIENT {self.clients[sampled_clients[1]].model.state_dict()[\"fc1.weight\"]} WEIGHT')\n",
    "        # print(f'Server Weight before update')\n",
    "        # print(f'CLIENT {self.global_model.state_dict()[\"fc1.weight\"]} WEIGHT')\n",
    "        self.average_model(sampled_clients, mixing_coefficients)\n",
    "        # print(f'Server Weight after update')\n",
    "        # print(f'CLIENT {self.global_model.state_dict()[\"fc1.weight\"]} WEIGHT')\n",
    "        self.transmit_model()\n",
    "        \n",
    "    def global_test(self):\n",
    "        self.global_model.eval()\n",
    "        self.global_model.to(self.device)\n",
    "        \n",
    "        with torch.no_grad():\n",
    "            loss_trace, result_pred, result_anno = [], [], []\n",
    "            for idx, batch in enumerate(self.dataloader):\n",
    "                X, Y = batch\n",
    "                X, Y = X.to(self.device), Y.to(self.device)\n",
    "                pred = self.global_model(X)\n",
    "                loss = self.criterion(pred, Y)\n",
    "                loss_trace.append(loss.to('cpu').detach().numpy())\n",
    "                pred_np  = pred.to('cpu').detach().numpy()\n",
    "                pred_np  = np.argmax(pred_np, axis=1).squeeze()\n",
    "                Y_np     = Y.to('cpu').detach().numpy().reshape(-1, 1).squeeze()\n",
    "                result_pred = np.hstack((result_pred, pred_np))\n",
    "                result_anno = np.hstack((result_anno, Y_np))\n",
    "            self.acc = metrics.accuracy_score(y_true=result_anno, y_pred=result_pred)\n",
    "            self.test_loss = np.average(loss_trace)\n",
    "            print(f'Global Test Result | Acc:{self.acc*100:.2f}, Loss:{self.test_loss:.4f}')\n",
    "            self.global_model.to('cpu')\n",
    "    def fit(self):\n",
    "        pass"
   ]
  },
  {
   "cell_type": "code",
   "execution_count": 4,
   "metadata": {},
   "outputs": [
    {
     "name": "stdout",
     "output_type": "stream",
     "text": [
      "DATA READY\n",
      "WORKING WITH cuda\n"
     ]
    }
   ],
   "source": [
    "import torch.multiprocessing as mp\n",
    "from multiprocessing import Process\n",
    "\n",
    "import torch.autograd as autograd\n",
    "\n",
    "autograd.set_detect_anomaly(True)\n",
    "\n",
    "mp.set_start_method('spawn')\n",
    "PATH = cfg.DATAPATH['femnist']\n",
    "    \n",
    "file_dict = get_files(PATH)\n",
    "    \n",
    "TRAIN_DM = DataManager(file_dict['train'], is_train=True)\n",
    "TEST_DM = DataManager(file_dict['test'], is_train=False)\n",
    "DM_dict = {'train':TRAIN_DM,\n",
    "           'test':TEST_DM}\n",
    "print(\"DATA READY\")\n",
    "    \n",
    "print(f\"WORKING WITH {cfg.DEVICE}\")\n",
    "    "
   ]
  },
  {
   "cell_type": "code",
   "execution_count": 61,
   "metadata": {},
   "outputs": [
    {
     "name": "stdout",
     "output_type": "stream",
     "text": [
      "SERVER READY\n"
     ]
    },
    {
     "name": "stderr",
     "output_type": "stream",
     "text": [
      "                                      "
     ]
    },
    {
     "name": "stdout",
     "output_type": "stream",
     "text": [
      "===== ROUND 0 =====\n",
      "Server Setup Complete!\n"
     ]
    },
    {
     "name": "stderr",
     "output_type": "stream",
     "text": [
      "\r"
     ]
    }
   ],
   "source": [
    "server = Server(DM_dict)\n",
    "print(\"SERVER READY\")\n",
    "    \n",
    "server.setup()\n",
    "print('===== ROUND 0 =====\\nServer Setup Complete!')"
   ]
  },
  {
   "cell_type": "code",
   "execution_count": 62,
   "metadata": {},
   "outputs": [
    {
     "name": "stderr",
     "output_type": "stream",
     "text": [
      "  0%|          | 0/10 [00:00<?, ?it/s]"
     ]
    },
    {
     "name": "stdout",
     "output_type": "stream",
     "text": [
      "===== ROUND 1 START! =====\n",
      "\n",
      "CLIENTS ['17' '25' '32' '16' '4' '7' '31' '1' '9' '26'] ARE SELECTED!\n",
      "\n",
      "TRAIN WITH SP!\n",
      "\n"
     ]
    },
    {
     "name": "stderr",
     "output_type": "stream",
     "text": [
      " 10%|█         | 1/10 [00:13<02:02, 13.62s/it]"
     ]
    },
    {
     "name": "stdout",
     "output_type": "stream",
     "text": [
      "=== Client 17 Finished Training 3008 samples ===\n",
      "client:17 | Train Acc:22.87 | Train Loss:3.2651\n"
     ]
    },
    {
     "name": "stderr",
     "output_type": "stream",
     "text": [
      " 20%|██        | 2/10 [00:42<02:59, 22.45s/it]"
     ]
    },
    {
     "name": "stdout",
     "output_type": "stream",
     "text": [
      "=== Client 25 Finished Training 6286 samples ===\n",
      "client:25 | Train Acc:18.12 | Train Loss:3.1497\n"
     ]
    },
    {
     "name": "stderr",
     "output_type": "stream",
     "text": [
      " 30%|███       | 3/10 [00:55<02:09, 18.46s/it]"
     ]
    },
    {
     "name": "stdout",
     "output_type": "stream",
     "text": [
      "=== Client 32 Finished Training 3022 samples ===\n",
      "client:32 | Train Acc:23.00 | Train Loss:3.2049\n"
     ]
    },
    {
     "name": "stderr",
     "output_type": "stream",
     "text": [
      " 40%|████      | 4/10 [01:09<01:38, 16.47s/it]"
     ]
    },
    {
     "name": "stdout",
     "output_type": "stream",
     "text": [
      "=== Client 16 Finished Training 2965 samples ===\n",
      "client:16 | Train Acc:14.33 | Train Loss:3.2624\n"
     ]
    },
    {
     "name": "stderr",
     "output_type": "stream",
     "text": [
      " 50%|█████     | 5/10 [01:32<01:33, 18.70s/it]"
     ]
    },
    {
     "name": "stdout",
     "output_type": "stream",
     "text": [
      "=== Client 4 Finished Training 4955 samples ===\n",
      "client:4 | Train Acc:10.19 | Train Loss:3.5545\n"
     ]
    },
    {
     "name": "stderr",
     "output_type": "stream",
     "text": [
      " 60%|██████    | 6/10 [01:58<01:25, 21.42s/it]"
     ]
    },
    {
     "name": "stdout",
     "output_type": "stream",
     "text": [
      "=== Client 7 Finished Training 5900 samples ===\n",
      "client:7 | Train Acc:7.61 | Train Loss:3.5613\n"
     ]
    },
    {
     "name": "stderr",
     "output_type": "stream",
     "text": [
      " 70%|███████   | 7/10 [02:10<00:55, 18.41s/it]"
     ]
    },
    {
     "name": "stdout",
     "output_type": "stream",
     "text": [
      "=== Client 31 Finished Training 2677 samples ===\n",
      "client:31 | Train Acc:18.12 | Train Loss:3.3102\n"
     ]
    },
    {
     "name": "stderr",
     "output_type": "stream",
     "text": [
      " 80%|████████  | 8/10 [02:24<00:33, 16.96s/it]"
     ]
    },
    {
     "name": "stdout",
     "output_type": "stream",
     "text": [
      "=== Client 1 Finished Training 3071 samples ===\n",
      "client:1 | Train Acc:14.62 | Train Loss:3.2901\n"
     ]
    },
    {
     "name": "stderr",
     "output_type": "stream",
     "text": [
      " 90%|█████████ | 9/10 [02:51<00:20, 20.16s/it]"
     ]
    },
    {
     "name": "stdout",
     "output_type": "stream",
     "text": [
      "=== Client 9 Finished Training 5974 samples ===\n",
      "client:9 | Train Acc:13.34 | Train Loss:3.4158\n"
     ]
    },
    {
     "name": "stderr",
     "output_type": "stream",
     "text": [
      "                                               "
     ]
    },
    {
     "name": "stdout",
     "output_type": "stream",
     "text": [
      "=== Client 26 Finished Training 6253 samples ===\n",
      "client:26 | Train Acc:17.77 | Train Loss:3.2414\n",
      "TEST WITH SP!\n",
      "\n",
      "client:17 | Test Acc:22.67 | Test Loss:3.4334\n",
      "client:25 | Test Acc:18.48 | Test Loss:3.1034\n",
      "client:32 | Test Acc:23.70 | Test Loss:3.1894\n",
      "client:16 | Test Acc:12.39 | Test Loss:3.2665\n",
      "client:4 | Test Acc:9.82 | Test Loss:3.5355\n",
      "client:7 | Test Acc:8.56 | Test Loss:3.5411\n",
      "client:31 | Test Acc:14.01 | Test Loss:3.3133\n",
      "client:1 | Test Acc:11.40 | Test Loss:3.2704\n"
     ]
    },
    {
     "name": "stderr",
     "output_type": "stream",
     "text": [
      "                                      "
     ]
    },
    {
     "name": "stdout",
     "output_type": "stream",
     "text": [
      "client:9 | Test Acc:12.00 | Test Loss:3.3579\n",
      "client:26 | Test Acc:15.06 | Test Loss:3.2951\n"
     ]
    },
    {
     "name": "stderr",
     "output_type": "stream",
     "text": [
      "  0%|          | 0/10 [00:00<?, ?it/s]"
     ]
    },
    {
     "name": "stdout",
     "output_type": "stream",
     "text": [
      "Global Test Result | Acc:16.92, Loss:3.5864\n",
      "===== ROUND 2 START! =====\n",
      "\n",
      "CLIENTS ['24' '1' '15' '30' '10' '26' '11' '27' '28' '34'] ARE SELECTED!\n",
      "\n",
      "TRAIN WITH SP!\n",
      "\n"
     ]
    },
    {
     "name": "stderr",
     "output_type": "stream",
     "text": [
      " 10%|█         | 1/10 [00:28<04:16, 28.55s/it]"
     ]
    },
    {
     "name": "stdout",
     "output_type": "stream",
     "text": [
      "=== Client 24 Finished Training 6299 samples ===\n",
      "client:24 | Train Acc:25.24 | Train Loss:2.7434\n"
     ]
    },
    {
     "name": "stderr",
     "output_type": "stream",
     "text": [
      " 20%|██        | 2/10 [00:42<02:39, 19.93s/it]"
     ]
    },
    {
     "name": "stdout",
     "output_type": "stream",
     "text": [
      "=== Client 1 Finished Training 3071 samples ===\n",
      "client:1 | Train Acc:16.80 | Train Loss:2.9020\n"
     ]
    },
    {
     "name": "stderr",
     "output_type": "stream",
     "text": [
      " 30%|███       | 3/10 [00:56<01:59, 17.04s/it]"
     ]
    },
    {
     "name": "stdout",
     "output_type": "stream",
     "text": [
      "=== Client 15 Finished Training 2987 samples ===\n",
      "client:15 | Train Acc:28.59 | Train Loss:2.6623\n"
     ]
    },
    {
     "name": "stderr",
     "output_type": "stream",
     "text": [
      " 40%|████      | 4/10 [01:08<01:31, 15.20s/it]"
     ]
    },
    {
     "name": "stdout",
     "output_type": "stream",
     "text": [
      "=== Client 30 Finished Training 2722 samples ===\n",
      "client:30 | Train Acc:28.36 | Train Loss:2.8941\n"
     ]
    },
    {
     "name": "stderr",
     "output_type": "stream",
     "text": [
      " 50%|█████     | 5/10 [01:35<01:37, 19.45s/it]"
     ]
    },
    {
     "name": "stdout",
     "output_type": "stream",
     "text": [
      "=== Client 10 Finished Training 5915 samples ===\n",
      "client:10 | Train Acc:35.28 | Train Loss:2.5510\n"
     ]
    },
    {
     "name": "stderr",
     "output_type": "stream",
     "text": [
      " 60%|██████    | 6/10 [02:00<01:25, 21.49s/it]"
     ]
    },
    {
     "name": "stdout",
     "output_type": "stream",
     "text": [
      "=== Client 26 Finished Training 6253 samples ===\n",
      "client:26 | Train Acc:33.78 | Train Loss:2.4986\n"
     ]
    },
    {
     "name": "stderr",
     "output_type": "stream",
     "text": [
      " 70%|███████   | 7/10 [02:12<00:55, 18.39s/it]"
     ]
    },
    {
     "name": "stdout",
     "output_type": "stream",
     "text": [
      "=== Client 11 Finished Training 2639 samples ===\n",
      "client:11 | Train Acc:39.79 | Train Loss:2.5253\n"
     ]
    },
    {
     "name": "stderr",
     "output_type": "stream",
     "text": [
      " 80%|████████  | 8/10 [02:41<00:43, 21.65s/it]"
     ]
    },
    {
     "name": "stdout",
     "output_type": "stream",
     "text": [
      "=== Client 27 Finished Training 6294 samples ===\n",
      "client:27 | Train Acc:37.38 | Train Loss:2.3487\n"
     ]
    },
    {
     "name": "stderr",
     "output_type": "stream",
     "text": [
      " 90%|█████████ | 9/10 [03:09<00:23, 23.61s/it]"
     ]
    },
    {
     "name": "stdout",
     "output_type": "stream",
     "text": [
      "=== Client 28 Finished Training 6100 samples ===\n",
      "client:28 | Train Acc:13.43 | Train Loss:3.3082\n"
     ]
    },
    {
     "name": "stderr",
     "output_type": "stream",
     "text": [
      "                                               "
     ]
    },
    {
     "name": "stdout",
     "output_type": "stream",
     "text": [
      "=== Client 34 Finished Training 3002 samples ===\n",
      "client:34 | Train Acc:33.31 | Train Loss:2.7297\n",
      "TEST WITH SP!\n",
      "\n",
      "client:24 | Test Acc:25.39 | Test Loss:2.8300\n",
      "client:1 | Test Acc:17.95 | Test Loss:2.8534\n",
      "client:15 | Test Acc:29.03 | Test Loss:2.5926\n",
      "client:30 | Test Acc:29.81 | Test Loss:2.8809\n",
      "client:10 | Test Acc:36.38 | Test Loss:2.4991\n",
      "client:26 | Test Acc:33.10 | Test Loss:2.5741\n",
      "client:11 | Test Acc:41.25 | Test Loss:2.6166\n"
     ]
    },
    {
     "name": "stderr",
     "output_type": "stream",
     "text": [
      "                                      "
     ]
    },
    {
     "name": "stdout",
     "output_type": "stream",
     "text": [
      "client:27 | Test Acc:39.63 | Test Loss:2.2591\n",
      "client:28 | Test Acc:13.64 | Test Loss:3.3385\n",
      "client:34 | Test Acc:32.46 | Test Loss:2.8708\n"
     ]
    },
    {
     "name": "stderr",
     "output_type": "stream",
     "text": [
      "  0%|          | 0/10 [00:00<?, ?it/s]"
     ]
    },
    {
     "name": "stdout",
     "output_type": "stream",
     "text": [
      "Global Test Result | Acc:33.03, Loss:2.6080\n",
      "===== ROUND 3 START! =====\n",
      "\n",
      "CLIENTS ['17' '21' '30' '2' '26' '6' '4' '15' '1' '24'] ARE SELECTED!\n",
      "\n",
      "TRAIN WITH SP!\n",
      "\n"
     ]
    },
    {
     "name": "stderr",
     "output_type": "stream",
     "text": [
      " 10%|█         | 1/10 [00:13<02:02, 13.66s/it]"
     ]
    },
    {
     "name": "stdout",
     "output_type": "stream",
     "text": [
      "=== Client 17 Finished Training 3008 samples ===\n",
      "client:17 | Train Acc:51.36 | Train Loss:1.8820\n"
     ]
    },
    {
     "name": "stderr",
     "output_type": "stream",
     "text": [
      " 20%|██        | 2/10 [00:27<01:51, 13.91s/it]"
     ]
    },
    {
     "name": "stdout",
     "output_type": "stream",
     "text": [
      "=== Client 21 Finished Training 3099 samples ===\n",
      "client:21 | Train Acc:51.44 | Train Loss:1.8551\n"
     ]
    },
    {
     "name": "stderr",
     "output_type": "stream",
     "text": [
      " 30%|███       | 3/10 [00:40<01:32, 13.25s/it]"
     ]
    },
    {
     "name": "stdout",
     "output_type": "stream",
     "text": [
      "=== Client 30 Finished Training 2722 samples ===\n",
      "client:30 | Train Acc:8.67 | Train Loss:4.9199\n"
     ]
    },
    {
     "name": "stderr",
     "output_type": "stream",
     "text": [
      " 40%|████      | 4/10 [01:02<01:41, 16.85s/it]"
     ]
    },
    {
     "name": "stdout",
     "output_type": "stream",
     "text": [
      "=== Client 2 Finished Training 4941 samples ===\n",
      "client:2 | Train Acc:38.47 | Train Loss:2.2113\n"
     ]
    },
    {
     "name": "stderr",
     "output_type": "stream",
     "text": [
      " 50%|█████     | 5/10 [01:30<01:44, 20.99s/it]"
     ]
    },
    {
     "name": "stdout",
     "output_type": "stream",
     "text": [
      "=== Client 26 Finished Training 6253 samples ===\n",
      "client:26 | Train Acc:59.19 | Train Loss:1.5225\n"
     ]
    },
    {
     "name": "stderr",
     "output_type": "stream",
     "text": [
      " 60%|██████    | 6/10 [01:53<01:26, 21.54s/it]"
     ]
    },
    {
     "name": "stdout",
     "output_type": "stream",
     "text": [
      "=== Client 6 Finished Training 4982 samples ===\n",
      "client:6 | Train Acc:58.17 | Train Loss:1.6188\n"
     ]
    },
    {
     "name": "stderr",
     "output_type": "stream",
     "text": [
      " 70%|███████   | 7/10 [02:16<01:05, 21.90s/it]"
     ]
    },
    {
     "name": "stdout",
     "output_type": "stream",
     "text": [
      "=== Client 4 Finished Training 4955 samples ===\n",
      "client:4 | Train Acc:41.47 | Train Loss:2.1089\n"
     ]
    },
    {
     "name": "stderr",
     "output_type": "stream",
     "text": [
      " 80%|████████  | 8/10 [02:29<00:38, 19.27s/it]"
     ]
    },
    {
     "name": "stdout",
     "output_type": "stream",
     "text": [
      "=== Client 15 Finished Training 2987 samples ===\n",
      "client:15 | Train Acc:53.33 | Train Loss:1.8182\n"
     ]
    },
    {
     "name": "stderr",
     "output_type": "stream",
     "text": [
      " 90%|█████████ | 9/10 [02:43<00:17, 17.59s/it]"
     ]
    },
    {
     "name": "stdout",
     "output_type": "stream",
     "text": [
      "=== Client 1 Finished Training 3071 samples ===\n",
      "client:1 | Train Acc:52.46 | Train Loss:1.8878\n"
     ]
    },
    {
     "name": "stderr",
     "output_type": "stream",
     "text": [
      "                                               "
     ]
    },
    {
     "name": "stdout",
     "output_type": "stream",
     "text": [
      "=== Client 24 Finished Training 6299 samples ===\n",
      "client:24 | Train Acc:54.18 | Train Loss:1.7040\n",
      "TEST WITH SP!\n",
      "\n",
      "client:17 | Test Acc:45.64 | Test Loss:2.0600\n",
      "client:21 | Test Acc:56.62 | Test Loss:1.7875\n",
      "client:30 | Test Acc:7.69 | Test Loss:4.9651\n",
      "client:2 | Test Acc:40.14 | Test Loss:2.2371\n",
      "client:26 | Test Acc:57.95 | Test Loss:1.5885\n",
      "client:6 | Test Acc:62.39 | Test Loss:1.5591\n",
      "client:4 | Test Acc:41.61 | Test Loss:2.0569\n"
     ]
    },
    {
     "name": "stderr",
     "output_type": "stream",
     "text": [
      "                                      "
     ]
    },
    {
     "name": "stdout",
     "output_type": "stream",
     "text": [
      "client:15 | Test Acc:51.32 | Test Loss:1.8576\n",
      "client:1 | Test Acc:51.85 | Test Loss:1.8807\n",
      "client:24 | Test Acc:54.44 | Test Loss:1.8187\n"
     ]
    },
    {
     "name": "stderr",
     "output_type": "stream",
     "text": [
      "  0%|          | 0/10 [00:00<?, ?it/s]"
     ]
    },
    {
     "name": "stdout",
     "output_type": "stream",
     "text": [
      "Global Test Result | Acc:47.74, Loss:1.9760\n",
      "===== ROUND 4 START! =====\n",
      "\n",
      "CLIENTS ['0' '32' '5' '7' '13' '9' '14' '28' '6' '10'] ARE SELECTED!\n",
      "\n",
      "TRAIN WITH SP!\n",
      "\n"
     ]
    },
    {
     "name": "stderr",
     "output_type": "stream",
     "text": [
      " 10%|█         | 1/10 [00:12<01:53, 12.66s/it]"
     ]
    },
    {
     "name": "stdout",
     "output_type": "stream",
     "text": [
      "=== Client 0 Finished Training 2754 samples ===\n",
      "client:0 | Train Acc:13.11 | Train Loss:4.3255\n"
     ]
    },
    {
     "name": "stderr",
     "output_type": "stream",
     "text": [
      " 20%|██        | 2/10 [00:26<01:46, 13.33s/it]"
     ]
    },
    {
     "name": "stdout",
     "output_type": "stream",
     "text": [
      "=== Client 32 Finished Training 3022 samples ===\n",
      "client:32 | Train Acc:62.84 | Train Loss:1.3215\n"
     ]
    },
    {
     "name": "stderr",
     "output_type": "stream",
     "text": [
      " 30%|███       | 3/10 [00:48<01:59, 17.10s/it]"
     ]
    },
    {
     "name": "stdout",
     "output_type": "stream",
     "text": [
      "=== Client 5 Finished Training 4751 samples ===\n",
      "client:5 | Train Acc:59.67 | Train Loss:1.4722\n"
     ]
    },
    {
     "name": "stderr",
     "output_type": "stream",
     "text": [
      " 40%|████      | 4/10 [01:14<02:05, 20.92s/it]"
     ]
    },
    {
     "name": "stdout",
     "output_type": "stream",
     "text": [
      "=== Client 7 Finished Training 5900 samples ===\n",
      "client:7 | Train Acc:59.95 | Train Loss:1.4621\n"
     ]
    },
    {
     "name": "stderr",
     "output_type": "stream",
     "text": [
      " 50%|█████     | 5/10 [01:26<01:28, 17.74s/it]"
     ]
    },
    {
     "name": "stdout",
     "output_type": "stream",
     "text": [
      "=== Client 13 Finished Training 3010 samples ===\n",
      "client:13 | Train Acc:44.39 | Train Loss:2.0180\n"
     ]
    },
    {
     "name": "stderr",
     "output_type": "stream",
     "text": [
      " 60%|██████    | 6/10 [01:51<01:20, 20.08s/it]"
     ]
    },
    {
     "name": "stdout",
     "output_type": "stream",
     "text": [
      "=== Client 9 Finished Training 5974 samples ===\n",
      "client:9 | Train Acc:62.89 | Train Loss:1.3500\n"
     ]
    },
    {
     "name": "stderr",
     "output_type": "stream",
     "text": [
      " 70%|███████   | 7/10 [02:04<00:53, 17.86s/it]"
     ]
    },
    {
     "name": "stdout",
     "output_type": "stream",
     "text": [
      "=== Client 14 Finished Training 2946 samples ===\n",
      "client:14 | Train Acc:25.08 | Train Loss:3.4783\n"
     ]
    },
    {
     "name": "stderr",
     "output_type": "stream",
     "text": [
      " 80%|████████  | 8/10 [02:32<00:41, 20.99s/it]"
     ]
    },
    {
     "name": "stdout",
     "output_type": "stream",
     "text": [
      "=== Client 28 Finished Training 6100 samples ===\n",
      "client:28 | Train Acc:29.49 | Train Loss:2.7702\n"
     ]
    },
    {
     "name": "stderr",
     "output_type": "stream",
     "text": [
      " 90%|█████████ | 9/10 [02:55<00:21, 21.52s/it]"
     ]
    },
    {
     "name": "stdout",
     "output_type": "stream",
     "text": [
      "=== Client 6 Finished Training 4982 samples ===\n",
      "client:6 | Train Acc:55.48 | Train Loss:1.5217\n"
     ]
    },
    {
     "name": "stderr",
     "output_type": "stream",
     "text": [
      "                                               "
     ]
    },
    {
     "name": "stdout",
     "output_type": "stream",
     "text": [
      "=== Client 10 Finished Training 5915 samples ===\n",
      "client:10 | Train Acc:60.51 | Train Loss:1.4703\n",
      "TEST WITH SP!\n",
      "\n",
      "client:0 | Test Acc:16.77 | Test Loss:4.1923\n",
      "client:32 | Test Acc:64.16 | Test Loss:1.3131\n",
      "client:5 | Test Acc:57.54 | Test Loss:1.6193\n",
      "client:7 | Test Acc:57.51 | Test Loss:1.5976\n",
      "client:13 | Test Acc:44.61 | Test Loss:2.0927\n",
      "client:9 | Test Acc:64.44 | Test Loss:1.3479\n",
      "client:14 | Test Acc:27.73 | Test Loss:3.5898\n"
     ]
    },
    {
     "name": "stderr",
     "output_type": "stream",
     "text": [
      "                                      "
     ]
    },
    {
     "name": "stdout",
     "output_type": "stream",
     "text": [
      "client:28 | Test Acc:27.43 | Test Loss:2.8468\n",
      "client:6 | Test Acc:60.96 | Test Loss:1.4697\n",
      "client:10 | Test Acc:63.92 | Test Loss:1.4333\n"
     ]
    },
    {
     "name": "stderr",
     "output_type": "stream",
     "text": [
      "  0%|          | 0/10 [00:00<?, ?it/s]"
     ]
    },
    {
     "name": "stdout",
     "output_type": "stream",
     "text": [
      "Global Test Result | Acc:54.79, Loss:1.7063\n",
      "===== ROUND 5 START! =====\n",
      "\n",
      "CLIENTS ['20' '35' '10' '5' '28' '31' '24' '1' '2' '4'] ARE SELECTED!\n",
      "\n",
      "TRAIN WITH SP!\n",
      "\n"
     ]
    },
    {
     "name": "stderr",
     "output_type": "stream",
     "text": [
      " 10%|█         | 1/10 [00:14<02:06, 14.01s/it]"
     ]
    },
    {
     "name": "stdout",
     "output_type": "stream",
     "text": [
      "=== Client 20 Finished Training 3102 samples ===\n",
      "client:20 | Train Acc:69.47 | Train Loss:1.1170\n"
     ]
    },
    {
     "name": "stderr",
     "output_type": "stream",
     "text": [
      " 20%|██        | 2/10 [00:27<01:50, 13.83s/it]"
     ]
    },
    {
     "name": "stdout",
     "output_type": "stream",
     "text": [
      "=== Client 35 Finished Training 3030 samples ===\n",
      "client:35 | Train Acc:60.40 | Train Loss:1.4076\n"
     ]
    },
    {
     "name": "stderr",
     "output_type": "stream",
     "text": [
      " 30%|███       | 3/10 [00:54<02:18, 19.76s/it]"
     ]
    },
    {
     "name": "stdout",
     "output_type": "stream",
     "text": [
      "=== Client 10 Finished Training 5915 samples ===\n",
      "client:10 | Train Acc:61.35 | Train Loss:1.3495\n"
     ]
    },
    {
     "name": "stderr",
     "output_type": "stream",
     "text": [
      " 40%|████      | 4/10 [01:16<02:02, 20.49s/it]"
     ]
    },
    {
     "name": "stdout",
     "output_type": "stream",
     "text": [
      "=== Client 5 Finished Training 4751 samples ===\n",
      "client:5 | Train Acc:60.09 | Train Loss:1.3976\n"
     ]
    },
    {
     "name": "stderr",
     "output_type": "stream",
     "text": [
      " 50%|█████     | 5/10 [01:43<01:55, 23.12s/it]"
     ]
    },
    {
     "name": "stdout",
     "output_type": "stream",
     "text": [
      "=== Client 28 Finished Training 6100 samples ===\n",
      "client:28 | Train Acc:44.11 | Train Loss:2.0458\n"
     ]
    },
    {
     "name": "stderr",
     "output_type": "stream",
     "text": [
      " 60%|██████    | 6/10 [01:56<01:17, 19.42s/it]"
     ]
    },
    {
     "name": "stdout",
     "output_type": "stream",
     "text": [
      "=== Client 31 Finished Training 2677 samples ===\n",
      "client:31 | Train Acc:53.34 | Train Loss:1.8019\n"
     ]
    },
    {
     "name": "stderr",
     "output_type": "stream",
     "text": [
      " 70%|███████   | 7/10 [02:24<01:07, 22.42s/it]"
     ]
    },
    {
     "name": "stdout",
     "output_type": "stream",
     "text": [
      "=== Client 24 Finished Training 6299 samples ===\n",
      "client:24 | Train Acc:64.28 | Train Loss:1.2556\n"
     ]
    },
    {
     "name": "stderr",
     "output_type": "stream",
     "text": [
      " 80%|████████  | 8/10 [02:38<00:39, 19.73s/it]"
     ]
    },
    {
     "name": "stdout",
     "output_type": "stream",
     "text": [
      "=== Client 1 Finished Training 3071 samples ===\n",
      "client:1 | Train Acc:63.79 | Train Loss:1.3182\n"
     ]
    },
    {
     "name": "stderr",
     "output_type": "stream",
     "text": [
      " 90%|█████████ | 9/10 [03:01<00:20, 20.53s/it]"
     ]
    },
    {
     "name": "stdout",
     "output_type": "stream",
     "text": [
      "=== Client 2 Finished Training 4941 samples ===\n",
      "client:2 | Train Acc:58.79 | Train Loss:1.4277\n"
     ]
    },
    {
     "name": "stderr",
     "output_type": "stream",
     "text": [
      "                                               "
     ]
    },
    {
     "name": "stdout",
     "output_type": "stream",
     "text": [
      "=== Client 4 Finished Training 4955 samples ===\n",
      "client:4 | Train Acc:66.84 | Train Loss:1.1850\n",
      "TEST WITH SP!\n",
      "\n",
      "client:20 | Test Acc:58.87 | Test Loss:1.6466\n",
      "client:35 | Test Acc:58.84 | Test Loss:1.6052\n",
      "client:10 | Test Acc:61.23 | Test Loss:1.3883\n",
      "client:5 | Test Acc:59.96 | Test Loss:1.5394\n",
      "client:28 | Test Acc:46.44 | Test Loss:1.9652\n",
      "client:31 | Test Acc:50.81 | Test Loss:2.1387\n",
      "client:24 | Test Acc:61.21 | Test Loss:1.4043\n"
     ]
    },
    {
     "name": "stderr",
     "output_type": "stream",
     "text": [
      "                                      "
     ]
    },
    {
     "name": "stdout",
     "output_type": "stream",
     "text": [
      "client:1 | Test Acc:62.96 | Test Loss:1.4598\n",
      "client:2 | Test Acc:61.47 | Test Loss:1.4139\n",
      "client:4 | Test Acc:66.96 | Test Loss:1.2063\n"
     ]
    },
    {
     "name": "stderr",
     "output_type": "stream",
     "text": [
      "  0%|          | 0/10 [00:00<?, ?it/s]"
     ]
    },
    {
     "name": "stdout",
     "output_type": "stream",
     "text": [
      "Global Test Result | Acc:57.98, Loss:1.5063\n",
      "===== ROUND 6 START! =====\n",
      "\n",
      "CLIENTS ['13' '28' '34' '15' '24' '35' '20' '7' '0' '31'] ARE SELECTED!\n",
      "\n",
      "TRAIN WITH SP!\n",
      "\n"
     ]
    },
    {
     "name": "stderr",
     "output_type": "stream",
     "text": [
      " 10%|█         | 1/10 [00:13<02:03, 13.74s/it]"
     ]
    },
    {
     "name": "stdout",
     "output_type": "stream",
     "text": [
      "=== Client 13 Finished Training 3010 samples ===\n",
      "client:13 | Train Acc:68.31 | Train Loss:1.1201\n"
     ]
    },
    {
     "name": "stderr",
     "output_type": "stream",
     "text": [
      " 20%|██        | 2/10 [00:41<02:55, 21.96s/it]"
     ]
    },
    {
     "name": "stdout",
     "output_type": "stream",
     "text": [
      "=== Client 28 Finished Training 6100 samples ===\n",
      "client:28 | Train Acc:52.15 | Train Loss:1.6300\n"
     ]
    },
    {
     "name": "stderr",
     "output_type": "stream",
     "text": [
      " 30%|███       | 3/10 [00:55<02:06, 18.13s/it]"
     ]
    },
    {
     "name": "stdout",
     "output_type": "stream",
     "text": [
      "=== Client 34 Finished Training 3002 samples ===\n",
      "client:34 | Train Acc:76.88 | Train Loss:0.8118\n"
     ]
    },
    {
     "name": "stderr",
     "output_type": "stream",
     "text": [
      " 40%|████      | 4/10 [01:08<01:38, 16.34s/it]"
     ]
    },
    {
     "name": "stdout",
     "output_type": "stream",
     "text": [
      "=== Client 15 Finished Training 2987 samples ===\n",
      "client:15 | Train Acc:63.31 | Train Loss:1.3013\n"
     ]
    },
    {
     "name": "stderr",
     "output_type": "stream",
     "text": [
      " 50%|█████     | 5/10 [01:37<01:43, 20.78s/it]"
     ]
    },
    {
     "name": "stdout",
     "output_type": "stream",
     "text": [
      "=== Client 24 Finished Training 6299 samples ===\n",
      "client:24 | Train Acc:66.34 | Train Loss:1.1424\n"
     ]
    },
    {
     "name": "stderr",
     "output_type": "stream",
     "text": [
      " 60%|██████    | 6/10 [01:51<01:13, 18.40s/it]"
     ]
    },
    {
     "name": "stdout",
     "output_type": "stream",
     "text": [
      "=== Client 35 Finished Training 3030 samples ===\n",
      "client:35 | Train Acc:68.55 | Train Loss:1.1048\n"
     ]
    },
    {
     "name": "stderr",
     "output_type": "stream",
     "text": [
      " 70%|███████   | 7/10 [02:05<00:50, 16.97s/it]"
     ]
    },
    {
     "name": "stdout",
     "output_type": "stream",
     "text": [
      "=== Client 20 Finished Training 3102 samples ===\n",
      "client:20 | Train Acc:72.05 | Train Loss:0.9982\n"
     ]
    },
    {
     "name": "stderr",
     "output_type": "stream",
     "text": [
      " 80%|████████  | 8/10 [02:31<00:40, 20.13s/it]"
     ]
    },
    {
     "name": "stdout",
     "output_type": "stream",
     "text": [
      "=== Client 7 Finished Training 5900 samples ===\n",
      "client:7 | Train Acc:67.12 | Train Loss:1.1416\n"
     ]
    },
    {
     "name": "stderr",
     "output_type": "stream",
     "text": [
      " 90%|█████████ | 9/10 [02:44<00:17, 17.74s/it]"
     ]
    },
    {
     "name": "stdout",
     "output_type": "stream",
     "text": [
      "=== Client 0 Finished Training 2754 samples ===\n",
      "client:0 | Train Acc:72.26 | Train Loss:1.0151\n"
     ]
    },
    {
     "name": "stderr",
     "output_type": "stream",
     "text": [
      "                                               "
     ]
    },
    {
     "name": "stdout",
     "output_type": "stream",
     "text": [
      "=== Client 31 Finished Training 2677 samples ===\n",
      "client:31 | Train Acc:72.51 | Train Loss:1.0594\n",
      "TEST WITH SP!\n",
      "\n",
      "client:13 | Test Acc:66.18 | Test Loss:1.2605\n",
      "client:28 | Test Acc:49.78 | Test Loss:1.7803\n",
      "client:34 | Test Acc:71.30 | Test Loss:1.0838\n",
      "client:15 | Test Acc:58.65 | Test Loss:1.6086\n",
      "client:24 | Test Acc:65.16 | Test Loss:1.3138\n",
      "client:35 | Test Acc:65.22 | Test Loss:1.3395\n",
      "client:20 | Test Acc:61.69 | Test Loss:1.6015\n"
     ]
    },
    {
     "name": "stderr",
     "output_type": "stream",
     "text": [
      "                                      "
     ]
    },
    {
     "name": "stdout",
     "output_type": "stream",
     "text": [
      "client:7 | Test Acc:62.61 | Test Loss:1.3296\n",
      "client:0 | Test Acc:68.67 | Test Loss:1.2181\n",
      "client:31 | Test Acc:68.08 | Test Loss:1.3785\n"
     ]
    },
    {
     "name": "stderr",
     "output_type": "stream",
     "text": [
      "  0%|          | 0/10 [00:00<?, ?it/s]"
     ]
    },
    {
     "name": "stdout",
     "output_type": "stream",
     "text": [
      "Global Test Result | Acc:60.85, Loss:1.3720\n",
      "===== ROUND 7 START! =====\n",
      "\n",
      "CLIENTS ['34' '24' '18' '6' '14' '12' '11' '35' '16' '33'] ARE SELECTED!\n",
      "\n",
      "TRAIN WITH SP!\n",
      "\n"
     ]
    },
    {
     "name": "stderr",
     "output_type": "stream",
     "text": [
      " 10%|█         | 1/10 [00:13<02:03, 13.70s/it]"
     ]
    },
    {
     "name": "stdout",
     "output_type": "stream",
     "text": [
      "=== Client 34 Finished Training 3002 samples ===\n",
      "client:34 | Train Acc:78.58 | Train Loss:0.7417\n"
     ]
    },
    {
     "name": "stderr",
     "output_type": "stream",
     "text": [
      " 20%|██        | 2/10 [00:42<03:00, 22.52s/it]"
     ]
    },
    {
     "name": "stdout",
     "output_type": "stream",
     "text": [
      "=== Client 24 Finished Training 6299 samples ===\n",
      "client:24 | Train Acc:62.72 | Train Loss:1.2631\n"
     ]
    },
    {
     "name": "stderr",
     "output_type": "stream",
     "text": [
      " 30%|███       | 3/10 [00:56<02:11, 18.74s/it]"
     ]
    },
    {
     "name": "stdout",
     "output_type": "stream",
     "text": [
      "=== Client 18 Finished Training 3098 samples ===\n",
      "client:18 | Train Acc:74.82 | Train Loss:0.8806\n"
     ]
    },
    {
     "name": "stderr",
     "output_type": "stream",
     "text": [
      " 40%|████      | 4/10 [01:19<02:01, 20.33s/it]"
     ]
    },
    {
     "name": "stdout",
     "output_type": "stream",
     "text": [
      "=== Client 6 Finished Training 4982 samples ===\n",
      "client:6 | Train Acc:62.85 | Train Loss:1.2481\n"
     ]
    },
    {
     "name": "stderr",
     "output_type": "stream",
     "text": [
      " 50%|█████     | 5/10 [01:32<01:29, 17.85s/it]"
     ]
    },
    {
     "name": "stdout",
     "output_type": "stream",
     "text": [
      "=== Client 14 Finished Training 2946 samples ===\n",
      "client:14 | Train Acc:51.56 | Train Loss:1.6610\n"
     ]
    },
    {
     "name": "stderr",
     "output_type": "stream",
     "text": [
      " 60%|██████    | 6/10 [01:58<01:22, 20.67s/it]"
     ]
    },
    {
     "name": "stdout",
     "output_type": "stream",
     "text": [
      "=== Client 12 Finished Training 5760 samples ===\n",
      "client:12 | Train Acc:70.78 | Train Loss:1.0042\n"
     ]
    },
    {
     "name": "stderr",
     "output_type": "stream",
     "text": [
      " 70%|███████   | 7/10 [02:10<00:53, 17.83s/it]"
     ]
    },
    {
     "name": "stdout",
     "output_type": "stream",
     "text": [
      "=== Client 11 Finished Training 2639 samples ===\n",
      "client:11 | Train Acc:73.74 | Train Loss:0.9414\n"
     ]
    },
    {
     "name": "stderr",
     "output_type": "stream",
     "text": [
      " 80%|████████  | 8/10 [02:24<00:33, 16.57s/it]"
     ]
    },
    {
     "name": "stdout",
     "output_type": "stream",
     "text": [
      "=== Client 35 Finished Training 3030 samples ===\n",
      "client:35 | Train Acc:65.12 | Train Loss:1.2289\n"
     ]
    },
    {
     "name": "stderr",
     "output_type": "stream",
     "text": [
      " 90%|█████████ | 9/10 [02:38<00:15, 15.63s/it]"
     ]
    },
    {
     "name": "stdout",
     "output_type": "stream",
     "text": [
      "=== Client 16 Finished Training 2965 samples ===\n",
      "client:16 | Train Acc:69.98 | Train Loss:1.0317\n"
     ]
    },
    {
     "name": "stderr",
     "output_type": "stream",
     "text": [
      "                                               "
     ]
    },
    {
     "name": "stdout",
     "output_type": "stream",
     "text": [
      "=== Client 33 Finished Training 3037 samples ===\n",
      "client:33 | Train Acc:73.39 | Train Loss:0.9280\n",
      "TEST WITH SP!\n",
      "\n",
      "client:34 | Test Acc:71.01 | Test Loss:1.0699\n",
      "client:24 | Test Acc:60.93 | Test Loss:1.4519\n",
      "client:18 | Test Acc:77.40 | Test Loss:0.9413\n",
      "client:6 | Test Acc:64.71 | Test Loss:1.3203\n",
      "client:14 | Test Acc:52.80 | Test Loss:1.8738\n",
      "client:12 | Test Acc:69.44 | Test Loss:1.0750\n",
      "client:11 | Test Acc:71.95 | Test Loss:1.1368\n",
      "client:35 | Test Acc:60.87 | Test Loss:1.5108\n"
     ]
    },
    {
     "name": "stderr",
     "output_type": "stream",
     "text": [
      "                                      "
     ]
    },
    {
     "name": "stdout",
     "output_type": "stream",
     "text": [
      "client:16 | Test Acc:69.03 | Test Loss:1.1130\n",
      "client:33 | Test Acc:72.13 | Test Loss:1.0547\n"
     ]
    },
    {
     "name": "stderr",
     "output_type": "stream",
     "text": [
      "  0%|          | 0/10 [00:00<?, ?it/s]"
     ]
    },
    {
     "name": "stdout",
     "output_type": "stream",
     "text": [
      "Global Test Result | Acc:63.43, Loss:1.2857\n",
      "===== ROUND 8 START! =====\n",
      "\n",
      "CLIENTS ['19' '8' '2' '11' '13' '24' '17' '1' '28' '23'] ARE SELECTED!\n",
      "\n",
      "TRAIN WITH SP!\n",
      "\n"
     ]
    },
    {
     "name": "stderr",
     "output_type": "stream",
     "text": [
      " 10%|█         | 1/10 [00:14<02:07, 14.15s/it]"
     ]
    },
    {
     "name": "stdout",
     "output_type": "stream",
     "text": [
      "=== Client 19 Finished Training 3110 samples ===\n",
      "client:19 | Train Acc:71.77 | Train Loss:0.9477\n"
     ]
    },
    {
     "name": "stderr",
     "output_type": "stream",
     "text": [
      " 20%|██        | 2/10 [00:40<02:49, 21.16s/it]"
     ]
    },
    {
     "name": "stdout",
     "output_type": "stream",
     "text": [
      "=== Client 8 Finished Training 5711 samples ===\n",
      "client:8 | Train Acc:59.17 | Train Loss:1.3654\n"
     ]
    },
    {
     "name": "stderr",
     "output_type": "stream",
     "text": [
      " 30%|███       | 3/10 [01:01<02:27, 21.13s/it]"
     ]
    },
    {
     "name": "stdout",
     "output_type": "stream",
     "text": [
      "=== Client 2 Finished Training 4941 samples ===\n",
      "client:2 | Train Acc:77.51 | Train Loss:0.7832\n"
     ]
    },
    {
     "name": "stderr",
     "output_type": "stream",
     "text": [
      " 40%|████      | 4/10 [01:13<01:44, 17.47s/it]"
     ]
    },
    {
     "name": "stdout",
     "output_type": "stream",
     "text": [
      "=== Client 11 Finished Training 2639 samples ===\n",
      "client:11 | Train Acc:74.38 | Train Loss:0.8958\n"
     ]
    },
    {
     "name": "stderr",
     "output_type": "stream",
     "text": [
      " 50%|█████     | 5/10 [01:26<01:20, 16.10s/it]"
     ]
    },
    {
     "name": "stdout",
     "output_type": "stream",
     "text": [
      "=== Client 13 Finished Training 3010 samples ===\n",
      "client:13 | Train Acc:46.11 | Train Loss:2.1123\n"
     ]
    },
    {
     "name": "stderr",
     "output_type": "stream",
     "text": [
      " 60%|██████    | 6/10 [01:55<01:21, 20.32s/it]"
     ]
    },
    {
     "name": "stdout",
     "output_type": "stream",
     "text": [
      "=== Client 24 Finished Training 6299 samples ===\n",
      "client:24 | Train Acc:57.41 | Train Loss:1.4392\n"
     ]
    },
    {
     "name": "stderr",
     "output_type": "stream",
     "text": [
      " 70%|███████   | 7/10 [02:09<00:54, 18.15s/it]"
     ]
    },
    {
     "name": "stdout",
     "output_type": "stream",
     "text": [
      "=== Client 17 Finished Training 3008 samples ===\n",
      "client:17 | Train Acc:69.75 | Train Loss:1.0268\n"
     ]
    },
    {
     "name": "stderr",
     "output_type": "stream",
     "text": [
      " 80%|████████  | 8/10 [02:23<00:33, 16.84s/it]"
     ]
    },
    {
     "name": "stdout",
     "output_type": "stream",
     "text": [
      "=== Client 1 Finished Training 3071 samples ===\n",
      "client:1 | Train Acc:75.28 | Train Loss:0.8570\n"
     ]
    },
    {
     "name": "stderr",
     "output_type": "stream",
     "text": [
      " 90%|█████████ | 9/10 [02:50<00:20, 20.26s/it]"
     ]
    },
    {
     "name": "stdout",
     "output_type": "stream",
     "text": [
      "=== Client 28 Finished Training 6100 samples ===\n",
      "client:28 | Train Acc:68.13 | Train Loss:1.0643\n"
     ]
    },
    {
     "name": "stderr",
     "output_type": "stream",
     "text": [
      "                                               "
     ]
    },
    {
     "name": "stdout",
     "output_type": "stream",
     "text": [
      "=== Client 23 Finished Training 3216 samples ===\n",
      "client:23 | Train Acc:75.40 | Train Loss:0.8414\n",
      "TEST WITH SP!\n",
      "\n",
      "client:19 | Test Acc:65.17 | Test Loss:1.1704\n",
      "client:8 | Test Acc:58.36 | Test Loss:1.5119\n",
      "client:2 | Test Acc:74.37 | Test Loss:0.8976\n",
      "client:11 | Test Acc:68.65 | Test Loss:1.1138\n",
      "client:13 | Test Acc:49.27 | Test Loss:1.9840\n",
      "client:24 | Test Acc:54.58 | Test Loss:1.6731\n",
      "client:17 | Test Acc:65.12 | Test Loss:1.2581\n"
     ]
    },
    {
     "name": "stderr",
     "output_type": "stream",
     "text": [
      "                                      "
     ]
    },
    {
     "name": "stdout",
     "output_type": "stream",
     "text": [
      "client:1 | Test Acc:71.51 | Test Loss:1.0575\n",
      "client:28 | Test Acc:65.75 | Test Loss:1.1651\n",
      "client:23 | Test Acc:70.30 | Test Loss:1.0900\n"
     ]
    },
    {
     "name": "stderr",
     "output_type": "stream",
     "text": [
      "  0%|          | 0/10 [00:00<?, ?it/s]"
     ]
    },
    {
     "name": "stdout",
     "output_type": "stream",
     "text": [
      "Global Test Result | Acc:64.18, Loss:1.2511\n",
      "===== ROUND 9 START! =====\n",
      "\n",
      "CLIENTS ['4' '28' '9' '2' '35' '31' '27' '12' '20' '11'] ARE SELECTED!\n",
      "\n",
      "TRAIN WITH SP!\n",
      "\n"
     ]
    },
    {
     "name": "stderr",
     "output_type": "stream",
     "text": [
      " 10%|█         | 1/10 [00:22<03:23, 22.62s/it]"
     ]
    },
    {
     "name": "stdout",
     "output_type": "stream",
     "text": [
      "=== Client 4 Finished Training 4955 samples ===\n",
      "client:4 | Train Acc:73.82 | Train Loss:0.8717\n"
     ]
    },
    {
     "name": "stderr",
     "output_type": "stream",
     "text": [
      " 20%|██        | 2/10 [00:50<03:24, 25.59s/it]"
     ]
    },
    {
     "name": "stdout",
     "output_type": "stream",
     "text": [
      "=== Client 28 Finished Training 6100 samples ===\n",
      "client:28 | Train Acc:70.41 | Train Loss:0.9833\n"
     ]
    },
    {
     "name": "stderr",
     "output_type": "stream",
     "text": [
      " 30%|███       | 3/10 [01:17<03:04, 26.33s/it]"
     ]
    },
    {
     "name": "stdout",
     "output_type": "stream",
     "text": [
      "=== Client 9 Finished Training 5974 samples ===\n",
      "client:9 | Train Acc:72.31 | Train Loss:0.9238\n"
     ]
    },
    {
     "name": "stderr",
     "output_type": "stream",
     "text": [
      " 40%|████      | 4/10 [01:39<02:28, 24.76s/it]"
     ]
    },
    {
     "name": "stdout",
     "output_type": "stream",
     "text": [
      "=== Client 2 Finished Training 4941 samples ===\n",
      "client:2 | Train Acc:80.15 | Train Loss:0.6957\n"
     ]
    },
    {
     "name": "stderr",
     "output_type": "stream",
     "text": [
      " 50%|█████     | 5/10 [01:53<01:43, 20.80s/it]"
     ]
    },
    {
     "name": "stdout",
     "output_type": "stream",
     "text": [
      "=== Client 35 Finished Training 3030 samples ===\n",
      "client:35 | Train Acc:72.84 | Train Loss:0.8990\n"
     ]
    },
    {
     "name": "stderr",
     "output_type": "stream",
     "text": [
      " 60%|██████    | 6/10 [02:03<01:08, 17.16s/it]"
     ]
    },
    {
     "name": "stdout",
     "output_type": "stream",
     "text": [
      "=== Client 31 Finished Training 2677 samples ===\n",
      "client:31 | Train Acc:81.73 | Train Loss:0.6500\n"
     ]
    },
    {
     "name": "stderr",
     "output_type": "stream",
     "text": [
      " 70%|███████   | 7/10 [02:32<01:02, 20.90s/it]"
     ]
    },
    {
     "name": "stdout",
     "output_type": "stream",
     "text": [
      "=== Client 27 Finished Training 6294 samples ===\n",
      "client:27 | Train Acc:70.54 | Train Loss:0.9745\n"
     ]
    },
    {
     "name": "stderr",
     "output_type": "stream",
     "text": [
      " 80%|████████  | 8/10 [02:58<00:45, 22.55s/it]"
     ]
    },
    {
     "name": "stdout",
     "output_type": "stream",
     "text": [
      "=== Client 12 Finished Training 5760 samples ===\n",
      "client:12 | Train Acc:74.24 | Train Loss:0.8539\n"
     ]
    },
    {
     "name": "stderr",
     "output_type": "stream",
     "text": [
      " 90%|█████████ | 9/10 [03:12<00:19, 19.87s/it]"
     ]
    },
    {
     "name": "stdout",
     "output_type": "stream",
     "text": [
      "=== Client 20 Finished Training 3102 samples ===\n",
      "client:20 | Train Acc:74.05 | Train Loss:0.8603\n"
     ]
    },
    {
     "name": "stderr",
     "output_type": "stream",
     "text": [
      "                                               "
     ]
    },
    {
     "name": "stdout",
     "output_type": "stream",
     "text": [
      "=== Client 11 Finished Training 2639 samples ===\n",
      "client:11 | Train Acc:77.79 | Train Loss:0.7575\n",
      "TEST WITH SP!\n",
      "\n",
      "client:4 | Test Acc:73.21 | Test Loss:0.9330\n",
      "client:28 | Test Acc:69.96 | Test Loss:1.0739\n",
      "client:9 | Test Acc:72.00 | Test Loss:0.9720\n",
      "client:2 | Test Acc:76.88 | Test Loss:0.8055\n",
      "client:35 | Test Acc:66.09 | Test Loss:1.2309\n",
      "client:31 | Test Acc:75.90 | Test Loss:0.9789\n"
     ]
    },
    {
     "name": "stderr",
     "output_type": "stream",
     "text": [
      "                                      "
     ]
    },
    {
     "name": "stdout",
     "output_type": "stream",
     "text": [
      "client:27 | Test Acc:72.21 | Test Loss:1.0398\n",
      "client:12 | Test Acc:71.60 | Test Loss:0.9595\n",
      "client:20 | Test Acc:64.23 | Test Loss:1.4727\n",
      "client:11 | Test Acc:72.28 | Test Loss:0.9858\n"
     ]
    },
    {
     "name": "stderr",
     "output_type": "stream",
     "text": [
      "  0%|          | 0/10 [00:00<?, ?it/s]"
     ]
    },
    {
     "name": "stdout",
     "output_type": "stream",
     "text": [
      "Global Test Result | Acc:66.56, Loss:1.1702\n",
      "===== ROUND 10 START! =====\n",
      "\n",
      "CLIENTS ['13' '32' '34' '8' '31' '10' '29' '17' '33' '5'] ARE SELECTED!\n",
      "\n",
      "TRAIN WITH SP!\n",
      "\n"
     ]
    },
    {
     "name": "stderr",
     "output_type": "stream",
     "text": [
      " 10%|█         | 1/10 [00:13<02:03, 13.71s/it]"
     ]
    },
    {
     "name": "stdout",
     "output_type": "stream",
     "text": [
      "=== Client 13 Finished Training 3010 samples ===\n",
      "client:13 | Train Acc:28.77 | Train Loss:4.1838\n"
     ]
    },
    {
     "name": "stderr",
     "output_type": "stream",
     "text": [
      " 20%|██        | 2/10 [00:27<01:49, 13.70s/it]"
     ]
    },
    {
     "name": "stdout",
     "output_type": "stream",
     "text": [
      "=== Client 32 Finished Training 3022 samples ===\n",
      "client:32 | Train Acc:82.13 | Train Loss:0.6281\n"
     ]
    },
    {
     "name": "stderr",
     "output_type": "stream",
     "text": [
      " 30%|███       | 3/10 [00:41<01:35, 13.67s/it]"
     ]
    },
    {
     "name": "stdout",
     "output_type": "stream",
     "text": [
      "=== Client 34 Finished Training 3002 samples ===\n",
      "client:34 | Train Acc:80.28 | Train Loss:0.6359\n"
     ]
    },
    {
     "name": "stderr",
     "output_type": "stream",
     "text": [
      " 40%|████      | 4/10 [01:06<01:51, 18.50s/it]"
     ]
    },
    {
     "name": "stdout",
     "output_type": "stream",
     "text": [
      "=== Client 8 Finished Training 5711 samples ===\n",
      "client:8 | Train Acc:74.44 | Train Loss:0.8486\n"
     ]
    },
    {
     "name": "stderr",
     "output_type": "stream",
     "text": [
      " 50%|█████     | 5/10 [01:19<01:21, 16.21s/it]"
     ]
    },
    {
     "name": "stdout",
     "output_type": "stream",
     "text": [
      "=== Client 31 Finished Training 2677 samples ===\n",
      "client:31 | Train Acc:80.99 | Train Loss:0.6651\n"
     ]
    },
    {
     "name": "stderr",
     "output_type": "stream",
     "text": [
      " 60%|██████    | 6/10 [01:45<01:19, 19.84s/it]"
     ]
    },
    {
     "name": "stdout",
     "output_type": "stream",
     "text": [
      "=== Client 10 Finished Training 5915 samples ===\n",
      "client:10 | Train Acc:71.87 | Train Loss:0.9386\n"
     ]
    },
    {
     "name": "stderr",
     "output_type": "stream",
     "text": [
      " 70%|███████   | 7/10 [01:58<00:52, 17.35s/it]"
     ]
    },
    {
     "name": "stdout",
     "output_type": "stream",
     "text": [
      "=== Client 29 Finished Training 2676 samples ===\n",
      "client:29 | Train Acc:81.50 | Train Loss:0.6290\n"
     ]
    },
    {
     "name": "stderr",
     "output_type": "stream",
     "text": [
      " 80%|████████  | 8/10 [02:11<00:32, 16.17s/it]"
     ]
    },
    {
     "name": "stdout",
     "output_type": "stream",
     "text": [
      "=== Client 17 Finished Training 3008 samples ===\n",
      "client:17 | Train Acc:71.51 | Train Loss:0.9594\n"
     ]
    },
    {
     "name": "stderr",
     "output_type": "stream",
     "text": [
      " 90%|█████████ | 9/10 [02:25<00:15, 15.43s/it]"
     ]
    },
    {
     "name": "stdout",
     "output_type": "stream",
     "text": [
      "=== Client 33 Finished Training 3037 samples ===\n",
      "client:33 | Train Acc:77.38 | Train Loss:0.7628\n"
     ]
    },
    {
     "name": "stderr",
     "output_type": "stream",
     "text": [
      "                                               "
     ]
    },
    {
     "name": "stdout",
     "output_type": "stream",
     "text": [
      "=== Client 5 Finished Training 4751 samples ===\n",
      "client:5 | Train Acc:78.91 | Train Loss:0.7091\n",
      "TEST WITH SP!\n",
      "\n",
      "client:13 | Test Acc:26.53 | Test Loss:4.3846\n",
      "client:32 | Test Acc:77.46 | Test Loss:0.8324\n",
      "client:34 | Test Acc:72.46 | Test Loss:0.9960\n",
      "client:8 | Test Acc:72.76 | Test Loss:1.0034\n",
      "client:31 | Test Acc:76.55 | Test Loss:0.9238\n",
      "client:10 | Test Acc:70.66 | Test Loss:1.0772\n",
      "client:29 | Test Acc:73.87 | Test Loss:0.9328\n",
      "client:17 | Test Acc:67.44 | Test Loss:1.2062\n"
     ]
    },
    {
     "name": "stderr",
     "output_type": "stream",
     "text": [
      "                                      "
     ]
    },
    {
     "name": "stdout",
     "output_type": "stream",
     "text": [
      "client:33 | Test Acc:75.00 | Test Loss:0.9275\n",
      "client:5 | Test Acc:75.79 | Test Loss:0.9208\n"
     ]
    },
    {
     "name": "stderr",
     "output_type": "stream",
     "text": [
      "\r"
     ]
    },
    {
     "name": "stdout",
     "output_type": "stream",
     "text": [
      "Global Test Result | Acc:67.20, Loss:1.1167\n"
     ]
    }
   ],
   "source": [
    "for i in range(10):\n",
    "    print(f'===== ROUND {i+1} START! =====\\n')\n",
    "    server.train_federated_model()\n",
    "    server.global_test()\n",
    "        "
   ]
  },
  {
   "cell_type": "code",
   "execution_count": 49,
   "metadata": {},
   "outputs": [
    {
     "data": {
      "text/plain": [
       "tensor([[-0.0308,  0.0339,  0.0247,  ..., -0.0260,  0.0069,  0.0245],\n",
       "        [ 0.0048, -0.0336,  0.0300,  ...,  0.0076, -0.0006,  0.0174],\n",
       "        [ 0.0171, -0.0087, -0.0146,  ...,  0.0111,  0.0015, -0.0210],\n",
       "        ...,\n",
       "        [ 0.0073,  0.0097, -0.0242,  ..., -0.0315, -0.0354,  0.0192],\n",
       "        [-0.0113, -0.0231,  0.0196,  ..., -0.0013, -0.0307,  0.0232],\n",
       "        [ 0.0082, -0.0187, -0.0180,  ..., -0.0172, -0.0092, -0.0107]])"
      ]
     },
     "execution_count": 49,
     "metadata": {},
     "output_type": "execute_result"
    }
   ],
   "source": [
    "server.global_model.state_dict()['fc1.weight']"
   ]
  },
  {
   "cell_type": "code",
   "execution_count": 50,
   "metadata": {},
   "outputs": [
    {
     "name": "stdout",
     "output_type": "stream",
     "text": [
      "Global Test Result | Acc:40.58, Loss:2.4326\n"
     ]
    }
   ],
   "source": [
    "server.global_test()"
   ]
  },
  {
   "cell_type": "code",
   "execution_count": 52,
   "metadata": {},
   "outputs": [
    {
     "name": "stdout",
     "output_type": "stream",
     "text": [
      "client:27 | Test Acc:49.37 | Test Loss:1.9029\n"
     ]
    }
   ],
   "source": [
    "server.clients['27'].local_test()"
   ]
  },
  {
   "cell_type": "code",
   "execution_count": 53,
   "metadata": {},
   "outputs": [
    {
     "name": "stdout",
     "output_type": "stream",
     "text": [
      "=== Client 27 Finished Training 6294 samples ===\n",
      "client:27 | Train Acc:62.42 | Train Loss:1.3118\n"
     ]
    }
   ],
   "source": [
    "server.clients['27'].local_train()"
   ]
  },
  {
   "cell_type": "code",
   "execution_count": 54,
   "metadata": {},
   "outputs": [
    {
     "name": "stdout",
     "output_type": "stream",
     "text": [
      "client:27 | Test Acc:60.93 | Test Loss:1.3687\n"
     ]
    }
   ],
   "source": [
    "server.clients['27'].local_test()"
   ]
  },
  {
   "cell_type": "code",
   "execution_count": 55,
   "metadata": {},
   "outputs": [
    {
     "data": {
      "text/plain": [
       "tensor([[-0.0308,  0.0339,  0.0247,  ..., -0.0260,  0.0069,  0.0245],\n",
       "        [ 0.0048, -0.0336,  0.0300,  ...,  0.0076, -0.0006,  0.0174],\n",
       "        [ 0.0171, -0.0087, -0.0146,  ...,  0.0111,  0.0015, -0.0210],\n",
       "        ...,\n",
       "        [ 0.0073,  0.0097, -0.0242,  ..., -0.0315, -0.0354,  0.0192],\n",
       "        [-0.0113, -0.0231,  0.0196,  ..., -0.0013, -0.0307,  0.0232],\n",
       "        [ 0.0082, -0.0187, -0.0180,  ..., -0.0172, -0.0092, -0.0107]])"
      ]
     },
     "execution_count": 55,
     "metadata": {},
     "output_type": "execute_result"
    }
   ],
   "source": [
    "server.global_model.state_dict()['fc1.weight']"
   ]
  },
  {
   "cell_type": "code",
   "execution_count": 56,
   "metadata": {},
   "outputs": [
    {
     "name": "stdout",
     "output_type": "stream",
     "text": [
      "Global Test Result | Acc:40.58, Loss:2.4326\n"
     ]
    }
   ],
   "source": [
    "server.global_test()"
   ]
  },
  {
   "cell_type": "code",
   "execution_count": 59,
   "metadata": {},
   "outputs": [
    {
     "data": {
      "text/plain": [
       "0.01"
      ]
     },
     "execution_count": 59,
     "metadata": {},
     "output_type": "execute_result"
    }
   ],
   "source": [
    "server.clients['27'].optimizer.param_groups[0]['lr']"
   ]
  },
  {
   "attachments": {},
   "cell_type": "markdown",
   "metadata": {},
   "source": [
    "# CLIENT"
   ]
  },
  {
   "cell_type": "code",
   "execution_count": 2,
   "metadata": {},
   "outputs": [],
   "source": [
    "from torch.optim import SGD\n",
    "\n",
    "class Client():\n",
    "    def __init__(self, client_id:str, model:nn.Module, data_info:dict=None, device:str=cfg.DEVICE):\n",
    "        self.id = client_id\n",
    "        #self.cfg = cfg\n",
    "        \n",
    "        self.__model = None\n",
    "        self.device = device\n",
    "        \n",
    "        self.train_info, self.test_info = data_info['train'], data_info['test'] # 함수화하기\n",
    "        self.trainset, self.testset = FEMNIST(self.train_info), FEMNIST(self.test_info)\n",
    "        \n",
    "    @property\n",
    "    def model(self):             \n",
    "        return self.__model\n",
    "\n",
    "    @model.setter\n",
    "    def model(self, model):\n",
    "        self.__model = model\n",
    "    \n",
    "    def __len__(self):\n",
    "        return len(self.trainset)\n",
    "    \n",
    "    def setup(self):\n",
    "        self.train_loader = DataLoader(self.trainset, batch_size=16, shuffle=True)\n",
    "        self.test_loader = DataLoader(self.testset, batch_size=16, shuffle=False)\n",
    "        self.optimizer = SGD(self.model.parameters(), lr=0.01)     # TODO: utils.get_optimizer(cfg['optim']:str)\n",
    "        self.criterion = nn.CrossEntropyLoss()                       # TODO: utils.get_loss(cfg['loss']:str)\n",
    "        self.epochs = 10\n",
    "    \n",
    "    def local_train(self)->None:\n",
    "        proc = os.getpid()\n",
    "        self.model.train()\n",
    "        self.model.to(self.device)\n",
    "        # TRAINING\n",
    "        for epoch in range(self.epochs):\n",
    "            for idx, batch in enumerate(self.train_loader):\n",
    "                self.optimizer.zero_grad()\n",
    "                X, Y = batch\n",
    "                X, Y = X.to(self.device), Y.to(self.device)\n",
    "                pred = self.model(X)\n",
    "                loss = self.criterion(pred, Y)\n",
    "                loss.backward()\n",
    "                self.optimizer.step()\n",
    "                if \"cuda\" in self.device : torch.cuda.empty_cache()\n",
    "        # TESTING\n",
    "        self.model.eval()\n",
    "        self.model.to(self.device)\n",
    "        with torch.no_grad():\n",
    "            loss_trace, result_pred, result_anno = [], [], []\n",
    "            for idx, batch in enumerate(self.train_loader):\n",
    "                X, Y = batch\n",
    "                X, Y = X.to(self.device), Y.to(self.device)\n",
    "                pred = self.model(X)\n",
    "                loss = self.criterion(pred, Y)\n",
    "                loss_trace.append(loss.to('cpu').detach().numpy())\n",
    "                pred_np  = pred.to('cpu').detach().numpy()\n",
    "                pred_np  = np.argmax(pred_np, axis=1).squeeze()\n",
    "                Y_np     = Y.to('cpu').detach().numpy().reshape(-1, 1).squeeze()\n",
    "                result_pred = np.hstack((result_pred, pred_np))\n",
    "                result_anno = np.hstack((result_anno, Y_np))\n",
    "                if \"cuda\" in self.device : torch.cuda.empty_cache()\n",
    "            train_acc = metrics.accuracy_score(y_true=result_anno, y_pred=result_pred)\n",
    "            train_loss = np.average(loss_trace)\n",
    "            self.model.to('cpu')\n",
    "        \n",
    "        print(f'=== Process ID: {proc} | Client {self.id} Finished Training {len(self)} samples ===')\n",
    "        print(f'client:{self.id} | Train Acc:{train_acc*100:.2f} | Train Loss:{train_loss:.4f}')\n",
    "    \n",
    "    def local_test(self):\n",
    "        self.model.eval()\n",
    "        self.model.to(self.device)\n",
    "        with torch.no_grad():\n",
    "            loss_trace, result_pred, result_anno = [], [], []\n",
    "            for idx, batch in enumerate(self.test_loader):\n",
    "                X, Y = batch\n",
    "                X, Y = X.to(self.device), Y.to(self.device)\n",
    "                pred = self.model(X)\n",
    "                loss = self.criterion(pred, Y)\n",
    "                loss_trace.append(loss.to('cpu').detach().numpy())\n",
    "                pred_np  = pred.to('cpu').detach().numpy()\n",
    "                pred_np  = np.argmax(pred_np, axis=1).squeeze()\n",
    "                Y_np     = Y.to('cpu').detach().numpy().reshape(-1, 1).squeeze()\n",
    "                result_pred = np.hstack((result_pred, pred_np))\n",
    "                result_anno = np.hstack((result_anno, Y_np))\n",
    "                \n",
    "                if \"cuda\" in self.device : torch.cuda.empty_cache()\n",
    "                \n",
    "            test_acc = metrics.accuracy_score(y_true=result_anno, y_pred=result_pred)\n",
    "            test_loss = np.average(loss_trace)\n",
    "            print(f'client:{self.id} | Test Acc:{test_acc*100:.2f} | Test Loss:{test_loss:.4f}')\n",
    "            self.model.to('cpu')"
   ]
  },
  {
   "attachments": {},
   "cell_type": "markdown",
   "metadata": {},
   "source": [
    "# SERVER"
   ]
  },
  {
   "cell_type": "code",
   "execution_count": 3,
   "metadata": {},
   "outputs": [],
   "source": [
    "class Server():\n",
    "    def __init__(self, DM_dict:dict, algorithm:str=None):\n",
    "        self.train_DM = DM_dict['train']\n",
    "        self.test_DM = DM_dict['test']\n",
    "        \n",
    "        self.clients = None\n",
    "        self.device = cfg.DEVICE\n",
    "        \n",
    "        self.global_model = Net()\n",
    "        \n",
    "        self.criterion = nn.CrossEntropyLoss()              # TODO: utils.get_loss(cfg['loss']:str)\n",
    "        \n",
    "        self.Algorithm = FedAvg.FedAvg                      # FedAVG 같은 aggrrgation method 들어감 TODO: utils.get_algortihm() 작성\n",
    "        self.received_models = None                         # Client.upload_model() 결과가 여기 들어감\n",
    "        \n",
    "        self.mp_flag = True\n",
    "\n",
    "    def setup(self):\n",
    "        self.clients = self.create_clients()\n",
    "        self.data = FEMNIST(self.test_DM.get_global_testset())\n",
    "        self.dataloader = DataLoader(self.data, batch_size=256, shuffle=False)\n",
    "        \n",
    "        self.transmit_model()\n",
    "        self.setup_clients()\n",
    "        \n",
    "        \n",
    "    def create_clients(self, n_users:int=100):\n",
    "        self.user_ids = self.test_DM.users\n",
    "        self.user_ids = np.random.choice(self.user_ids, n_users, replace=False)\n",
    "        clients = {}\n",
    "        for user in self.user_ids:\n",
    "            data_info = {'train':self.train_DM.get_user_info(user),\\\n",
    "                         'test':self.test_DM.get_user_info(user)}\n",
    "            clients[user] = Client(client_id=user, model=self.global_model, data_info=data_info)\n",
    "        return clients\n",
    "    \n",
    "    def setup_clients(self)->None:\n",
    "        for k, client in tqdm(enumerate(self.clients), leave=False):\n",
    "            self.clients[client].setup()\n",
    "    \n",
    "    def transmit_model(self, sampled_clients:list=None)->None:\n",
    "        if sampled_clients == None:\n",
    "            for client in tqdm(self.clients, leave=False):\n",
    "                self.clients[client].model = copy.deepcopy(self.global_model)\n",
    "        else:\n",
    "            for client in tqdm(sampled_clients, leave=False):\n",
    "                self.clients[client].model = copy.deepcopy(self.global_model)\n",
    "\n",
    "        \n",
    "    def sample_clients(self, n_participant:int=50)->np.array:\n",
    "        assert n_participant <= len(self.user_ids), \"Check 'n_participant <= len(self.clients)'\"\n",
    "        return np.random.choice(self.user_ids, n_participant, replace=False) # 입력된 수의 유저를 추출해서 반환\n",
    "\n",
    "    def train_selected_clients(self, sampled_clients:list)->None:\n",
    "        total_sample = 0\n",
    "        for client in tqdm(sampled_clients, leave=False):\n",
    "            self.clients[client].local_train()\n",
    "            total_sample += len(self.clients[client])\n",
    "\n",
    "    def mp_train_selected_clients(self, client:str)->None:\n",
    "        self.clients[client].local_train()\n",
    "        n_sample = len(self.clients[client])\n",
    "        return n_sample\n",
    "    \n",
    "    def test_selected_models(self, sampled_clients):\n",
    "        for client in sampled_clients:\n",
    "            self.clients[client].local_test()\n",
    "\n",
    "    def mp_test_selected_models(self, client):\n",
    "        self.clients[client].local_test()\n",
    "    \n",
    "    def average_model(self, sampled_clients, coefficients):\n",
    "        averaged_weights = OrderedDict()\n",
    "        for it, client in tqdm(enumerate(sampled_clients), leave=False):\n",
    "            local_weights = self.clients[client].model.state_dict()\n",
    "            for key in self.global_model.state_dict().keys():\n",
    "                if it == 0:\n",
    "                    averaged_weights[key] = coefficients[it] * local_weights[key]\n",
    "                else:\n",
    "                    averaged_weights[key] += coefficients[it] * local_weights[key]\n",
    "        self.global_model.load_state_dict(averaged_weights)\n",
    "    \n",
    "    def update_model(self, train_result:dict, layers:list=None):\n",
    "        self.received_models, num_samples = [], []\n",
    "        for result in train_result:\n",
    "            self.received_models.append(result['model'])\n",
    "            num_samples.append(result['num_sample'])\n",
    "        state = self.Algorithm(self.received_models, num_samples, layers)\n",
    "        self.global_model.load_state_dict(state)\n",
    "\n",
    "    def train_federated_model(self):\n",
    "        sampled_clients = self.sample_clients()\n",
    "        \n",
    "        if self.mp_flag:\n",
    "            with pool.ThreadPool(processes=cpu_count() - 1) as workhorse:\n",
    "                selected_total_size = workhorse.map(self.mp_train_selected_clients, sampled_clients)\n",
    "            selected_total_size = sum(selected_total_size)\n",
    "        else:\n",
    "            selected_total_size = self.train_selected_clients(sampled_clients)\n",
    "\n",
    "        if self.mp_flag:\n",
    "            with pool.ThreadPool(processes=cpu_count() - 1) as workhorse:\n",
    "                workhorse.map(self.mp_test_selected_models, sampled_clients)\n",
    "        else:\n",
    "            self.test_selected_models(sampled_clients)\n",
    "        \n",
    "        mixing_coefficients = [len(self.clients[client]) / selected_total_size for client in sampled_clients]\n",
    "        \n",
    "        self.average_model(sampled_clients, mixing_coefficients)\n",
    "        \n",
    "    def global_test(self):\n",
    "        self.global_model.eval()\n",
    "        self.global_model.to(self.device)\n",
    "        \n",
    "        with torch.no_grad():\n",
    "            loss_trace, result_pred, result_anno = [], [], []\n",
    "            for idx, batch in enumerate(self.dataloader):\n",
    "                X, Y = batch\n",
    "                X, Y = X.to(self.device), Y.to(self.device)\n",
    "                pred = self.global_model(X)\n",
    "                loss = self.criterion(pred, Y)\n",
    "                loss_trace.append(loss.to('cpu').detach().numpy())\n",
    "                pred_np  = pred.to('cpu').detach().numpy()\n",
    "                pred_np  = np.argmax(pred_np, axis=1).squeeze()\n",
    "                Y_np     = Y.to('cpu').detach().numpy().reshape(-1, 1).squeeze()\n",
    "                result_pred = np.hstack((result_pred, pred_np))\n",
    "                result_anno = np.hstack((result_anno, Y_np))\n",
    "            self.acc = metrics.accuracy_score(y_true=result_anno, y_pred=result_pred)\n",
    "            self.test_loss = np.average(loss_trace)\n",
    "            print(f'Global Test Result | Acc:{self.acc*100:.2f}, Loss:{self.test_loss:.4f}')\n",
    "            self.global_model.to(self.device)"
   ]
  },
  {
   "cell_type": "code",
   "execution_count": 4,
   "metadata": {},
   "outputs": [
    {
     "name": "stdout",
     "output_type": "stream",
     "text": [
      "DATA READY\n"
     ]
    }
   ],
   "source": [
    "PATH = cfg.DATAPATH['femnist']\n",
    "    \n",
    "file_dict = get_files(PATH)\n",
    "    \n",
    "TRAIN_DM = DataManager(file_dict['train'], is_train=True)\n",
    "TEST_DM = DataManager(file_dict['test'], is_train=False)\n",
    "DM_dict = {'train':TRAIN_DM,\n",
    "            'test':TEST_DM}\n",
    "print(\"DATA READY\")"
   ]
  },
  {
   "cell_type": "code",
   "execution_count": null,
   "metadata": {},
   "outputs": [],
   "source": [
    "server = Server(DM_dict)\n",
    "#server.create_clients()\n",
    "server.setup()\n",
    "for i in range(100):\n",
    "    server.train_federated_model()\n",
    "    server.global_test()\n"
   ]
  },
  {
   "cell_type": "code",
   "execution_count": null,
   "metadata": {},
   "outputs": [],
   "source": [
    "file = server.train_DM.files[0]\n",
    "with open(file) as f:\n",
    "    data = json.load(f)\n",
    "data\n"
   ]
  },
  {
   "cell_type": "code",
   "execution_count": 41,
   "metadata": {},
   "outputs": [
    {
     "data": {
      "text/plain": [
       "(141, 784)"
      ]
     },
     "execution_count": 41,
     "metadata": {},
     "output_type": "execute_result"
    }
   ],
   "source": [
    "np.shape(data['user_data'][data['users'][0]]['x'])"
   ]
  },
  {
   "cell_type": "code",
   "execution_count": 67,
   "metadata": {},
   "outputs": [],
   "source": [
    "class DataManager():\n",
    "    def __init__(self, files:list, is_train:bool=True):\n",
    "        self.files = files\n",
    "        self.is_train = is_train\n",
    "        self.users, self.data = [], {}\n",
    "        if not self.is_train:\n",
    "            self.global_test_data = {'x':[], 'y':[]}\n",
    "        \n",
    "        for idx, file in enumerate(self.files):\n",
    "            idx = str(idx)\n",
    "            self.data[idx] = {'x':[], 'y':[]}\n",
    "            with open(file) as f:\n",
    "                data = json.load(f)\n",
    "                self.users.append(idx)\n",
    "\n",
    "                for user in data['users']:              # 각 유저의 data 저장\n",
    "                    self.data[idx]['x'] = self.data[idx]['x'] + data['user_data'][user]['x']\n",
    "                    self.data[idx]['y'] = self.data[idx]['y'] + data['user_data'][user]['y']\n",
    "                    \n",
    "                if not self.is_train:                   # test dataset인 경우 global evaluation 위해서 모든 데이터셋 저장\n",
    "                    for user in data['users']:\n",
    "                        self.global_test_data['x'] = self.global_test_data['x'] + data['user_data'][user]['x']\n",
    "                        self.global_test_data['y'] = self.global_test_data['y'] + data['user_data'][user]['y']\n",
    "\n",
    "class FEMNIST(Dataset):\n",
    "    def __init__(self, data:dict):\n",
    "        self.data = data\n",
    "        self.data['x'] = np.array(data['x'])\n",
    "        self.data['y'] = np.array(data['y'])\n",
    "        \n",
    "    def __getitem__(self, idx):\n",
    "        #self.X = torch.tensor(self.data['x'][idx,:].reshape(1, 28, 28)).float()\n",
    "        self.X = torch.tensor(self.data['x'][idx,:]).float()\n",
    "        self.Y = torch.tensor(self.data['y'][idx]).long()\n",
    "        return self.X, self.Y\n",
    "\n",
    "    def __len__(self):\n",
    "        return len(self.data['y'])"
   ]
  },
  {
   "cell_type": "code",
   "execution_count": 53,
   "metadata": {},
   "outputs": [],
   "source": [
    "PATH = '../leaf/data/femnist/data/train'\n",
    "files = [os.path.join(PATH, file) for file in os.listdir(PATH) if file.endswith('.json')]\n",
    "files.sort()\n",
    "\n",
    "DM = DataManager(files, is_train=False)"
   ]
  },
  {
   "cell_type": "code",
   "execution_count": 49,
   "metadata": {},
   "outputs": [
    {
     "data": {
      "text/plain": [
       "(351, 784)"
      ]
     },
     "execution_count": 49,
     "metadata": {},
     "output_type": "execute_result"
    }
   ],
   "source": [
    "np.shape(DM.data['1']['x'])"
   ]
  },
  {
   "cell_type": "code",
   "execution_count": 66,
   "metadata": {},
   "outputs": [
    {
     "data": {
      "text/plain": [
       "(2754, 784)"
      ]
     },
     "execution_count": 66,
     "metadata": {},
     "output_type": "execute_result"
    }
   ],
   "source": [
    "np.shape(DM.data['0']['x'])"
   ]
  },
  {
   "cell_type": "code",
   "execution_count": 68,
   "metadata": {},
   "outputs": [],
   "source": [
    "dataset = FEMNIST(DM.data['0'])"
   ]
  },
  {
   "cell_type": "code",
   "execution_count": 69,
   "metadata": {},
   "outputs": [
    {
     "data": {
      "text/plain": [
       "(tensor([1.0000, 1.0000, 1.0000, 1.0000, 1.0000, 1.0000, 1.0000, 1.0000, 1.0000,\n",
       "         1.0000, 1.0000, 1.0000, 1.0000, 1.0000, 1.0000, 1.0000, 1.0000, 1.0000,\n",
       "         1.0000, 1.0000, 1.0000, 1.0000, 1.0000, 1.0000, 1.0000, 1.0000, 1.0000,\n",
       "         1.0000, 1.0000, 1.0000, 1.0000, 1.0000, 1.0000, 1.0000, 1.0000, 1.0000,\n",
       "         1.0000, 1.0000, 1.0000, 1.0000, 1.0000, 1.0000, 1.0000, 1.0000, 1.0000,\n",
       "         1.0000, 1.0000, 1.0000, 1.0000, 1.0000, 1.0000, 1.0000, 1.0000, 1.0000,\n",
       "         1.0000, 1.0000, 1.0000, 1.0000, 1.0000, 1.0000, 1.0000, 1.0000, 1.0000,\n",
       "         1.0000, 1.0000, 1.0000, 1.0000, 1.0000, 1.0000, 1.0000, 1.0000, 1.0000,\n",
       "         1.0000, 1.0000, 1.0000, 1.0000, 1.0000, 1.0000, 1.0000, 1.0000, 1.0000,\n",
       "         1.0000, 1.0000, 1.0000, 1.0000, 1.0000, 1.0000, 1.0000, 1.0000, 1.0000,\n",
       "         1.0000, 1.0000, 1.0000, 1.0000, 1.0000, 1.0000, 1.0000, 1.0000, 1.0000,\n",
       "         1.0000, 1.0000, 1.0000, 1.0000, 1.0000, 1.0000, 1.0000, 1.0000, 1.0000,\n",
       "         1.0000, 1.0000, 1.0000, 1.0000, 1.0000, 1.0000, 1.0000, 1.0000, 1.0000,\n",
       "         1.0000, 1.0000, 1.0000, 1.0000, 1.0000, 1.0000, 1.0000, 1.0000, 1.0000,\n",
       "         1.0000, 1.0000, 1.0000, 1.0000, 1.0000, 1.0000, 1.0000, 1.0000, 1.0000,\n",
       "         1.0000, 1.0000, 1.0000, 1.0000, 1.0000, 1.0000, 1.0000, 1.0000, 1.0000,\n",
       "         1.0000, 1.0000, 1.0000, 1.0000, 1.0000, 1.0000, 1.0000, 1.0000, 1.0000,\n",
       "         1.0000, 1.0000, 1.0000, 1.0000, 1.0000, 1.0000, 1.0000, 1.0000, 1.0000,\n",
       "         1.0000, 1.0000, 1.0000, 1.0000, 1.0000, 1.0000, 1.0000, 1.0000, 1.0000,\n",
       "         1.0000, 1.0000, 1.0000, 1.0000, 1.0000, 1.0000, 1.0000, 1.0000, 1.0000,\n",
       "         1.0000, 0.9961, 0.9961, 1.0000, 1.0000, 1.0000, 1.0000, 1.0000, 1.0000,\n",
       "         1.0000, 1.0000, 1.0000, 1.0000, 1.0000, 1.0000, 1.0000, 1.0000, 1.0000,\n",
       "         1.0000, 1.0000, 1.0000, 1.0000, 1.0000, 1.0000, 1.0000, 1.0000, 1.0000,\n",
       "         1.0000, 1.0000, 1.0000, 1.0000, 1.0000, 1.0000, 1.0000, 1.0000, 1.0000,\n",
       "         1.0000, 1.0000, 1.0000, 1.0000, 1.0000, 1.0000, 1.0000, 1.0000, 1.0000,\n",
       "         1.0000, 1.0000, 1.0000, 1.0000, 1.0000, 1.0000, 1.0000, 1.0000, 1.0000,\n",
       "         1.0000, 0.9961, 0.9961, 0.9412, 0.8824, 1.0000, 0.9961, 1.0000, 1.0000,\n",
       "         1.0000, 1.0000, 1.0000, 1.0000, 1.0000, 1.0000, 1.0000, 1.0000, 1.0000,\n",
       "         1.0000, 1.0000, 1.0000, 1.0000, 1.0000, 1.0000, 1.0000, 1.0000, 1.0000,\n",
       "         1.0000, 1.0000, 0.9882, 1.0000, 0.4863, 0.5255, 1.0000, 0.9843, 1.0000,\n",
       "         1.0000, 1.0000, 1.0000, 1.0000, 1.0000, 1.0000, 1.0000, 1.0000, 1.0000,\n",
       "         1.0000, 1.0000, 1.0000, 1.0000, 1.0000, 1.0000, 1.0000, 1.0000, 1.0000,\n",
       "         1.0000, 1.0000, 0.9961, 0.9961, 0.9647, 0.1333, 0.8627, 1.0000, 0.9922,\n",
       "         1.0000, 1.0000, 1.0000, 1.0000, 1.0000, 1.0000, 1.0000, 1.0000, 1.0000,\n",
       "         1.0000, 1.0000, 1.0000, 1.0000, 1.0000, 1.0000, 1.0000, 1.0000, 1.0000,\n",
       "         1.0000, 1.0000, 1.0000, 0.9882, 1.0000, 0.4824, 0.2588, 1.0000, 0.9882,\n",
       "         0.9961, 1.0000, 1.0000, 1.0000, 1.0000, 1.0000, 1.0000, 1.0000, 1.0000,\n",
       "         1.0000, 1.0000, 1.0000, 1.0000, 1.0000, 1.0000, 1.0000, 1.0000, 1.0000,\n",
       "         1.0000, 1.0000, 1.0000, 0.9882, 0.9961, 0.8000, 0.1216, 0.7216, 0.9961,\n",
       "         1.0000, 1.0000, 1.0000, 1.0000, 1.0000, 1.0000, 1.0000, 1.0000, 1.0000,\n",
       "         1.0000, 1.0000, 1.0000, 1.0000, 1.0000, 1.0000, 1.0000, 1.0000, 1.0000,\n",
       "         1.0000, 1.0000, 1.0000, 1.0000, 0.9922, 1.0000, 0.3098, 0.4902, 1.0000,\n",
       "         0.9882, 0.9529, 1.0000, 1.0000, 1.0000, 1.0000, 1.0000, 1.0000, 1.0000,\n",
       "         1.0000, 1.0000, 1.0000, 1.0000, 1.0000, 1.0000, 1.0000, 1.0000, 1.0000,\n",
       "         1.0000, 1.0000, 1.0000, 1.0000, 0.9922, 1.0000, 0.9059, 0.1059, 0.5412,\n",
       "         0.4392, 0.1294, 0.0039, 0.4039, 0.9686, 0.9922, 1.0000, 1.0000, 1.0000,\n",
       "         1.0000, 1.0000, 1.0000, 1.0000, 1.0000, 1.0000, 1.0000, 1.0000, 1.0000,\n",
       "         1.0000, 1.0000, 1.0000, 1.0000, 1.0000, 0.9882, 0.9529, 0.3569, 0.0000,\n",
       "         0.0000, 0.0275, 0.2667, 0.2863, 0.0000, 0.7804, 1.0000, 0.9922, 1.0000,\n",
       "         1.0000, 1.0000, 1.0000, 1.0000, 1.0000, 1.0000, 1.0000, 1.0000, 1.0000,\n",
       "         1.0000, 1.0000, 1.0000, 1.0000, 1.0000, 0.9922, 1.0000, 0.7882, 0.0000,\n",
       "         0.0118, 0.3765, 0.9020, 1.0000, 0.6196, 0.1176, 0.9647, 0.9961, 0.9961,\n",
       "         1.0000, 1.0000, 1.0000, 1.0000, 1.0000, 1.0000, 1.0000, 1.0000, 1.0000,\n",
       "         1.0000, 1.0000, 1.0000, 1.0000, 1.0000, 1.0000, 0.9961, 0.9922, 0.9373,\n",
       "         0.2235, 0.0000, 0.1882, 0.0824, 0.0667, 0.0314, 0.5451, 1.0000, 0.9882,\n",
       "         1.0000, 1.0000, 1.0000, 1.0000, 1.0000, 1.0000, 1.0000, 1.0000, 1.0000,\n",
       "         1.0000, 1.0000, 1.0000, 1.0000, 1.0000, 1.0000, 1.0000, 1.0000, 0.9922,\n",
       "         1.0000, 0.8745, 0.3216, 0.1765, 0.2980, 0.4706, 0.8627, 1.0000, 0.9961,\n",
       "         1.0000, 1.0000, 1.0000, 1.0000, 1.0000, 1.0000, 1.0000, 1.0000, 1.0000,\n",
       "         1.0000, 1.0000, 1.0000, 1.0000, 1.0000, 1.0000, 1.0000, 1.0000, 1.0000,\n",
       "         1.0000, 0.9961, 1.0000, 1.0000, 1.0000, 1.0000, 1.0000, 1.0000, 0.9961,\n",
       "         1.0000, 1.0000, 1.0000, 1.0000, 1.0000, 1.0000, 1.0000, 1.0000, 1.0000,\n",
       "         1.0000, 1.0000, 1.0000, 1.0000, 1.0000, 1.0000, 1.0000, 1.0000, 1.0000,\n",
       "         1.0000, 1.0000, 1.0000, 0.9922, 0.9922, 0.9922, 0.9922, 0.9882, 0.9922,\n",
       "         1.0000, 1.0000, 1.0000, 1.0000, 1.0000, 1.0000, 1.0000, 1.0000, 1.0000,\n",
       "         1.0000, 1.0000, 1.0000, 1.0000, 1.0000, 1.0000, 1.0000, 1.0000, 1.0000,\n",
       "         1.0000, 1.0000, 1.0000, 1.0000, 1.0000, 1.0000, 1.0000, 1.0000, 1.0000,\n",
       "         1.0000, 1.0000, 1.0000, 1.0000, 1.0000, 1.0000, 1.0000, 1.0000, 1.0000,\n",
       "         1.0000, 1.0000, 1.0000, 1.0000, 1.0000, 1.0000, 1.0000, 1.0000, 1.0000,\n",
       "         1.0000, 1.0000, 1.0000, 1.0000, 1.0000, 1.0000, 1.0000, 1.0000, 1.0000,\n",
       "         1.0000, 1.0000, 1.0000, 1.0000, 1.0000, 1.0000, 1.0000, 1.0000, 1.0000,\n",
       "         1.0000, 1.0000, 1.0000, 1.0000, 1.0000, 1.0000, 1.0000, 1.0000, 1.0000,\n",
       "         1.0000, 1.0000, 1.0000, 1.0000, 1.0000, 1.0000, 1.0000, 1.0000, 1.0000,\n",
       "         1.0000, 1.0000, 1.0000, 1.0000, 1.0000, 1.0000, 1.0000, 1.0000, 1.0000,\n",
       "         1.0000, 1.0000, 1.0000, 1.0000, 1.0000, 1.0000, 1.0000, 1.0000, 1.0000,\n",
       "         1.0000, 1.0000, 1.0000, 1.0000, 1.0000, 1.0000, 1.0000, 1.0000, 1.0000,\n",
       "         1.0000, 1.0000, 1.0000, 1.0000, 1.0000, 1.0000, 1.0000, 1.0000, 1.0000,\n",
       "         1.0000, 1.0000, 1.0000, 1.0000, 1.0000, 1.0000, 1.0000, 1.0000, 1.0000,\n",
       "         1.0000, 1.0000, 1.0000, 1.0000, 1.0000, 1.0000, 1.0000, 1.0000, 1.0000,\n",
       "         1.0000, 1.0000, 1.0000, 1.0000, 1.0000, 1.0000, 1.0000, 1.0000, 1.0000,\n",
       "         1.0000, 1.0000, 1.0000, 1.0000, 1.0000, 1.0000, 1.0000, 1.0000, 1.0000,\n",
       "         1.0000, 1.0000, 1.0000, 1.0000, 1.0000, 1.0000, 1.0000, 1.0000, 1.0000,\n",
       "         1.0000, 1.0000, 1.0000, 1.0000, 1.0000, 1.0000, 1.0000, 1.0000, 1.0000,\n",
       "         1.0000, 1.0000, 1.0000, 1.0000, 1.0000, 1.0000, 1.0000, 1.0000, 1.0000,\n",
       "         1.0000, 1.0000, 1.0000, 1.0000, 1.0000, 1.0000, 1.0000, 1.0000, 1.0000,\n",
       "         1.0000, 1.0000, 1.0000, 1.0000, 1.0000, 1.0000, 1.0000, 1.0000, 1.0000,\n",
       "         1.0000, 1.0000, 1.0000, 1.0000, 1.0000, 1.0000, 1.0000, 1.0000, 1.0000,\n",
       "         1.0000]),\n",
       " tensor(6))"
      ]
     },
     "execution_count": 69,
     "metadata": {},
     "output_type": "execute_result"
    }
   ],
   "source": [
    "dataset[0]"
   ]
  }
 ],
 "metadata": {
  "kernelspec": {
   "display_name": "Python 3",
   "language": "python",
   "name": "python3"
  },
  "language_info": {
   "codemirror_mode": {
    "name": "ipython",
    "version": 3
   },
   "file_extension": ".py",
   "mimetype": "text/x-python",
   "name": "python",
   "nbconvert_exporter": "python",
   "pygments_lexer": "ipython3",
   "version": "3.8.10"
  },
  "orig_nbformat": 4,
  "vscode": {
   "interpreter": {
    "hash": "5b3ded1ccb95c1d9bd405e7b823d9e85424cde40fbb5985eb47e999ef50e15b4"
   }
  }
 },
 "nbformat": 4,
 "nbformat_minor": 2
}
